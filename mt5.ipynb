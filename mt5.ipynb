{
 "cells": [
  {
   "cell_type": "code",
   "execution_count": 1,
   "metadata": {},
   "outputs": [
    {
     "name": "stderr",
     "output_type": "stream",
     "text": [
      "/home/colin/miniconda3/envs/recsys/lib/python3.11/site-packages/tqdm/auto.py:21: TqdmWarning: IProgress not found. Please update jupyter and ipywidgets. See https://ipywidgets.readthedocs.io/en/stable/user_install.html\n",
      "  from .autonotebook import tqdm as notebook_tqdm\n",
      "You are using the default legacy behaviour of the <class 'transformers.models.t5.tokenization_t5.T5Tokenizer'>. This is expected, and simply means that the `legacy` (previous) behavior will be used so nothing changes for you. If you want to use the new behaviour, set `legacy=False`. This should only be set if you understand what it means, and thoroughly read the reason why this was added as explained in https://github.com/huggingface/transformers/pull/24565\n",
      "/home/colin/miniconda3/envs/recsys/lib/python3.11/site-packages/transformers/convert_slow_tokenizer.py:560: UserWarning: The sentencepiece tokenizer that you are converting to a fast tokenizer uses the byte fallback option which is not implemented in the fast tokenizers. In practice this means that the fast version of the tokenizer can produce unknown tokens whereas the sentencepiece version would have converted these unknown tokens into a sequence of byte tokens matching the original piece of text.\n",
      "  warnings.warn(\n"
     ]
    }
   ],
   "source": [
    "from transformers import AutoTokenizer, AutoModelForSeq2SeqLM\n",
    "\n",
    "# Load the tokenizer and model\n",
    "tokenizer = AutoTokenizer.from_pretrained(\"google/mt5-large\")\n",
    "model = AutoModelForSeq2SeqLM.from_pretrained(\"google/mt5-large\")\n"
   ]
  },
  {
   "cell_type": "code",
   "execution_count": 23,
   "metadata": {},
   "outputs": [
    {
     "name": "stdout",
     "output_type": "stream",
     "text": [
      "{'input_ids': [36339, 1], 'attention_mask': [1, 1]}\n",
      "{'input_ids': [432, 1], 'attention_mask': [1, 1]}\n",
      "{'input_ids': [448, 265, 1], 'attention_mask': [1, 1, 1]}\n",
      "{'input_ids': [375, 1], 'attention_mask': [1, 1]}\n",
      "{'input_ids': [3810, 1], 'attention_mask': [1, 1]}\n",
      "{'input_ids': [373, 1], 'attention_mask': [1, 1]}\n"
     ]
    }
   ],
   "source": [
    "print(tokenizer(\"yes\"))\n",
    "print(tokenizer(\"ja\"))\n",
    "print(tokenizer(\"nee\"))\n",
    "print(tokenizer(\"no\"))\n",
    "\n",
    "print(tokenizer(\"nej\"))\n",
    "print(tokenizer(\"og\"))\n"
   ]
  },
  {
   "cell_type": "code",
   "execution_count": 31,
   "metadata": {},
   "outputs": [
    {
     "name": "stdout",
     "output_type": "stream",
     "text": [
      "{'input_ids': tensor([[36339, 36339, 36339, 36339, 36339, 36339, 36339, 36339, 36339,     1]]), 'attention_mask': tensor([[1, 1, 1, 1, 1, 1, 1, 1, 1, 1]])}\n"
     ]
    }
   ],
   "source": [
    "input_text = \"yes yes yes yes yes yes yes yes yes\"\n",
    "\n",
    "# Tokenize the input text\n",
    "inputs = tokenizer(input_text, return_tensors=\"pt\")\n",
    "print(inputs)\n"
   ]
  },
  {
   "cell_type": "code",
   "execution_count": 32,
   "metadata": {},
   "outputs": [],
   "source": [
    "# Prepare decoder input ids (usually the start token)\n",
    "decoder_input_ids = tokenizer(\"\", return_tensors=\"pt\").input_ids\n",
    "\n",
    "# Forward pass with decoder input ids\n",
    "outputs = model.base_model(input_ids=inputs[\"input_ids\"], decoder_input_ids=decoder_input_ids)\n"
   ]
  },
  {
   "cell_type": "code",
   "execution_count": 33,
   "metadata": {},
   "outputs": [
    {
     "name": "stdout",
     "output_type": "stream",
     "text": [
      "torch.Size([1, 1, 250112])\n"
     ]
    }
   ],
   "source": [
    "logits = outputs.logits\n",
    "print(logits.shape)"
   ]
  },
  {
   "cell_type": "code",
   "execution_count": 34,
   "metadata": {},
   "outputs": [
    {
     "name": "stdout",
     "output_type": "stream",
     "text": [
      "logit yes tensor(-60.7300, grad_fn=<SelectBackward0>)\n",
      "logit no tensor(-59.6402, grad_fn=<SelectBackward0>)\n"
     ]
    }
   ],
   "source": [
    "print('logit yes', outputs.logits[0,0,36339])\n",
    "print('logit no',  outputs.logits[0,0,375])"
   ]
  },
  {
   "cell_type": "code",
   "execution_count": 35,
   "metadata": {},
   "outputs": [],
   "source": [
    "import torch\n",
    "def compute_rank_loss(logits_pos, logits_neg):\n",
    "    r_pos = torch.sigmoid(logits_pos)\n",
    "    r_neg = torch.sigmoid(logits_neg)\n",
    "    diff = torch.sigmoid(r_pos - r_neg)\n",
    "    return torch.log(1e-8 + torch.exp(diff))\n"
   ]
  },
  {
   "cell_type": "code",
   "execution_count": 36,
   "metadata": {},
   "outputs": [],
   "source": [
    "from torch.nn import CrossEntropyLoss\n",
    "\n",
    "ce = CrossEntropyLoss()\n"
   ]
  },
  {
   "cell_type": "code",
   "execution_count": 48,
   "metadata": {},
   "outputs": [
    {
     "name": "stdout",
     "output_type": "stream",
     "text": [
      "torch.Size([1, 2])\n",
      "torch.Size([1, 2])\n",
      "tensor(4.7975, grad_fn=<AddBackward0>)\n"
     ]
    }
   ],
   "source": [
    "positive_string = \"og\"\n",
    "negative_string = \"nej\"\n",
    "\n",
    "#training step\n",
    "\n",
    "input_pos = tokenizer(positive_string, return_tensors=\"pt\")\n",
    "input_neg = tokenizer(negative_string, return_tensors=\"pt\")\n",
    "\n",
    "decoder_input_ids = tokenizer(\"\", return_tensors=\"pt\").input_ids\n",
    "\n",
    "outputs_pos = model.base_model(input_ids=input_pos[\"input_ids\"], decoder_input_ids=decoder_input_ids)\n",
    "outputs_neg = model.base_model(input_ids=input_neg[\"input_ids\"], decoder_input_ids=decoder_input_ids)\n",
    "\n",
    "\n",
    "#logits = [yes,no]\n",
    "logits_pos = torch.stack((outputs_pos.logits[:,-1,36399], outputs_pos.logits[:,-1,375]), dim=1)\n",
    "logits_neg = torch.stack((outputs_neg.logits[:,-1,36399], outputs_neg.logits[:,-1,375]), dim=1)\n",
    "\n",
    "\n",
    "target_pos = torch.tensor([1,0],dtype=torch.float).unsqueeze(0)\n",
    "target_neg = torch.tensor([0,1],dtype=torch.float).unsqueeze(0)\n",
    "\n",
    "\n",
    "print(logits_pos.shape)\n",
    "print(target_pos.shape)\n",
    "\n",
    "\n",
    "loss_nll = ce(logits_pos, target_pos) + ce(logits_neg, target_neg)\n",
    "loss_bpr = -compute_rank_loss(logits_pos[0], logits_neg[0]).mean(dim=0)\n",
    "\n",
    "lamb=0.5\n",
    "loss = (1-lamb)*loss_nll + lamb*loss_bpr\n",
    "\n",
    "print(loss)\n",
    "\n",
    "loss.backward()\n",
    "\n"
   ]
  }
 ],
 "metadata": {
  "kernelspec": {
   "display_name": "recsys",
   "language": "python",
   "name": "python3"
  },
  "language_info": {
   "codemirror_mode": {
    "name": "ipython",
    "version": 3
   },
   "file_extension": ".py",
   "mimetype": "text/x-python",
   "name": "python",
   "nbconvert_exporter": "python",
   "pygments_lexer": "ipython3",
   "version": "3.11.9"
  }
 },
 "nbformat": 4,
 "nbformat_minor": 2
}
