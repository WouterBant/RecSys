{
 "cells": [
  {
   "cell_type": "code",
   "execution_count": 6,
   "metadata": {},
   "outputs": [
    {
     "name": "stderr",
     "output_type": "stream",
     "text": [
      "/home/colin/miniconda3/envs/recsys/lib/python3.11/site-packages/transformers/convert_slow_tokenizer.py:560: UserWarning: The sentencepiece tokenizer that you are converting to a fast tokenizer uses the byte fallback option which is not implemented in the fast tokenizers. In practice this means that the fast version of the tokenizer can produce unknown tokens whereas the sentencepiece version would have converted these unknown tokens into a sequence of byte tokens matching the original piece of text.\n",
      "  warnings.warn(\n"
     ]
    }
   ],
   "source": [
    "from transformers import AutoTokenizer, AutoModelForSeq2SeqLM\n",
    "\n",
    "# Load the tokenizer and model\n",
    "tokenizer = AutoTokenizer.from_pretrained(\"google/mt5-small\", model_max_length=128)\n",
    "model = AutoModelForSeq2SeqLM.from_pretrained(\"google/mt5-small\")\n"
   ]
  },
  {
   "cell_type": "code",
   "execution_count": 7,
   "metadata": {},
   "outputs": [
    {
     "name": "stdout",
     "output_type": "stream",
     "text": [
      "{'input_ids': [36339, 1], 'attention_mask': [1, 1]}\n",
      "{'input_ids': [432, 1], 'attention_mask': [1, 1]}\n",
      "{'input_ids': [448, 265, 1], 'attention_mask': [1, 1, 1]}\n",
      "{'input_ids': [375, 1], 'attention_mask': [1, 1]}\n",
      "{'input_ids': [3810, 1], 'attention_mask': [1, 1]}\n",
      "{'input_ids': [373, 1], 'attention_mask': [1, 1]}\n"
     ]
    }
   ],
   "source": [
    "print(tokenizer(\"yes\"))\n",
    "print(tokenizer(\"ja\"))\n",
    "print(tokenizer(\"nee\"))\n",
    "print(tokenizer(\"no\"))\n",
    "\n",
    "print(tokenizer(\"nej\"))\n",
    "print(tokenizer(\"og\"))\n"
   ]
  },
  {
   "cell_type": "code",
   "execution_count": 8,
   "metadata": {},
   "outputs": [
    {
     "name": "stdout",
     "output_type": "stream",
     "text": [
      "torch.Size([2, 128])\n"
     ]
    }
   ],
   "source": [
    "input_text = [\"yes yes yes yes yes yes yes yes yes\", \"yes yes\"]\n",
    "\n",
    "# Tokenize the input text\n",
    "inputs = tokenizer(input_text, padding='max_length', max_length=128, truncation=True, return_tensors='pt')\n",
    "print(inputs.input_ids.shape)\n"
   ]
  },
  {
   "cell_type": "code",
   "execution_count": 11,
   "metadata": {},
   "outputs": [
    {
     "name": "stdout",
     "output_type": "stream",
     "text": [
      "torch.Size([2, 1])\n"
     ]
    }
   ],
   "source": [
    "# Prepare decoder input ids (usually the start token)\n",
    "decoder_input_ids = tokenizer([\"\",\"\"], return_tensors=\"pt\").input_ids\n",
    "print(decoder_input_ids.shape)\n",
    "\n",
    "# Forward pass with decoder input ids\n",
    "outputs = model.base_model(input_ids=inputs[\"input_ids\"], decoder_input_ids=decoder_input_ids)\n"
   ]
  },
  {
   "cell_type": "code",
   "execution_count": 12,
   "metadata": {},
   "outputs": [
    {
     "name": "stdout",
     "output_type": "stream",
     "text": [
      "torch.Size([2, 1, 250112])\n"
     ]
    }
   ],
   "source": [
    "logits = outputs.logits\n",
    "print(logits.shape)"
   ]
  },
  {
   "cell_type": "code",
   "execution_count": 13,
   "metadata": {},
   "outputs": [
    {
     "name": "stdout",
     "output_type": "stream",
     "text": [
      "logit yes tensor(-36.5104, grad_fn=<SelectBackward0>)\n",
      "logit no tensor(-35.1915, grad_fn=<SelectBackward0>)\n"
     ]
    }
   ],
   "source": [
    "print('logit yes', outputs.logits[0,0,36339])\n",
    "print('logit no',  outputs.logits[0,0,375])"
   ]
  },
  {
   "cell_type": "code",
   "execution_count": 14,
   "metadata": {},
   "outputs": [],
   "source": [
    "import torch\n",
    "def compute_rank_loss(logits_pos, logits_neg):\n",
    "    r_pos = torch.sigmoid(logits_pos)\n",
    "    r_neg = torch.sigmoid(logits_neg)\n",
    "    diff = torch.sigmoid(r_pos - r_neg)\n",
    "    return torch.log(1e-8 + torch.exp(diff))\n"
   ]
  },
  {
   "cell_type": "code",
   "execution_count": 15,
   "metadata": {},
   "outputs": [],
   "source": [
    "from torch.nn import CrossEntropyLoss\n",
    "\n",
    "ce = CrossEntropyLoss()\n"
   ]
  },
  {
   "cell_type": "code",
   "execution_count": 26,
   "metadata": {},
   "outputs": [
    {
     "name": "stdout",
     "output_type": "stream",
     "text": [
      "tensor([[1],\n",
      "        [1]])\n",
      "tensor([[-70.1002, -60.0054],\n",
      "        [-73.3915, -61.9784]], grad_fn=<StackBackward0>)\n"
     ]
    }
   ],
   "source": [
    "positive_string = [\"og\", \"og og\"]\n",
    "negative_string = [\"nej\", \"nej javlar\"]\n",
    "\n",
    "\n",
    "#training step\n",
    "\n",
    "input_pos = tokenizer(positive_string, padding='max_length', max_length=128, truncation=True, return_tensors='pt')\n",
    "input_neg = tokenizer(negative_string, padding='max_length', max_length=128, truncation=True, return_tensors='pt')\n",
    "\n",
    "# print(input_pos)\n",
    "\n",
    "decoder_input = tokenizer([\"\",\"\"], return_tensors=\"pt\")\n",
    "\n",
    "decoder_input_ids\n",
    "\n",
    "print(decoder_input_ids)\n",
    "\n",
    "outputs_pos = model.base_model(input_ids=input_pos.input_ids, \n",
    "                               attention_mask=input_pos.attention_mask,\n",
    "                               decoder_input_ids=decoder_input.input_ids,\n",
    "                               decoder_attention_mask=decoder_input.attention_mask)\n",
    "outputs_neg = model.base_model(input_ids=input_neg.input_ids, \n",
    "                               attention_mask=input_neg.attention_mask,\n",
    "                               decoder_input_ids=decoder_input.input_ids,\n",
    "                               decoder_attention_mask=decoder_input.attention_mask)\n",
    "\n",
    "#logits = [yes,no]\n",
    "logits_pos = torch.stack((outputs_pos.logits[:,-1,36399], outputs_pos.logits[:,-1,375]), dim=1)\n",
    "logits_neg = torch.stack((outputs_neg.logits[:,-1,36399], outputs_neg.logits[:,-1,375]), dim=1)\n",
    "\n",
    "print(logits_pos)\n",
    "\n",
    "target_pos = torch.tensor([1,0],dtype=torch.float).unsqueeze(0).repeat(logits_pos.shape[0],1)\n",
    "target_neg = torch.tensor([0,1],dtype=torch.float).unsqueeze(0).repeat(logits_pos.shape[0],1)\n",
    "\n",
    "loss_nll = ce(logits_pos, target_pos) + ce(logits_neg, target_neg)\n",
    "loss_bpr = -compute_rank_loss(logits_pos[0], logits_neg[0]).mean(dim=0)\n",
    "\n",
    "lamb=0.5\n",
    "loss = (1-lamb)*loss_nll + lamb*loss_bpr\n",
    "\n",
    "loss.backward()\n",
    "\n",
    "\n"
   ]
  }
 ],
 "metadata": {
  "kernelspec": {
   "display_name": "recsys",
   "language": "python",
   "name": "python3"
  },
  "language_info": {
   "codemirror_mode": {
    "name": "ipython",
    "version": 3
   },
   "file_extension": ".py",
   "mimetype": "text/x-python",
   "name": "python",
   "nbconvert_exporter": "python",
   "pygments_lexer": "ipython3",
   "version": "3.11.9"
  }
 },
 "nbformat": 4,
 "nbformat_minor": 2
}
