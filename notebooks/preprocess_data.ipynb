{
 "cells": [
  {
   "cell_type": "code",
   "execution_count": 49,
   "metadata": {},
   "outputs": [],
   "source": [
    "import polars as pl\n",
    "from datasets import Dataset\n",
    "from pathlib import Path"
   ]
  },
  {
   "cell_type": "code",
   "execution_count": null,
   "metadata": {},
   "outputs": [],
   "source": [
    "PATH = Path(\"../ebnerd-data-test\")"
   ]
  },
  {
   "cell_type": "code",
   "execution_count": null,
   "metadata": {},
   "outputs": [],
   "source": [
    "data = Dataset.from_pandas(pl.scan_parquet(PATH.joinpath(\"ebnerd_testset\", \"test\", \"behaviors.parquet\")).collect().to_pandas())"
   ]
  },
  {
   "cell_type": "code",
   "execution_count": null,
   "metadata": {},
   "outputs": [],
   "source": [
    "data.push_to_hub(\"testbehaviors\")"
   ]
  },
  {
   "cell_type": "code",
   "execution_count": null,
   "metadata": {},
   "outputs": [],
   "source": [
    "data = Dataset.from_pandas(pl.scan_parquet(PATH.joinpath(\"ebnerd_testset\", \"test\", \"history.parquet\")).collect().to_pandas())"
   ]
  },
  {
   "cell_type": "code",
   "execution_count": null,
   "metadata": {},
   "outputs": [],
   "source": [
    "data.push_to_hub(\"testhistory\")"
   ]
  },
  {
   "cell_type": "code",
   "execution_count": null,
   "metadata": {},
   "outputs": [],
   "source": [
    "data = Dataset.from_pandas(pl.scan_parquet(PATH.joinpath(\"ebnerd_testset\", \"articles.parquet\")).collect().to_pandas())"
   ]
  },
  {
   "cell_type": "code",
   "execution_count": null,
   "metadata": {},
   "outputs": [],
   "source": [
    "data.push_to_hub(\"testarticles\")"
   ]
  },
  {
   "cell_type": "code",
   "execution_count": null,
   "metadata": {},
   "outputs": [],
   "source": []
  },
  {
   "cell_type": "code",
   "execution_count": null,
   "metadata": {},
   "outputs": [],
   "source": [
    "# demo data\n",
    "PATH = Path(\"../ebnerd-data-demo\")"
   ]
  },
  {
   "cell_type": "code",
   "execution_count": null,
   "metadata": {},
   "outputs": [],
   "source": [
    "# behaviors\n",
    "data = pl.scan_parquet(PATH.joinpath(\"train\", \"behaviors.parquet\")).collect().to_pandas()"
   ]
  },
  {
   "cell_type": "code",
   "execution_count": null,
   "metadata": {},
   "outputs": [],
   "source": [
    "data.head()"
   ]
  },
  {
   "cell_type": "code",
   "execution_count": null,
   "metadata": {},
   "outputs": [],
   "source": [
    "data = pl.scan_parquet(PATH.joinpath(\"train\", \"behaviors.parquet\")).collect().to_pandas()\n",
    "data_filterd = data[['impression_id', 'impression_time', 'read_time', 'article_ids_inview', 'article_ids_clicked', 'user_id', 'session_id']]\n",
    "data_filterd = Dataset.from_pandas(data_filterd)\n",
    "data_filterd.push_to_hub(repo_id=\"RecSys_demo\", config_name=\"behaviors\", split=\"train\")"
   ]
  },
  {
   "cell_type": "code",
   "execution_count": null,
   "metadata": {},
   "outputs": [],
   "source": [
    "data = pl.scan_parquet(PATH.joinpath(\"validation\", \"behaviors.parquet\")).collect().to_pandas()\n",
    "data_filterd = data[['impression_id', 'impression_time', 'read_time', 'article_ids_inview', 'article_ids_clicked', 'user_id', 'session_id']]\n",
    "data_filterd = Dataset.from_pandas(data_filterd)\n",
    "data_filterd.push_to_hub(repo_id=\"RecSys_demo\", config_name=\"behaviors\", split=\"validation\")"
   ]
  },
  {
   "cell_type": "code",
   "execution_count": null,
   "metadata": {},
   "outputs": [],
   "source": [
    "data = pl.scan_parquet(PATH.joinpath(\"train\", \"history.parquet\")).collect().to_pandas()\n",
    "data.head()"
   ]
  },
  {
   "cell_type": "code",
   "execution_count": null,
   "metadata": {},
   "outputs": [],
   "source": [
    "def keep_last_n_elements(lst, n=10):\n",
    "    n = min(n, len(lst))\n",
    "    return lst[-n:]"
   ]
  },
  {
   "cell_type": "code",
   "execution_count": null,
   "metadata": {},
   "outputs": [],
   "source": [
    "# history - train\n",
    "data = pl.scan_parquet(PATH.joinpath(\"train\", \"history.parquet\")).collect().to_pandas()\n",
    "data['impression_time_fixed'] = data['impression_time_fixed'].apply(lambda x: keep_last_n_elements(x, 10))\n",
    "data['scroll_percentage_fixed'] = data['scroll_percentage_fixed'].apply(lambda x: keep_last_n_elements(x, 10))\n",
    "data['article_id_fixed'] = data['article_id_fixed'].apply(lambda x: keep_last_n_elements(x, 10))\n",
    "data['read_time_fixed'] = data['read_time_fixed'].apply(lambda x: keep_last_n_elements(x, 10))\n",
    "data = Dataset.from_pandas(data)\n",
    "data.push_to_hub(repo_id=\"RecSys_demo\", config_name=\"history\", split=\"compare\")"
   ]
  },
  {
   "cell_type": "code",
   "execution_count": null,
   "metadata": {},
   "outputs": [],
   "source": [
    "# history - validation\n",
    "data = pl.scan_parquet(PATH.joinpath(\"validation\", \"history.parquet\")).collect().to_pandas()\n",
    "data['impression_time_fixed'] = data['impression_time_fixed'].apply(lambda x: keep_last_n_elements(x, 10))\n",
    "data['scroll_percentage_fixed'] = data['scroll_percentage_fixed'].apply(lambda x: keep_last_n_elements(x, 10))\n",
    "data['article_id_fixed'] = data['article_id_fixed'].apply(lambda x: keep_last_n_elements(x, 10))\n",
    "data['read_time_fixed'] = data['read_time_fixed'].apply(lambda x: keep_last_n_elements(x, 10))\n",
    "data = Dataset.from_pandas(data)\n",
    "data.push_to_hub(repo_id=\"RecSys_demo\", config_name=\"history\", split=\"validation\")"
   ]
  },
  {
   "cell_type": "code",
   "execution_count": null,
   "metadata": {},
   "outputs": [],
   "source": []
  },
  {
   "cell_type": "code",
   "execution_count": null,
   "metadata": {},
   "outputs": [],
   "source": [
    "# articles\n",
    "data = pl.scan_parquet(PATH.joinpath(\"articles.parquet\")).collect().to_pandas()"
   ]
  },
  {
   "cell_type": "code",
   "execution_count": null,
   "metadata": {},
   "outputs": [],
   "source": [
    "data.head()"
   ]
  },
  {
   "cell_type": "code",
   "execution_count": null,
   "metadata": {},
   "outputs": [],
   "source": [
    "data = pl.scan_parquet(PATH.joinpath(\"articles.parquet\")).collect().to_pandas()\n",
    "data_filterd = data[['article_id', 'title', 'subtitle', 'published_time', 'topics', 'category_str', 'sentiment_score', 'sentiment_label']]\n",
    "data_filterd = Dataset.from_pandas(data_filterd)\n",
    "data_filterd.push_to_hub(repo_id=\"RecSys_demo\", config_name=\"articles\")"
   ]
  }
 ],
 "metadata": {
  "kernelspec": {
   "display_name": "dl2023",
   "language": "python",
   "name": "python3"
  },
  "language_info": {
   "codemirror_mode": {
    "name": "ipython",
    "version": 3
   },
   "file_extension": ".py",
   "mimetype": "text/x-python",
   "name": "python",
   "nbconvert_exporter": "python",
   "pygments_lexer": "ipython3",
   "version": "3.11.5"
  }
 },
 "nbformat": 4,
 "nbformat_minor": 2
}
