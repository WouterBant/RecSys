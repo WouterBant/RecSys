{
 "cells": [
  {
   "cell_type": "code",
   "execution_count": 1,
   "metadata": {},
   "outputs": [],
   "source": [
    "import polars as pl\n",
    "from datasets import Dataset\n",
    "from pathlib import Path"
   ]
  },
  {
   "cell_type": "code",
   "execution_count": 2,
   "metadata": {},
   "outputs": [],
   "source": [
    "PATH = Path(\"../ebnerd-data-large\")"
   ]
  },
  {
   "cell_type": "code",
   "execution_count": null,
   "metadata": {},
   "outputs": [],
   "source": [
    "data = Dataset.from_pandas(pl.scan_parquet(PATH.joinpath(\"ebnerd_testset\", \"test\", \"behaviors.parquet\")).collect().to_pandas())"
   ]
  },
  {
   "cell_type": "code",
   "execution_count": null,
   "metadata": {},
   "outputs": [],
   "source": [
    "data.push_to_hub(\"testbehaviors\")"
   ]
  },
  {
   "cell_type": "code",
   "execution_count": null,
   "metadata": {},
   "outputs": [],
   "source": [
    "data = Dataset.from_pandas(pl.scan_parquet(PATH.joinpath(\"ebnerd_testset\", \"test\", \"history.parquet\")).collect().to_pandas())"
   ]
  },
  {
   "cell_type": "code",
   "execution_count": null,
   "metadata": {},
   "outputs": [],
   "source": [
    "data.push_to_hub(\"testhistory\")"
   ]
  },
  {
   "cell_type": "code",
   "execution_count": null,
   "metadata": {},
   "outputs": [],
   "source": [
    "data = Dataset.from_pandas(pl.scan_parquet(PATH.joinpath(\"ebnerd_testset\", \"articles.parquet\")).collect().to_pandas())"
   ]
  },
  {
   "cell_type": "code",
   "execution_count": null,
   "metadata": {},
   "outputs": [],
   "source": [
    "data.push_to_hub(\"testarticles\")"
   ]
  },
  {
   "cell_type": "code",
   "execution_count": null,
   "metadata": {},
   "outputs": [],
   "source": []
  },
  {
   "cell_type": "code",
   "execution_count": null,
   "metadata": {},
   "outputs": [],
   "source": [
    "# demo data\n",
    "PATH = Path(\"../ebnerd-data-demo\")"
   ]
  },
  {
   "cell_type": "code",
   "execution_count": null,
   "metadata": {},
   "outputs": [],
   "source": [
    "# behaviors\n",
    "data = pl.scan_parquet(PATH.joinpath(\"train\", \"behaviors.parquet\")).collect().to_pandas()"
   ]
  },
  {
   "cell_type": "code",
   "execution_count": null,
   "metadata": {},
   "outputs": [],
   "source": [
    "data.head()"
   ]
  },
  {
   "cell_type": "code",
   "execution_count": 3,
   "metadata": {},
   "outputs": [
    {
     "data": {
      "application/vnd.jupyter.widget-view+json": {
       "model_id": "f36e2207c65b4deebabceeef101c5f79",
       "version_major": 2,
       "version_minor": 0
      },
      "text/plain": [
       "Uploading the dataset shards:   0%|          | 0/2 [00:00<?, ?it/s]"
      ]
     },
     "metadata": {},
     "output_type": "display_data"
    },
    {
     "data": {
      "application/vnd.jupyter.widget-view+json": {
       "model_id": "8289a1ece12b404aa318d477c25f868c",
       "version_major": 2,
       "version_minor": 0
      },
      "text/plain": [
       "Creating parquet from Arrow format:   0%|          | 0/6032 [00:00<?, ?ba/s]"
      ]
     },
     "metadata": {},
     "output_type": "display_data"
    },
    {
     "data": {
      "application/vnd.jupyter.widget-view+json": {
       "model_id": "9d132a2614bb4cc4b5d120495b81a562",
       "version_major": 2,
       "version_minor": 0
      },
      "text/plain": [
       "Creating parquet from Arrow format:   0%|          | 0/6032 [00:00<?, ?ba/s]"
      ]
     },
     "metadata": {},
     "output_type": "display_data"
    },
    {
     "data": {
      "text/plain": [
       "CommitInfo(commit_url='https://huggingface.co/datasets/Wouter01/RecSys_large/commit/919ee0b881e4e5c3e8e0f77d96a772cdc5411bf9', commit_message='Upload dataset', commit_description='', oid='919ee0b881e4e5c3e8e0f77d96a772cdc5411bf9', pr_url=None, pr_revision=None, pr_num=None)"
      ]
     },
     "execution_count": 3,
     "metadata": {},
     "output_type": "execute_result"
    }
   ],
   "source": [
    "data = pl.scan_parquet(PATH.joinpath(\"train\", \"behaviors.parquet\")).collect().to_pandas()\n",
    "data_filterd = data[['impression_id', 'impression_time', 'read_time', 'article_ids_inview', 'article_ids_clicked', 'user_id', 'session_id']]\n",
    "data_filterd = Dataset.from_pandas(data_filterd)\n",
    "data_filterd.push_to_hub(repo_id=\"RecSys_large\", config_name=\"behaviors\", split=\"train\")"
   ]
  },
  {
   "cell_type": "code",
   "execution_count": 4,
   "metadata": {},
   "outputs": [
    {
     "data": {
      "application/vnd.jupyter.widget-view+json": {
       "model_id": "369daf4975c4488cbfaa5314ee70fe89",
       "version_major": 2,
       "version_minor": 0
      },
      "text/plain": [
       "Uploading the dataset shards:   0%|          | 0/3 [00:00<?, ?it/s]"
      ]
     },
     "metadata": {},
     "output_type": "display_data"
    },
    {
     "data": {
      "application/vnd.jupyter.widget-view+json": {
       "model_id": "b81954df2131419f92714f197c7ad4f9",
       "version_major": 2,
       "version_minor": 0
      },
      "text/plain": [
       "Creating parquet from Arrow format:   0%|          | 0/4189 [00:00<?, ?ba/s]"
      ]
     },
     "metadata": {},
     "output_type": "display_data"
    },
    {
     "data": {
      "application/vnd.jupyter.widget-view+json": {
       "model_id": "959daef6560a4fa6a1ad37e55d2c7109",
       "version_major": 2,
       "version_minor": 0
      },
      "text/plain": [
       "Creating parquet from Arrow format:   0%|          | 0/4189 [00:00<?, ?ba/s]"
      ]
     },
     "metadata": {},
     "output_type": "display_data"
    },
    {
     "data": {
      "application/vnd.jupyter.widget-view+json": {
       "model_id": "14e117ffa94948f5826a38fae9391cc0",
       "version_major": 2,
       "version_minor": 0
      },
      "text/plain": [
       "Creating parquet from Arrow format:   0%|          | 0/4189 [00:00<?, ?ba/s]"
      ]
     },
     "metadata": {},
     "output_type": "display_data"
    },
    {
     "data": {
      "application/vnd.jupyter.widget-view+json": {
       "model_id": "6ea6f20557d54616a9ec03f2a22271b8",
       "version_major": 2,
       "version_minor": 0
      },
      "text/plain": [
       "README.md:   0%|          | 0.00/589 [00:00<?, ?B/s]"
      ]
     },
     "metadata": {},
     "output_type": "display_data"
    },
    {
     "data": {
      "text/plain": [
       "CommitInfo(commit_url='https://huggingface.co/datasets/Wouter01/RecSys_large/commit/2a581a60291487b96646e4416db31786f140fa70', commit_message='Upload dataset', commit_description='', oid='2a581a60291487b96646e4416db31786f140fa70', pr_url=None, pr_revision=None, pr_num=None)"
      ]
     },
     "execution_count": 4,
     "metadata": {},
     "output_type": "execute_result"
    }
   ],
   "source": [
    "data = pl.scan_parquet(PATH.joinpath(\"validation\", \"behaviors.parquet\")).collect().to_pandas()\n",
    "data_filterd = data[['impression_id', 'impression_time', 'read_time', 'article_ids_inview', 'article_ids_clicked', 'user_id', 'session_id']]\n",
    "data_filterd = Dataset.from_pandas(data_filterd)\n",
    "data_filterd.push_to_hub(repo_id=\"RecSys_large\", config_name=\"behaviors\", split=\"validation\")"
   ]
  },
  {
   "cell_type": "code",
   "execution_count": null,
   "metadata": {},
   "outputs": [],
   "source": [
    "data = pl.scan_parquet(PATH.joinpath(\"train\", \"history.parquet\")).collect().to_pandas()\n",
    "data.head()"
   ]
  },
  {
   "cell_type": "code",
   "execution_count": 5,
   "metadata": {},
   "outputs": [],
   "source": [
    "def keep_last_n_elements(lst, n=10):\n",
    "    n = min(n, len(lst))\n",
    "    return lst[-n:]"
   ]
  },
  {
   "cell_type": "code",
   "execution_count": 6,
   "metadata": {},
   "outputs": [
    {
     "data": {
      "application/vnd.jupyter.widget-view+json": {
       "model_id": "2fb5ce440af94b899cd1f9adba14fa82",
       "version_major": 2,
       "version_minor": 0
      },
      "text/plain": [
       "Uploading the dataset shards:   0%|          | 0/1 [00:00<?, ?it/s]"
      ]
     },
     "metadata": {},
     "output_type": "display_data"
    },
    {
     "data": {
      "application/vnd.jupyter.widget-view+json": {
       "model_id": "4c2520446e0a42e29c4c4e13386e7370",
       "version_major": 2,
       "version_minor": 0
      },
      "text/plain": [
       "Creating parquet from Arrow format:   0%|          | 0/789 [00:00<?, ?ba/s]"
      ]
     },
     "metadata": {},
     "output_type": "display_data"
    },
    {
     "data": {
      "application/vnd.jupyter.widget-view+json": {
       "model_id": "44e929d4f5184d49a521b58cfd23f212",
       "version_major": 2,
       "version_minor": 0
      },
      "text/plain": [
       "README.md:   0%|          | 0.00/720 [00:00<?, ?B/s]"
      ]
     },
     "metadata": {},
     "output_type": "display_data"
    },
    {
     "data": {
      "text/plain": [
       "CommitInfo(commit_url='https://huggingface.co/datasets/Wouter01/RecSys_large/commit/38d14af384b305c95b8de3541397593353d692cd', commit_message='Upload dataset', commit_description='', oid='38d14af384b305c95b8de3541397593353d692cd', pr_url=None, pr_revision=None, pr_num=None)"
      ]
     },
     "execution_count": 6,
     "metadata": {},
     "output_type": "execute_result"
    }
   ],
   "source": [
    "# history - train\n",
    "data = pl.scan_parquet(PATH.joinpath(\"train\", \"history.parquet\")).collect().to_pandas()\n",
    "data['impression_time_fixed'] = data['impression_time_fixed'].apply(lambda x: keep_last_n_elements(x, 10))\n",
    "data['scroll_percentage_fixed'] = data['scroll_percentage_fixed'].apply(lambda x: keep_last_n_elements(x, 10))\n",
    "data['article_id_fixed'] = data['article_id_fixed'].apply(lambda x: keep_last_n_elements(x, 10))\n",
    "data['read_time_fixed'] = data['read_time_fixed'].apply(lambda x: keep_last_n_elements(x, 10))\n",
    "data = Dataset.from_pandas(data)\n",
    "data.push_to_hub(repo_id=\"RecSys_large\", config_name=\"history\", split=\"train\")"
   ]
  },
  {
   "cell_type": "code",
   "execution_count": 7,
   "metadata": {},
   "outputs": [
    {
     "data": {
      "application/vnd.jupyter.widget-view+json": {
       "model_id": "dd173c4f47b14941afb18ef259f3acf1",
       "version_major": 2,
       "version_minor": 0
      },
      "text/plain": [
       "Uploading the dataset shards:   0%|          | 0/1 [00:00<?, ?it/s]"
      ]
     },
     "metadata": {},
     "output_type": "display_data"
    },
    {
     "data": {
      "application/vnd.jupyter.widget-view+json": {
       "model_id": "d7f3e5afade945e5853ef5a87ed08401",
       "version_major": 2,
       "version_minor": 0
      },
      "text/plain": [
       "Creating parquet from Arrow format:   0%|          | 0/792 [00:00<?, ?ba/s]"
      ]
     },
     "metadata": {},
     "output_type": "display_data"
    },
    {
     "data": {
      "application/vnd.jupyter.widget-view+json": {
       "model_id": "d6c5c0ed43114a5f911a4e86254285ef",
       "version_major": 2,
       "version_minor": 0
      },
      "text/plain": [
       "README.md:   0%|          | 0.00/1.21k [00:00<?, ?B/s]"
      ]
     },
     "metadata": {},
     "output_type": "display_data"
    },
    {
     "data": {
      "text/plain": [
       "CommitInfo(commit_url='https://huggingface.co/datasets/Wouter01/RecSys_large/commit/78f0574f253616f8702b45bdd57d5c23b316507a', commit_message='Upload dataset', commit_description='', oid='78f0574f253616f8702b45bdd57d5c23b316507a', pr_url=None, pr_revision=None, pr_num=None)"
      ]
     },
     "execution_count": 7,
     "metadata": {},
     "output_type": "execute_result"
    }
   ],
   "source": [
    "# history - validation\n",
    "data = pl.scan_parquet(PATH.joinpath(\"validation\", \"history.parquet\")).collect().to_pandas()\n",
    "data['impression_time_fixed'] = data['impression_time_fixed'].apply(lambda x: keep_last_n_elements(x, 10))\n",
    "data['scroll_percentage_fixed'] = data['scroll_percentage_fixed'].apply(lambda x: keep_last_n_elements(x, 10))\n",
    "data['article_id_fixed'] = data['article_id_fixed'].apply(lambda x: keep_last_n_elements(x, 10))\n",
    "data['read_time_fixed'] = data['read_time_fixed'].apply(lambda x: keep_last_n_elements(x, 10))\n",
    "data = Dataset.from_pandas(data)\n",
    "data.push_to_hub(repo_id=\"RecSys_large\", config_name=\"history\", split=\"validation\")"
   ]
  },
  {
   "cell_type": "code",
   "execution_count": 14,
   "metadata": {},
   "outputs": [
    {
     "name": "stderr",
     "output_type": "stream",
     "text": [
      "/home/wouter/miniconda3/envs/dl2023/lib/python3.11/site-packages/huggingface_hub/file_download.py:1132: FutureWarning: `resume_download` is deprecated and will be removed in version 1.0.0. Downloads always resume when possible. If you want to force a new download, use `force_download=True`.\n",
      "  warnings.warn(\n"
     ]
    },
    {
     "data": {
      "application/vnd.jupyter.widget-view+json": {
       "model_id": "7f55dd75defe4b8bb283333f070d6bb5",
       "version_major": 2,
       "version_minor": 0
      },
      "text/plain": [
       "pytorch_model.bin:   0%|          | 0.00/2.33G [00:00<?, ?B/s]"
      ]
     },
     "metadata": {},
     "output_type": "display_data"
    },
    {
     "name": "stderr",
     "output_type": "stream",
     "text": [
      "/home/wouter/miniconda3/envs/dl2023/lib/python3.11/site-packages/transformers/convert_slow_tokenizer.py:473: UserWarning: The sentencepiece tokenizer that you are converting to a fast tokenizer uses the byte fallback option which is not implemented in the fast tokenizers. In practice this means that the fast version of the tokenizer can produce unknown tokens whereas the sentencepiece version would have converted these unknown tokens into a sequence of byte tokens matching the original piece of text.\n",
      "  warnings.warn(\n"
     ]
    }
   ],
   "source": [
    "from transformers import MT5Model, AutoTokenizer\n",
    "\n",
    "model = MT5Model.from_pretrained(\"google/mt5-base\")\n",
    "tokenizer = AutoTokenizer.from_pretrained(\"google/mt5-base\")\n",
    "article = \"UN Offizier sagt, dass weiter verhandelt werden muss in Syrien.\"\n",
    "summary = \"Weiter Verhandlung in Syrien.\"\n",
    "inputs = tokenizer(article, return_tensors=\"pt\")\n",
    "labels = tokenizer(text_target=summary, return_tensors=\"pt\")\n",
    "\n",
    "outputs = model(input_ids=inputs[\"input_ids\"], decoder_input_ids=labels[\"input_ids\"])\n",
    "hidden_states = outputs.last_hidden_state"
   ]
  },
  {
   "cell_type": "code",
   "execution_count": 15,
   "metadata": {},
   "outputs": [],
   "source": [
    "for _ in range(100):\n",
    "    article = \"UN Offizier sagt, dass weiter verhandelt werden muss in Syrien.\"\n",
    "    summary = \"Weiter Verhandlung in Syrien.\"\n",
    "    inputs = tokenizer(article, return_tensors=\"pt\")\n",
    "    labels = tokenizer(text_target=summary, return_tensors=\"pt\")\n",
    "\n",
    "    outputs = model(input_ids=inputs[\"input_ids\"], decoder_input_ids=labels[\"input_ids\"])\n",
    "    hidden_states = outputs.last_hidden_state"
   ]
  },
  {
   "cell_type": "code",
   "execution_count": 13,
   "metadata": {},
   "outputs": [
    {
     "data": {
      "text/plain": [
       "torch.Size([1, 7, 512])"
      ]
     },
     "execution_count": 13,
     "metadata": {},
     "output_type": "execute_result"
    }
   ],
   "source": [
    "hidden_states.shape"
   ]
  },
  {
   "cell_type": "code",
   "execution_count": null,
   "metadata": {},
   "outputs": [],
   "source": [
    "# articles\n",
    "data = pl.scan_parquet(PATH.joinpath(\"articles.parquet\")).collect().to_pandas()"
   ]
  },
  {
   "cell_type": "code",
   "execution_count": null,
   "metadata": {},
   "outputs": [],
   "source": [
    "data.head()"
   ]
  },
  {
   "cell_type": "code",
   "execution_count": 8,
   "metadata": {},
   "outputs": [
    {
     "data": {
      "application/vnd.jupyter.widget-view+json": {
       "model_id": "8b81626dd93a4713a818f86d2b39d166",
       "version_major": 2,
       "version_minor": 0
      },
      "text/plain": [
       "Uploading the dataset shards:   0%|          | 0/1 [00:00<?, ?it/s]"
      ]
     },
     "metadata": {},
     "output_type": "display_data"
    },
    {
     "data": {
      "application/vnd.jupyter.widget-view+json": {
       "model_id": "8b6bb02b32c145fe95ee584735b92c3d",
       "version_major": 2,
       "version_minor": 0
      },
      "text/plain": [
       "Creating parquet from Arrow format:   0%|          | 0/126 [00:00<?, ?ba/s]"
      ]
     },
     "metadata": {},
     "output_type": "display_data"
    },
    {
     "data": {
      "application/vnd.jupyter.widget-view+json": {
       "model_id": "6225345a993c4f5ebe8376bf4ff2a35d",
       "version_major": 2,
       "version_minor": 0
      },
      "text/plain": [
       "README.md:   0%|          | 0.00/1.33k [00:00<?, ?B/s]"
      ]
     },
     "metadata": {},
     "output_type": "display_data"
    },
    {
     "data": {
      "text/plain": [
       "CommitInfo(commit_url='https://huggingface.co/datasets/Wouter01/RecSys_large/commit/33d83a43d8ef479b96c39e76026bc24ae064b489', commit_message='Upload dataset', commit_description='', oid='33d83a43d8ef479b96c39e76026bc24ae064b489', pr_url=None, pr_revision=None, pr_num=None)"
      ]
     },
     "execution_count": 8,
     "metadata": {},
     "output_type": "execute_result"
    }
   ],
   "source": [
    "data = pl.scan_parquet(PATH.joinpath(\"articles.parquet\")).collect().to_pandas()\n",
    "data_filterd = data[['article_id', 'title', 'subtitle', 'published_time', 'topics', 'category_str', 'sentiment_score', 'sentiment_label']]\n",
    "data_filterd = Dataset.from_pandas(data_filterd)\n",
    "data_filterd.push_to_hub(repo_id=\"RecSys_large\", config_name=\"articles\")"
   ]
  }
 ],
 "metadata": {
  "kernelspec": {
   "display_name": "dl2023",
   "language": "python",
   "name": "python3"
  },
  "language_info": {
   "codemirror_mode": {
    "name": "ipython",
    "version": 3
   },
   "file_extension": ".py",
   "mimetype": "text/x-python",
   "name": "python",
   "nbconvert_exporter": "python",
   "pygments_lexer": "ipython3",
   "version": "3.11.5"
  }
 },
 "nbformat": 4,
 "nbformat_minor": 2
}
