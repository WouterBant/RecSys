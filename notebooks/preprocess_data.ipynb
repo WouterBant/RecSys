{
 "cells": [
  {
   "cell_type": "code",
   "execution_count": null,
   "metadata": {},
   "outputs": [],
   "source": [
    "!pip install polars  # not included in the environment"
   ]
  },
  {
   "cell_type": "code",
   "execution_count": null,
   "metadata": {},
   "outputs": [],
   "source": [
    "from datasets import Dataset\n",
    "import polars as pl\n",
    "from pathlib import Path"
   ]
  },
  {
   "cell_type": "code",
   "execution_count": null,
   "metadata": {},
   "outputs": [],
   "source": [
    "PATH = Path(\"../ebnerd-data-demo\")  # requires having the data locally"
   ]
  },
  {
   "cell_type": "code",
   "execution_count": null,
   "metadata": {},
   "outputs": [],
   "source": [
    "data = pl.scan_parquet(PATH.joinpath(\"train\", \"behaviors.parquet\")).collect().to_pandas()\n",
    "data_filterd = data[['impression_id', 'impression_time', 'read_time', 'article_ids_inview', 'article_ids_clicked', 'user_id', 'session_id']]\n",
    "data_filterd = Dataset.from_pandas(data_filterd)\n",
    "data_filterd.push_to_hub(repo_id=\"RecSys_demo\", config_name=\"behaviors\", split=\"train\")"
   ]
  },
  {
   "cell_type": "code",
   "execution_count": null,
   "metadata": {},
   "outputs": [],
   "source": [
    "data = pl.scan_parquet(PATH.joinpath(\"validation\", \"behaviors.parquet\")).collect().to_pandas()\n",
    "data_filterd = data[['impression_id', 'impression_time', 'read_time', 'article_ids_inview', 'article_ids_clicked', 'user_id', 'session_id']]\n",
    "data_filterd = Dataset.from_pandas(data_filterd)\n",
    "data_filterd.push_to_hub(repo_id=\"RecSys_demo\", config_name=\"behaviors\", split=\"validation\")"
   ]
  },
  {
   "cell_type": "code",
   "execution_count": null,
   "metadata": {},
   "outputs": [],
   "source": [
    "data = pl.scan_parquet(PATH.joinpath(\"articles.parquet\")).collect().to_pandas()\n",
    "data_filterd = data[['article_id', 'title', 'subtitle', 'published_time', 'topics', 'category_str', 'sentiment_score', 'sentiment_label']]\n",
    "data_filterd = Dataset.from_pandas(data_filterd)\n",
    "data_filterd.push_to_hub(repo_id=\"RecSys_demo\", config_name=\"articles\")"
   ]
  },
  {
   "cell_type": "code",
   "execution_count": null,
   "metadata": {},
   "outputs": [],
   "source": [
    "def keep_last_n_elements(lst, n=10):\n",
    "    n = min(n, len(lst))\n",
    "    return lst[-n:]"
   ]
  },
  {
   "cell_type": "code",
   "execution_count": null,
   "metadata": {},
   "outputs": [],
   "source": [
    "data = pl.scan_parquet(PATH.joinpath(\"train\", \"history.parquet\")).collect().to_pandas()\n",
    "data['impression_time_fixed'] = data['impression_time_fixed'].apply(lambda x: keep_last_n_elements(x, 10))\n",
    "data['scroll_percentage_fixed'] = data['scroll_percentage_fixed'].apply(lambda x: keep_last_n_elements(x, 10))\n",
    "data['article_id_fixed'] = data['article_id_fixed'].apply(lambda x: keep_last_n_elements(x, 10))\n",
    "data['read_time_fixed'] = data['read_time_fixed'].apply(lambda x: keep_last_n_elements(x, 10))\n",
    "data = Dataset.from_pandas(data)\n",
    "data.push_to_hub(repo_id=\"RecSys_demo\", config_name=\"history\", split=\"train\")"
   ]
  },
  {
   "cell_type": "code",
   "execution_count": null,
   "metadata": {},
   "outputs": [],
   "source": [
    "data = pl.scan_parquet(PATH.joinpath(\"validation\", \"history.parquet\")).collect().to_pandas()\n",
    "data['impression_time_fixed'] = data['impression_time_fixed'].apply(lambda x: keep_last_n_elements(x, 10))\n",
    "data['scroll_percentage_fixed'] = data['scroll_percentage_fixed'].apply(lambda x: keep_last_n_elements(x, 10))\n",
    "data['article_id_fixed'] = data['article_id_fixed'].apply(lambda x: keep_last_n_elements(x, 10))\n",
    "data['read_time_fixed'] = data['read_time_fixed'].apply(lambda x: keep_last_n_elements(x, 10))\n",
    "data = Dataset.from_pandas(data)\n",
    "data.push_to_hub(repo_id=\"RecSys_large\", config_name=\"history\", split=\"validation\")"
   ]
  }
 ],
 "metadata": {
  "kernelspec": {
   "display_name": "dl2023",
   "language": "python",
   "name": "python3"
  },
  "language_info": {
   "codemirror_mode": {
    "name": "ipython",
    "version": 3
   },
   "file_extension": ".py",
   "mimetype": "text/x-python",
   "name": "python",
   "nbconvert_exporter": "python",
   "pygments_lexer": "ipython3",
   "version": "3.11.9"
  }
 },
 "nbformat": 4,
 "nbformat_minor": 2
}
