{
 "cells": [
  {
   "cell_type": "code",
   "execution_count": 11,
   "metadata": {},
   "outputs": [],
   "source": [
    "import numpy as np\n",
    "import torch\n",
    "import matplotlib.pyplot as plt\n",
    "import pandas as pd"
   ]
  },
  {
   "cell_type": "code",
   "execution_count": 1,
   "metadata": {},
   "outputs": [],
   "source": [
    "from pathlib import Path\n",
    "import polars as pl\n",
    "\n",
    "import sys\n",
    "sys.path.append(\"../ebnerd-benchmark/src\")\n",
    "\n",
    "from ebrec.utils._descriptive_analysis import (\n",
    "    min_max_impression_time_behaviors, \n",
    "    min_max_impression_time_history\n",
    ")\n",
    "from ebrec.utils._polars import slice_join_dataframes\n",
    "from ebrec.utils._behaviors import (\n",
    "    create_binary_labels_column,\n",
    "    sampling_strategy_wu2019,\n",
    "    truncate_history,\n",
    ")\n",
    "from ebrec.utils._constants import (\n",
    "    DEFAULT_HISTORY_ARTICLE_ID_COL,\n",
    "    DEFAULT_CLICKED_ARTICLES_COL,\n",
    "    DEFAULT_INVIEW_ARTICLES_COL,\n",
    "    DEFAULT_USER_COL\n",
    ")"
   ]
  },
  {
   "cell_type": "code",
   "execution_count": 5,
   "metadata": {},
   "outputs": [],
   "source": [
    "# 4 files:\n",
    "# -behaviors.parquet\n",
    "# -history.parquet\n",
    "# -articles.parquet\n",
    "# -artifacts.parquet"
   ]
  },
  {
   "cell_type": "code",
   "execution_count": null,
   "metadata": {},
   "outputs": [],
   "source": [
    "# behaviors.parquet:\n",
    "# is article id altijd een van inview articles id\n",
    "\n"
   ]
  },
  {
   "cell_type": "markdown",
   "metadata": {},
   "source": [
    "# Dit laat nu de demo data, maar is handig om alles op te zetten"
   ]
  },
  {
   "cell_type": "code",
   "execution_count": 98,
   "metadata": {},
   "outputs": [],
   "source": [
    "PATH = Path(\"../ebnerd-data-demo\")\n",
    "data_split = \"train\""
   ]
  },
  {
   "cell_type": "code",
   "execution_count": 133,
   "metadata": {},
   "outputs": [],
   "source": [
    "df_behaviors = pl.scan_parquet(PATH.joinpath(data_split, \"behaviors.parquet\"))\n",
    "df_history = pl.scan_parquet(PATH.joinpath(data_split, \"history.parquet\"))\n",
    "df_articles = pl.scan_parquet(PATH.joinpath(\"articles.parquet\"))"
   ]
  },
  {
   "cell_type": "code",
   "execution_count": 134,
   "metadata": {},
   "outputs": [
    {
     "data": {
      "text/plain": [
       "polars.dataframe.frame.DataFrame"
      ]
     },
     "execution_count": 134,
     "metadata": {},
     "output_type": "execute_result"
    }
   ],
   "source": [
    "behaviors = df_behaviors.collect()\n",
    "history = df_history.collect()\n",
    "articles = df_articles.collect()\n",
    "type(history)"
   ]
  },
  {
   "cell_type": "code",
   "execution_count": 184,
   "metadata": {},
   "outputs": [],
   "source": [
    "pd_articles = articles.to_pandas()"
   ]
  },
  {
   "cell_type": "code",
   "execution_count": 203,
   "metadata": {},
   "outputs": [
    {
     "name": "stdout",
     "output_type": "stream",
     "text": [
      "Collecting datasets\n",
      "  Downloading datasets-2.19.2-py3-none-any.whl.metadata (19 kB)\n",
      "Requirement already satisfied: filelock in /home/wouter/miniconda3/envs/dl2023/lib/python3.11/site-packages (from datasets) (3.14.0)\n",
      "Requirement already satisfied: numpy>=1.17 in /home/wouter/miniconda3/envs/dl2023/lib/python3.11/site-packages (from datasets) (1.24.3)\n",
      "Requirement already satisfied: pyarrow>=12.0.0 in /home/wouter/miniconda3/envs/dl2023/lib/python3.11/site-packages (from datasets) (15.0.0)\n",
      "Requirement already satisfied: pyarrow-hotfix in /home/wouter/miniconda3/envs/dl2023/lib/python3.11/site-packages (from datasets) (0.6)\n",
      "Requirement already satisfied: dill<0.3.9,>=0.3.0 in /home/wouter/miniconda3/envs/dl2023/lib/python3.11/site-packages (from datasets) (0.3.6)\n",
      "Requirement already satisfied: pandas in /home/wouter/miniconda3/envs/dl2023/lib/python3.11/site-packages (from datasets) (2.1.2)\n",
      "Collecting requests>=2.32.1 (from datasets)\n",
      "  Downloading requests-2.32.3-py3-none-any.whl.metadata (4.6 kB)\n",
      "Requirement already satisfied: tqdm>=4.62.1 in /home/wouter/miniconda3/envs/dl2023/lib/python3.11/site-packages (from datasets) (4.65.0)\n",
      "Requirement already satisfied: xxhash in /home/wouter/miniconda3/envs/dl2023/lib/python3.11/site-packages (from datasets) (3.4.1)\n",
      "Requirement already satisfied: multiprocess in /home/wouter/miniconda3/envs/dl2023/lib/python3.11/site-packages (from datasets) (0.70.14)\n",
      "Requirement already satisfied: fsspec<=2024.3.1,>=2023.1.0 in /home/wouter/miniconda3/envs/dl2023/lib/python3.11/site-packages (from fsspec[http]<=2024.3.1,>=2023.1.0->datasets) (2023.10.0)\n",
      "Requirement already satisfied: aiohttp in /home/wouter/miniconda3/envs/dl2023/lib/python3.11/site-packages (from datasets) (3.8.6)\n",
      "Requirement already satisfied: huggingface-hub>=0.21.2 in /home/wouter/miniconda3/envs/dl2023/lib/python3.11/site-packages (from datasets) (0.23.0)\n",
      "Requirement already satisfied: packaging in /home/wouter/miniconda3/envs/dl2023/lib/python3.11/site-packages (from datasets) (23.2)\n",
      "Requirement already satisfied: pyyaml>=5.1 in /home/wouter/miniconda3/envs/dl2023/lib/python3.11/site-packages (from datasets) (6.0.1)\n",
      "Requirement already satisfied: attrs>=17.3.0 in /home/wouter/miniconda3/envs/dl2023/lib/python3.11/site-packages (from aiohttp->datasets) (23.1.0)\n",
      "Requirement already satisfied: charset-normalizer<4.0,>=2.0 in /home/wouter/miniconda3/envs/dl2023/lib/python3.11/site-packages (from aiohttp->datasets) (3.3.2)\n",
      "Requirement already satisfied: multidict<7.0,>=4.5 in /home/wouter/miniconda3/envs/dl2023/lib/python3.11/site-packages (from aiohttp->datasets) (6.0.4)\n",
      "Requirement already satisfied: async-timeout<5.0,>=4.0.0a3 in /home/wouter/miniconda3/envs/dl2023/lib/python3.11/site-packages (from aiohttp->datasets) (4.0.3)\n",
      "Requirement already satisfied: yarl<2.0,>=1.0 in /home/wouter/miniconda3/envs/dl2023/lib/python3.11/site-packages (from aiohttp->datasets) (1.9.2)\n",
      "Requirement already satisfied: frozenlist>=1.1.1 in /home/wouter/miniconda3/envs/dl2023/lib/python3.11/site-packages (from aiohttp->datasets) (1.4.0)\n",
      "Requirement already satisfied: aiosignal>=1.1.2 in /home/wouter/miniconda3/envs/dl2023/lib/python3.11/site-packages (from aiohttp->datasets) (1.3.1)\n",
      "Requirement already satisfied: typing-extensions>=3.7.4.3 in /home/wouter/miniconda3/envs/dl2023/lib/python3.11/site-packages (from huggingface-hub>=0.21.2->datasets) (4.8.0)\n",
      "Requirement already satisfied: idna<4,>=2.5 in /home/wouter/miniconda3/envs/dl2023/lib/python3.11/site-packages (from requests>=2.32.1->datasets) (3.4)\n",
      "Requirement already satisfied: urllib3<3,>=1.21.1 in /home/wouter/miniconda3/envs/dl2023/lib/python3.11/site-packages (from requests>=2.32.1->datasets) (1.26.18)\n",
      "Requirement already satisfied: certifi>=2017.4.17 in /home/wouter/miniconda3/envs/dl2023/lib/python3.11/site-packages (from requests>=2.32.1->datasets) (2024.2.2)\n",
      "Requirement already satisfied: python-dateutil>=2.8.2 in /home/wouter/miniconda3/envs/dl2023/lib/python3.11/site-packages (from pandas->datasets) (2.8.2)\n",
      "Requirement already satisfied: pytz>=2020.1 in /home/wouter/miniconda3/envs/dl2023/lib/python3.11/site-packages (from pandas->datasets) (2023.3.post1)\n",
      "Requirement already satisfied: tzdata>=2022.1 in /home/wouter/miniconda3/envs/dl2023/lib/python3.11/site-packages (from pandas->datasets) (2023.3)\n",
      "Requirement already satisfied: six>=1.5 in /home/wouter/miniconda3/envs/dl2023/lib/python3.11/site-packages (from python-dateutil>=2.8.2->pandas->datasets) (1.16.0)\n",
      "Downloading datasets-2.19.2-py3-none-any.whl (542 kB)\n",
      "\u001b[2K   \u001b[90m━━━━━━━━━━━━━━━━━━━━━━━━━━━━━━━━━━━━━━━━\u001b[0m \u001b[32m542.1/542.1 kB\u001b[0m \u001b[31m5.3 MB/s\u001b[0m eta \u001b[36m0:00:00\u001b[0ma \u001b[36m0:00:01\u001b[0m\n",
      "\u001b[?25hDownloading requests-2.32.3-py3-none-any.whl (64 kB)\n",
      "\u001b[2K   \u001b[90m━━━━━━━━━━━━━━━━━━━━━━━━━━━━━━━━━━━━━━━━\u001b[0m \u001b[32m64.9/64.9 kB\u001b[0m \u001b[31m6.8 MB/s\u001b[0m eta \u001b[36m0:00:00\u001b[0m\n",
      "\u001b[?25hInstalling collected packages: requests, datasets\n",
      "  Attempting uninstall: requests\n",
      "    Found existing installation: requests 2.28.2\n",
      "    Uninstalling requests-2.28.2:\n",
      "      Successfully uninstalled requests-2.28.2\n",
      "\u001b[31mERROR: pip's dependency resolver does not currently take into account all the packages that are installed. This behaviour is the source of the following dependency conflicts.\n",
      "openxlab 0.1.0 requires packaging~=24.0, but you have packaging 23.2 which is incompatible.\n",
      "openxlab 0.1.0 requires requests~=2.28.2, but you have requests 2.32.3 which is incompatible.\u001b[0m\u001b[31m\n",
      "\u001b[0mSuccessfully installed datasets-2.19.2 requests-2.32.3\n"
     ]
    }
   ],
   "source": [
    "!pip install datasets"
   ]
  },
  {
   "cell_type": "code",
   "execution_count": 204,
   "metadata": {},
   "outputs": [],
   "source": [
    "from datasets import Dataset\n",
    "huggingface_data = Dataset.from_pandas(pd_articles)"
   ]
  },
  {
   "cell_type": "code",
   "execution_count": null,
   "metadata": {},
   "outputs": [],
   "source": [
    "df_articles = pl.scan_parquet(PATH.joinpath(\"articles.parquet\"))\n"
   ]
  },
  {
   "cell_type": "code",
   "execution_count": 205,
   "metadata": {},
   "outputs": [
    {
     "data": {
      "application/vnd.jupyter.widget-view+json": {
       "model_id": "84669e6ff3f747f7aa76a8abc715b8d2",
       "version_major": 2,
       "version_minor": 0
      },
      "text/plain": [
       "Uploading the dataset shards:   0%|          | 0/1 [00:00<?, ?it/s]"
      ]
     },
     "metadata": {},
     "output_type": "display_data"
    },
    {
     "data": {
      "application/vnd.jupyter.widget-view+json": {
       "model_id": "72bf371cbe104357ad07f6bb9fdaa0b2",
       "version_major": 2,
       "version_minor": 0
      },
      "text/plain": [
       "Creating parquet from Arrow format:   0%|          | 0/12 [00:00<?, ?ba/s]"
      ]
     },
     "metadata": {},
     "output_type": "display_data"
    },
    {
     "data": {
      "text/plain": [
       "CommitInfo(commit_url='https://huggingface.co/datasets/Wouter01/testdemoarticles/commit/6ef88104f95fd1ac2fd7ee7fd4a6a43690c34036', commit_message='Upload dataset', commit_description='', oid='6ef88104f95fd1ac2fd7ee7fd4a6a43690c34036', pr_url=None, pr_revision=None, pr_num=None)"
      ]
     },
     "execution_count": 205,
     "metadata": {},
     "output_type": "execute_result"
    }
   ],
   "source": [
    "huggingface_data.push_to_hub(\"testdemoarticles\")"
   ]
  },
  {
   "cell_type": "code",
   "execution_count": 213,
   "metadata": {},
   "outputs": [
    {
     "data": {
      "application/vnd.jupyter.widget-view+json": {
       "model_id": "c4d7f2fcc02f45aa94d8a34889b274ec",
       "version_major": 2,
       "version_minor": 0
      },
      "text/plain": [
       "Uploading the dataset shards:   0%|          | 0/1 [00:00<?, ?it/s]"
      ]
     },
     "metadata": {},
     "output_type": "display_data"
    },
    {
     "data": {
      "application/vnd.jupyter.widget-view+json": {
       "model_id": "633126e016e648718ac188c65a685597",
       "version_major": 2,
       "version_minor": 0
      },
      "text/plain": [
       "Creating parquet from Arrow format:   0%|          | 0/25 [00:00<?, ?ba/s]"
      ]
     },
     "metadata": {},
     "output_type": "display_data"
    },
    {
     "data": {
      "application/vnd.jupyter.widget-view+json": {
       "model_id": "9b88bd8e6a234d32bc0fe241d94ae73a",
       "version_major": 2,
       "version_minor": 0
      },
      "text/plain": [
       "Uploading the dataset shards:   0%|          | 0/1 [00:00<?, ?it/s]"
      ]
     },
     "metadata": {},
     "output_type": "display_data"
    },
    {
     "data": {
      "application/vnd.jupyter.widget-view+json": {
       "model_id": "48ebb01b30d84024b26622220afde304",
       "version_major": 2,
       "version_minor": 0
      },
      "text/plain": [
       "Creating parquet from Arrow format:   0%|          | 0/26 [00:00<?, ?ba/s]"
      ]
     },
     "metadata": {},
     "output_type": "display_data"
    },
    {
     "data": {
      "application/vnd.jupyter.widget-view+json": {
       "model_id": "264ae5c30b214163b18d655ef2ae989f",
       "version_major": 2,
       "version_minor": 0
      },
      "text/plain": [
       "README.md:   0%|          | 0.00/954 [00:00<?, ?B/s]"
      ]
     },
     "metadata": {},
     "output_type": "display_data"
    }
   ],
   "source": [
    "for split in [\"train\", \"validation\"]:\n",
    "    data = Dataset.from_pandas(pl.scan_parquet(PATH.joinpath(split, \"behaviors.parquet\")).collect().to_pandas())\n",
    "    data.push_to_hub(\"testdemobehaviors\", split=split)\n"
   ]
  },
  {
   "cell_type": "code",
   "execution_count": 214,
   "metadata": {},
   "outputs": [
    {
     "data": {
      "application/vnd.jupyter.widget-view+json": {
       "model_id": "adf0c3c8a2144212acd8a1970d237336",
       "version_major": 2,
       "version_minor": 0
      },
      "text/plain": [
       "Uploading the dataset shards:   0%|          | 0/1 [00:00<?, ?it/s]"
      ]
     },
     "metadata": {},
     "output_type": "display_data"
    },
    {
     "data": {
      "application/vnd.jupyter.widget-view+json": {
       "model_id": "9818e71177824a92bda1f2a843bde5de",
       "version_major": 2,
       "version_minor": 0
      },
      "text/plain": [
       "Creating parquet from Arrow format:   0%|          | 0/2 [00:00<?, ?ba/s]"
      ]
     },
     "metadata": {},
     "output_type": "display_data"
    },
    {
     "data": {
      "application/vnd.jupyter.widget-view+json": {
       "model_id": "2697b6cca48c4d85a3e333c95277d98b",
       "version_major": 2,
       "version_minor": 0
      },
      "text/plain": [
       "Uploading the dataset shards:   0%|          | 0/1 [00:00<?, ?it/s]"
      ]
     },
     "metadata": {},
     "output_type": "display_data"
    },
    {
     "data": {
      "application/vnd.jupyter.widget-view+json": {
       "model_id": "3f8650e4eabe49988a9ae1969edb1c10",
       "version_major": 2,
       "version_minor": 0
      },
      "text/plain": [
       "Creating parquet from Arrow format:   0%|          | 0/2 [00:00<?, ?ba/s]"
      ]
     },
     "metadata": {},
     "output_type": "display_data"
    },
    {
     "data": {
      "application/vnd.jupyter.widget-view+json": {
       "model_id": "b867940540294c5f9466f5bc8fae6c45",
       "version_major": 2,
       "version_minor": 0
      },
      "text/plain": [
       "README.md:   0%|          | 0.00/488 [00:00<?, ?B/s]"
      ]
     },
     "metadata": {},
     "output_type": "display_data"
    }
   ],
   "source": [
    "for split in [\"train\", \"validation\"]:\n",
    "    data = Dataset.from_pandas(pl.scan_parquet(PATH.joinpath(split, \"history.parquet\")).collect().to_pandas())\n",
    "    data.push_to_hub(\"testdemohistory\", split=split)\n"
   ]
  },
  {
   "cell_type": "code",
   "execution_count": 199,
   "metadata": {},
   "outputs": [
    {
     "data": {
      "text/html": [
       "<div>\n",
       "<style scoped>\n",
       "    .dataframe tbody tr th:only-of-type {\n",
       "        vertical-align: middle;\n",
       "    }\n",
       "\n",
       "    .dataframe tbody tr th {\n",
       "        vertical-align: top;\n",
       "    }\n",
       "\n",
       "    .dataframe thead th {\n",
       "        text-align: right;\n",
       "    }\n",
       "</style>\n",
       "<table border=\"1\" class=\"dataframe\">\n",
       "  <thead>\n",
       "    <tr style=\"text-align: right;\">\n",
       "      <th></th>\n",
       "      <th>article_id</th>\n",
       "      <th>title</th>\n",
       "      <th>subtitle</th>\n",
       "      <th>last_modified_time</th>\n",
       "      <th>premium</th>\n",
       "      <th>body</th>\n",
       "      <th>published_time</th>\n",
       "      <th>image_ids</th>\n",
       "      <th>article_type</th>\n",
       "      <th>url</th>\n",
       "      <th>...</th>\n",
       "      <th>entity_groups</th>\n",
       "      <th>topics</th>\n",
       "      <th>category</th>\n",
       "      <th>subcategory</th>\n",
       "      <th>category_str</th>\n",
       "      <th>total_inviews</th>\n",
       "      <th>total_pageviews</th>\n",
       "      <th>total_read_time</th>\n",
       "      <th>sentiment_score</th>\n",
       "      <th>sentiment_label</th>\n",
       "    </tr>\n",
       "  </thead>\n",
       "  <tbody>\n",
       "    <tr>\n",
       "      <th>0</th>\n",
       "      <td>3037230</td>\n",
       "      <td>Ishockey-spiller: Jeg troede jeg skulle dø</td>\n",
       "      <td>ISHOCKEY: Ishockey-spilleren Sebastian Harts h...</td>\n",
       "      <td>2023-06-29 06:20:57</td>\n",
       "      <td>False</td>\n",
       "      <td>Ambitionerne om at komme til USA og spille ish...</td>\n",
       "      <td>2003-08-28 08:55:00</td>\n",
       "      <td>None</td>\n",
       "      <td>article_default</td>\n",
       "      <td>https://ekstrabladet.dk/sport/anden_sport/isho...</td>\n",
       "      <td>...</td>\n",
       "      <td>[]</td>\n",
       "      <td>[Kriminalitet, Kendt, Sport, Katastrofe, Mindr...</td>\n",
       "      <td>142</td>\n",
       "      <td>[327, 334]</td>\n",
       "      <td>sport</td>\n",
       "      <td>NaN</td>\n",
       "      <td>NaN</td>\n",
       "      <td>NaN</td>\n",
       "      <td>0.9752</td>\n",
       "      <td>Negative</td>\n",
       "    </tr>\n",
       "    <tr>\n",
       "      <th>1</th>\n",
       "      <td>3044020</td>\n",
       "      <td>Prins Harry tvunget til dna-test</td>\n",
       "      <td>Hoffet tvang Prins Harry til at tage dna-test ...</td>\n",
       "      <td>2023-06-29 06:21:16</td>\n",
       "      <td>False</td>\n",
       "      <td>Den britiske tabloidavis The Sun fortsætter me...</td>\n",
       "      <td>2005-06-29 08:47:00</td>\n",
       "      <td>[3097307, 3097197, 3104927]</td>\n",
       "      <td>article_default</td>\n",
       "      <td>https://ekstrabladet.dk/underholdning/udlandke...</td>\n",
       "      <td>...</td>\n",
       "      <td>[PER, PER]</td>\n",
       "      <td>[Kriminalitet, Kendt, Underholdning, Personfar...</td>\n",
       "      <td>414</td>\n",
       "      <td>[432]</td>\n",
       "      <td>underholdning</td>\n",
       "      <td>NaN</td>\n",
       "      <td>NaN</td>\n",
       "      <td>NaN</td>\n",
       "      <td>0.7084</td>\n",
       "      <td>Negative</td>\n",
       "    </tr>\n",
       "    <tr>\n",
       "      <th>2</th>\n",
       "      <td>3057622</td>\n",
       "      <td>Rådden kørsel på blå plader</td>\n",
       "      <td>Kan ikke straffes: Udenlandske diplomater i Da...</td>\n",
       "      <td>2023-06-29 06:21:24</td>\n",
       "      <td>False</td>\n",
       "      <td>Slingrende spritkørsel. Grove overtrædelser af...</td>\n",
       "      <td>2005-10-10 07:20:00</td>\n",
       "      <td>[3047102]</td>\n",
       "      <td>article_default</td>\n",
       "      <td>https://ekstrabladet.dk/nyheder/samfund/articl...</td>\n",
       "      <td>...</td>\n",
       "      <td>[]</td>\n",
       "      <td>[Kriminalitet, Transportmiddel, Bil]</td>\n",
       "      <td>118</td>\n",
       "      <td>[133]</td>\n",
       "      <td>nyheder</td>\n",
       "      <td>NaN</td>\n",
       "      <td>NaN</td>\n",
       "      <td>NaN</td>\n",
       "      <td>0.9236</td>\n",
       "      <td>Negative</td>\n",
       "    </tr>\n",
       "    <tr>\n",
       "      <th>3</th>\n",
       "      <td>3073151</td>\n",
       "      <td>Mærsk-arvinger i livsfare</td>\n",
       "      <td>FANGET I FLODBØLGEN: Skibsrederens oldebørn må...</td>\n",
       "      <td>2023-06-29 06:21:38</td>\n",
       "      <td>False</td>\n",
       "      <td>To oldebørn af skibsreder Mærsk McKinney Mølle...</td>\n",
       "      <td>2005-01-04 06:59:00</td>\n",
       "      <td>[3067474, 3067478, 3153705]</td>\n",
       "      <td>article_default</td>\n",
       "      <td>https://ekstrabladet.dk/nyheder/samfund/articl...</td>\n",
       "      <td>...</td>\n",
       "      <td>[]</td>\n",
       "      <td>[Erhverv, Privat virksomhed, Livsstil, Familie...</td>\n",
       "      <td>118</td>\n",
       "      <td>[133]</td>\n",
       "      <td>nyheder</td>\n",
       "      <td>NaN</td>\n",
       "      <td>NaN</td>\n",
       "      <td>NaN</td>\n",
       "      <td>0.9945</td>\n",
       "      <td>Negative</td>\n",
       "    </tr>\n",
       "    <tr>\n",
       "      <th>4</th>\n",
       "      <td>3193383</td>\n",
       "      <td>Skød svigersøn gennem babydyne</td>\n",
       "      <td>44-årig kvinde tiltalt for drab på ekssvigersø...</td>\n",
       "      <td>2023-06-29 06:22:57</td>\n",
       "      <td>False</td>\n",
       "      <td>En 44-årig mormor blev i dag fremstillet i et ...</td>\n",
       "      <td>2003-09-15 15:30:00</td>\n",
       "      <td>None</td>\n",
       "      <td>article_default</td>\n",
       "      <td>https://ekstrabladet.dk/krimi/article3193383.ece</td>\n",
       "      <td>...</td>\n",
       "      <td>[]</td>\n",
       "      <td>[Kriminalitet, Personfarlig kriminalitet]</td>\n",
       "      <td>140</td>\n",
       "      <td>[]</td>\n",
       "      <td>krimi</td>\n",
       "      <td>NaN</td>\n",
       "      <td>NaN</td>\n",
       "      <td>NaN</td>\n",
       "      <td>0.9966</td>\n",
       "      <td>Negative</td>\n",
       "    </tr>\n",
       "    <tr>\n",
       "      <th>5</th>\n",
       "      <td>3196611</td>\n",
       "      <td>Zoo-tårnet 100 år</td>\n",
       "      <td>I mange år var det god latin at vide, at højde...</td>\n",
       "      <td>2023-06-29 06:23:02</td>\n",
       "      <td>False</td>\n",
       "      <td>I mange år var det god latin at vide, at højde...</td>\n",
       "      <td>2005-06-10 05:40:00</td>\n",
       "      <td>[3067931, 3035588]</td>\n",
       "      <td>article_default</td>\n",
       "      <td>https://ekstrabladet.dk/ferie/article3196611.ece</td>\n",
       "      <td>...</td>\n",
       "      <td>[]</td>\n",
       "      <td>[Kultur, Museum og seværdighed]</td>\n",
       "      <td>539</td>\n",
       "      <td>[]</td>\n",
       "      <td>ferie</td>\n",
       "      <td>NaN</td>\n",
       "      <td>NaN</td>\n",
       "      <td>NaN</td>\n",
       "      <td>0.6275</td>\n",
       "      <td>Neutral</td>\n",
       "    </tr>\n",
       "    <tr>\n",
       "      <th>6</th>\n",
       "      <td>3200325</td>\n",
       "      <td>Tævet ihjel på tre kvarter</td>\n",
       "      <td>Sadomasochistisk sex-guru: - Hun var en slavet...</td>\n",
       "      <td>2023-06-29 06:23:13</td>\n",
       "      <td>False</td>\n",
       "      <td>.\\nSkolepige vil giftes med guru\\n.\\nKnus og k...</td>\n",
       "      <td>2002-06-25 05:10:00</td>\n",
       "      <td>[3200179, 3186817]</td>\n",
       "      <td>article_default</td>\n",
       "      <td>https://ekstrabladet.dk/krimi/article3200325.ece</td>\n",
       "      <td>...</td>\n",
       "      <td>[]</td>\n",
       "      <td>[Kriminalitet, Livsstil, Personfarlig kriminal...</td>\n",
       "      <td>140</td>\n",
       "      <td>[]</td>\n",
       "      <td>krimi</td>\n",
       "      <td>NaN</td>\n",
       "      <td>NaN</td>\n",
       "      <td>NaN</td>\n",
       "      <td>0.9913</td>\n",
       "      <td>Negative</td>\n",
       "    </tr>\n",
       "    <tr>\n",
       "      <th>7</th>\n",
       "      <td>3200913</td>\n",
       "      <td>Denne kæp kan fælde voldtægtsmand</td>\n",
       "      <td>Nye spor i den bestialske voldtægtssag i Århus</td>\n",
       "      <td>2023-06-29 06:23:15</td>\n",
       "      <td>False</td>\n",
       "      <td>Den usædvanlig grove voldtægt, der blev begået...</td>\n",
       "      <td>2003-09-11 08:55:00</td>\n",
       "      <td>None</td>\n",
       "      <td>article_default</td>\n",
       "      <td>https://ekstrabladet.dk/krimi/article3200913.ece</td>\n",
       "      <td>...</td>\n",
       "      <td>[]</td>\n",
       "      <td>[Kriminalitet, Personfarlig kriminalitet]</td>\n",
       "      <td>140</td>\n",
       "      <td>[]</td>\n",
       "      <td>krimi</td>\n",
       "      <td>NaN</td>\n",
       "      <td>NaN</td>\n",
       "      <td>NaN</td>\n",
       "      <td>0.9839</td>\n",
       "      <td>Negative</td>\n",
       "    </tr>\n",
       "    <tr>\n",
       "      <th>8</th>\n",
       "      <td>3209311</td>\n",
       "      <td>Morder truer med nyt drab</td>\n",
       "      <td>En morder er blevet varetægtsfængslet for at h...</td>\n",
       "      <td>2023-06-29 06:23:35</td>\n",
       "      <td>False</td>\n",
       "      <td>En morder er i retten i Kolding blevet varetæg...</td>\n",
       "      <td>2003-03-20 12:50:00</td>\n",
       "      <td>None</td>\n",
       "      <td>article_default</td>\n",
       "      <td>https://ekstrabladet.dk/krimi/article3209311.ece</td>\n",
       "      <td>...</td>\n",
       "      <td>[PER]</td>\n",
       "      <td>[Kriminalitet, Personfarlig kriminalitet]</td>\n",
       "      <td>140</td>\n",
       "      <td>[]</td>\n",
       "      <td>krimi</td>\n",
       "      <td>NaN</td>\n",
       "      <td>NaN</td>\n",
       "      <td>NaN</td>\n",
       "      <td>0.9975</td>\n",
       "      <td>Negative</td>\n",
       "    </tr>\n",
       "    <tr>\n",
       "      <th>9</th>\n",
       "      <td>3209357</td>\n",
       "      <td>Pædofil må stadig undervise børn</td>\n",
       "      <td>Lærer havde 700 børnepornobilleder på sin comp...</td>\n",
       "      <td>2023-06-29 06:23:35</td>\n",
       "      <td>False</td>\n",
       "      <td>En 56-årig sønderjysk lærer må stadig undervis...</td>\n",
       "      <td>2005-02-26 04:45:00</td>\n",
       "      <td>[3069815]</td>\n",
       "      <td>article_default</td>\n",
       "      <td>https://ekstrabladet.dk/krimi/article3209357.ece</td>\n",
       "      <td>...</td>\n",
       "      <td>[]</td>\n",
       "      <td>[Kriminalitet, Personfarlig kriminalitet, Offe...</td>\n",
       "      <td>140</td>\n",
       "      <td>[]</td>\n",
       "      <td>krimi</td>\n",
       "      <td>NaN</td>\n",
       "      <td>NaN</td>\n",
       "      <td>NaN</td>\n",
       "      <td>0.7929</td>\n",
       "      <td>Negative</td>\n",
       "    </tr>\n",
       "    <tr>\n",
       "      <th>10</th>\n",
       "      <td>3223114</td>\n",
       "      <td>Creamy-pige gravid - igen</td>\n",
       "      <td>Rannva Joensen fra den hedengangne børneduo Cr...</td>\n",
       "      <td>2023-06-29 06:24:08</td>\n",
       "      <td>False</td>\n",
       "      <td>Tiden flyver. Det virker ikke som lang tid sid...</td>\n",
       "      <td>2005-02-10 15:39:00</td>\n",
       "      <td>[3101355]</td>\n",
       "      <td>article_default</td>\n",
       "      <td>https://ekstrabladet.dk/underholdning/udlandke...</td>\n",
       "      <td>...</td>\n",
       "      <td>[]</td>\n",
       "      <td>[Kendt, Livsstil, Familieliv, Underholdning]</td>\n",
       "      <td>414</td>\n",
       "      <td>[432]</td>\n",
       "      <td>underholdning</td>\n",
       "      <td>NaN</td>\n",
       "      <td>NaN</td>\n",
       "      <td>NaN</td>\n",
       "      <td>0.8393</td>\n",
       "      <td>Positive</td>\n",
       "    </tr>\n",
       "    <tr>\n",
       "      <th>11</th>\n",
       "      <td>3251664</td>\n",
       "      <td>Champagne-drengen</td>\n",
       "      <td>FODBOLD: Kim Daugaard skaffede sig det bedste ...</td>\n",
       "      <td>2023-06-29 06:25:14</td>\n",
       "      <td>False</td>\n",
       "      <td>De kalder ham Brøndbys Zidane, og derfor kom d...</td>\n",
       "      <td>2002-05-17 07:10:00</td>\n",
       "      <td>[3246431]</td>\n",
       "      <td>article_default</td>\n",
       "      <td>https://ekstrabladet.dk/sport/fodbold/dansk_fo...</td>\n",
       "      <td>...</td>\n",
       "      <td>[]</td>\n",
       "      <td>[Kendt, Begivenhed, Sport, Fodbold, Sportsbegi...</td>\n",
       "      <td>142</td>\n",
       "      <td>[196, 199]</td>\n",
       "      <td>sport</td>\n",
       "      <td>NaN</td>\n",
       "      <td>NaN</td>\n",
       "      <td>NaN</td>\n",
       "      <td>0.8574</td>\n",
       "      <td>Positive</td>\n",
       "    </tr>\n",
       "    <tr>\n",
       "      <th>12</th>\n",
       "      <td>3971783</td>\n",
       "      <td>Paradise-Maria vred på TV3: De skam-klipper mig!</td>\n",
       "      <td>Reality-deltageren skælder ud på tv-stationen,...</td>\n",
       "      <td>2023-06-29 06:27:07</td>\n",
       "      <td>False</td>\n",
       "      <td>Paradise Hotel-deltageren Maria Hylleberg rase...</td>\n",
       "      <td>2013-04-17 17:27:57</td>\n",
       "      <td>None</td>\n",
       "      <td>article_default</td>\n",
       "      <td>https://ekstrabladet.dk/underholdning/dkkendte...</td>\n",
       "      <td>...</td>\n",
       "      <td>[]</td>\n",
       "      <td>[Kendt, Livsstil, Underholdning, Reality]</td>\n",
       "      <td>414</td>\n",
       "      <td>[425]</td>\n",
       "      <td>underholdning</td>\n",
       "      <td>NaN</td>\n",
       "      <td>NaN</td>\n",
       "      <td>NaN</td>\n",
       "      <td>0.9590</td>\n",
       "      <td>Negative</td>\n",
       "    </tr>\n",
       "    <tr>\n",
       "      <th>13</th>\n",
       "      <td>3977720</td>\n",
       "      <td>Allan Nielsen-flirten: Han ragede mig på fjamsen</td>\n",
       "      <td>Allan Nielsen blokerede dagen efter Putte Thom...</td>\n",
       "      <td>2023-06-29 06:27:12</td>\n",
       "      <td>False</td>\n",
       "      <td>Allan Nielsen nøjedes ikke med at gramse Putte...</td>\n",
       "      <td>2013-05-01 14:11:38</td>\n",
       "      <td>[3793797]</td>\n",
       "      <td>article_default</td>\n",
       "      <td>https://ekstrabladet.dk/underholdning/dkkendte...</td>\n",
       "      <td>...</td>\n",
       "      <td>[]</td>\n",
       "      <td>[Kendt, Livsstil, Erotik, Partnerskab]</td>\n",
       "      <td>414</td>\n",
       "      <td>[425]</td>\n",
       "      <td>underholdning</td>\n",
       "      <td>NaN</td>\n",
       "      <td>NaN</td>\n",
       "      <td>NaN</td>\n",
       "      <td>0.9506</td>\n",
       "      <td>Negative</td>\n",
       "    </tr>\n",
       "    <tr>\n",
       "      <th>14</th>\n",
       "      <td>3983641</td>\n",
       "      <td>Her er Danmarks bedste håndværksfirmaer</td>\n",
       "      <td>Smiley-portalen anmeld-haandvaerker har blandt...</td>\n",
       "      <td>2023-06-29 06:27:28</td>\n",
       "      <td>False</td>\n",
       "      <td>Dusinet var fuld, da smiley-portalen\\nanmeld-h...</td>\n",
       "      <td>2013-04-11 13:24:43</td>\n",
       "      <td>[3968329]</td>\n",
       "      <td>article_default</td>\n",
       "      <td>https://ekstrabladet.dk/Haandvaerkeren/article...</td>\n",
       "      <td>...</td>\n",
       "      <td>[]</td>\n",
       "      <td>[Erhverv, Privat virksomhed, Offentlig instans]</td>\n",
       "      <td>561</td>\n",
       "      <td>[]</td>\n",
       "      <td>haandvaerkeren</td>\n",
       "      <td>NaN</td>\n",
       "      <td>NaN</td>\n",
       "      <td>NaN</td>\n",
       "      <td>0.7151</td>\n",
       "      <td>Positive</td>\n",
       "    </tr>\n",
       "    <tr>\n",
       "      <th>15</th>\n",
       "      <td>3987418</td>\n",
       "      <td>Rolfs dopingsnyd var en god forretning</td>\n",
       "      <td>Han bedrog en hel cykelverden - og blev mangem...</td>\n",
       "      <td>2023-06-29 06:27:44</td>\n",
       "      <td>False</td>\n",
       "      <td>Det kastede gode penge af sig at være en af ve...</td>\n",
       "      <td>2013-03-19 10:10:30</td>\n",
       "      <td>[3788182]</td>\n",
       "      <td>article_default</td>\n",
       "      <td>https://ekstrabladet.dk/sport/cykling/article3...</td>\n",
       "      <td>...</td>\n",
       "      <td>[]</td>\n",
       "      <td>[Kendt, Sport, Cykling]</td>\n",
       "      <td>142</td>\n",
       "      <td>[317]</td>\n",
       "      <td>sport</td>\n",
       "      <td>NaN</td>\n",
       "      <td>NaN</td>\n",
       "      <td>NaN</td>\n",
       "      <td>0.5846</td>\n",
       "      <td>Negative</td>\n",
       "    </tr>\n",
       "    <tr>\n",
       "      <th>16</th>\n",
       "      <td>3988589</td>\n",
       "      <td>Mikkel Kessler sælger sit hus til sig selv</td>\n",
       "      <td>Mikkel Kessler har lige lavet en såkaldt 'win-...</td>\n",
       "      <td>2023-06-29 06:27:49</td>\n",
       "      <td>False</td>\n",
       "      <td>Der er ikke noget bedre end to tilfredse parte...</td>\n",
       "      <td>2013-03-12 15:20:40</td>\n",
       "      <td>[3943517, 4468600]</td>\n",
       "      <td>article_default</td>\n",
       "      <td>https://ekstrabladet.dk/underholdning/dkkendte...</td>\n",
       "      <td>...</td>\n",
       "      <td>[]</td>\n",
       "      <td>[Kendt, Underholdning, Bolig, Køb og salg]</td>\n",
       "      <td>414</td>\n",
       "      <td>[425]</td>\n",
       "      <td>underholdning</td>\n",
       "      <td>NaN</td>\n",
       "      <td>NaN</td>\n",
       "      <td>NaN</td>\n",
       "      <td>0.5505</td>\n",
       "      <td>Positive</td>\n",
       "    </tr>\n",
       "    <tr>\n",
       "      <th>17</th>\n",
       "      <td>3993395</td>\n",
       "      <td>Dansker fængslet i Thailand</td>\n",
       "      <td>Vanvittigt drama i Phuket: Først stjal han en ...</td>\n",
       "      <td>2023-06-29 06:28:08</td>\n",
       "      <td>False</td>\n",
       "      <td>Danske Dennis Mark Knudsen er efterhånden et k...</td>\n",
       "      <td>2013-02-05 05:21:28</td>\n",
       "      <td>None</td>\n",
       "      <td>article_default</td>\n",
       "      <td>https://ekstrabladet.dk/krimi/article3993395.ece</td>\n",
       "      <td>...</td>\n",
       "      <td>[]</td>\n",
       "      <td>[Kriminalitet, Personfarlig kriminalitet, Kata...</td>\n",
       "      <td>140</td>\n",
       "      <td>[]</td>\n",
       "      <td>krimi</td>\n",
       "      <td>NaN</td>\n",
       "      <td>NaN</td>\n",
       "      <td>NaN</td>\n",
       "      <td>0.9975</td>\n",
       "      <td>Negative</td>\n",
       "    </tr>\n",
       "    <tr>\n",
       "      <th>18</th>\n",
       "      <td>3994264</td>\n",
       "      <td>Amagermanden frosset ud af medfanger</td>\n",
       "      <td>Blev ikke tilbudt at sultestrejke med de andre...</td>\n",
       "      <td>2023-06-29 06:28:12</td>\n",
       "      <td>False</td>\n",
       "      <td>Ingen fanger gider at være sammen med livstids...</td>\n",
       "      <td>2013-01-31 06:16:05</td>\n",
       "      <td>[3940996, 3940981]</td>\n",
       "      <td>article_default</td>\n",
       "      <td>https://ekstrabladet.dk/krimi/article3994264.ece</td>\n",
       "      <td>...</td>\n",
       "      <td>[]</td>\n",
       "      <td>[Kriminalitet, Personfarlig kriminalitet]</td>\n",
       "      <td>140</td>\n",
       "      <td>[]</td>\n",
       "      <td>krimi</td>\n",
       "      <td>NaN</td>\n",
       "      <td>NaN</td>\n",
       "      <td>NaN</td>\n",
       "      <td>0.8838</td>\n",
       "      <td>Negative</td>\n",
       "    </tr>\n",
       "    <tr>\n",
       "      <th>19</th>\n",
       "      <td>3997229</td>\n",
       "      <td>Linnet er millionær i mursten</td>\n",
       "      <td>X Factor-dommeren er en habil ejendomsbesidder</td>\n",
       "      <td>2023-06-29 06:28:24</td>\n",
       "      <td>False</td>\n",
       "      <td>Anne Linnet er væsentligt bedre stillet end si...</td>\n",
       "      <td>2013-01-16 06:49:35</td>\n",
       "      <td>[3934702, 3934714]</td>\n",
       "      <td>article_default</td>\n",
       "      <td>https://ekstrabladet.dk/underholdning/dkkendte...</td>\n",
       "      <td>...</td>\n",
       "      <td>[]</td>\n",
       "      <td>[Kendt, Underholdning, Økonomi, Mikro, Bolig, ...</td>\n",
       "      <td>414</td>\n",
       "      <td>[425]</td>\n",
       "      <td>underholdning</td>\n",
       "      <td>NaN</td>\n",
       "      <td>NaN</td>\n",
       "      <td>NaN</td>\n",
       "      <td>0.4993</td>\n",
       "      <td>Positive</td>\n",
       "    </tr>\n",
       "  </tbody>\n",
       "</table>\n",
       "<p>20 rows × 21 columns</p>\n",
       "</div>"
      ],
      "text/plain": [
       "    article_id                                             title  \\\n",
       "0      3037230        Ishockey-spiller: Jeg troede jeg skulle dø   \n",
       "1      3044020                  Prins Harry tvunget til dna-test   \n",
       "2      3057622                       Rådden kørsel på blå plader   \n",
       "3      3073151                         Mærsk-arvinger i livsfare   \n",
       "4      3193383                    Skød svigersøn gennem babydyne   \n",
       "5      3196611                                 Zoo-tårnet 100 år   \n",
       "6      3200325                        Tævet ihjel på tre kvarter   \n",
       "7      3200913                 Denne kæp kan fælde voldtægtsmand   \n",
       "8      3209311                         Morder truer med nyt drab   \n",
       "9      3209357                  Pædofil må stadig undervise børn   \n",
       "10     3223114                         Creamy-pige gravid - igen   \n",
       "11     3251664                                 Champagne-drengen   \n",
       "12     3971783  Paradise-Maria vred på TV3: De skam-klipper mig!   \n",
       "13     3977720  Allan Nielsen-flirten: Han ragede mig på fjamsen   \n",
       "14     3983641           Her er Danmarks bedste håndværksfirmaer   \n",
       "15     3987418            Rolfs dopingsnyd var en god forretning   \n",
       "16     3988589        Mikkel Kessler sælger sit hus til sig selv   \n",
       "17     3993395                       Dansker fængslet i Thailand   \n",
       "18     3994264              Amagermanden frosset ud af medfanger   \n",
       "19     3997229                     Linnet er millionær i mursten   \n",
       "\n",
       "                                             subtitle  last_modified_time  \\\n",
       "0   ISHOCKEY: Ishockey-spilleren Sebastian Harts h... 2023-06-29 06:20:57   \n",
       "1   Hoffet tvang Prins Harry til at tage dna-test ... 2023-06-29 06:21:16   \n",
       "2   Kan ikke straffes: Udenlandske diplomater i Da... 2023-06-29 06:21:24   \n",
       "3   FANGET I FLODBØLGEN: Skibsrederens oldebørn må... 2023-06-29 06:21:38   \n",
       "4   44-årig kvinde tiltalt for drab på ekssvigersø... 2023-06-29 06:22:57   \n",
       "5   I mange år var det god latin at vide, at højde... 2023-06-29 06:23:02   \n",
       "6   Sadomasochistisk sex-guru: - Hun var en slavet... 2023-06-29 06:23:13   \n",
       "7      Nye spor i den bestialske voldtægtssag i Århus 2023-06-29 06:23:15   \n",
       "8   En morder er blevet varetægtsfængslet for at h... 2023-06-29 06:23:35   \n",
       "9   Lærer havde 700 børnepornobilleder på sin comp... 2023-06-29 06:23:35   \n",
       "10  Rannva Joensen fra den hedengangne børneduo Cr... 2023-06-29 06:24:08   \n",
       "11  FODBOLD: Kim Daugaard skaffede sig det bedste ... 2023-06-29 06:25:14   \n",
       "12  Reality-deltageren skælder ud på tv-stationen,... 2023-06-29 06:27:07   \n",
       "13  Allan Nielsen blokerede dagen efter Putte Thom... 2023-06-29 06:27:12   \n",
       "14  Smiley-portalen anmeld-haandvaerker har blandt... 2023-06-29 06:27:28   \n",
       "15  Han bedrog en hel cykelverden - og blev mangem... 2023-06-29 06:27:44   \n",
       "16  Mikkel Kessler har lige lavet en såkaldt 'win-... 2023-06-29 06:27:49   \n",
       "17  Vanvittigt drama i Phuket: Først stjal han en ... 2023-06-29 06:28:08   \n",
       "18  Blev ikke tilbudt at sultestrejke med de andre... 2023-06-29 06:28:12   \n",
       "19     X Factor-dommeren er en habil ejendomsbesidder 2023-06-29 06:28:24   \n",
       "\n",
       "    premium                                               body  \\\n",
       "0     False  Ambitionerne om at komme til USA og spille ish...   \n",
       "1     False  Den britiske tabloidavis The Sun fortsætter me...   \n",
       "2     False  Slingrende spritkørsel. Grove overtrædelser af...   \n",
       "3     False  To oldebørn af skibsreder Mærsk McKinney Mølle...   \n",
       "4     False  En 44-årig mormor blev i dag fremstillet i et ...   \n",
       "5     False  I mange år var det god latin at vide, at højde...   \n",
       "6     False  .\\nSkolepige vil giftes med guru\\n.\\nKnus og k...   \n",
       "7     False  Den usædvanlig grove voldtægt, der blev begået...   \n",
       "8     False  En morder er i retten i Kolding blevet varetæg...   \n",
       "9     False  En 56-årig sønderjysk lærer må stadig undervis...   \n",
       "10    False  Tiden flyver. Det virker ikke som lang tid sid...   \n",
       "11    False  De kalder ham Brøndbys Zidane, og derfor kom d...   \n",
       "12    False  Paradise Hotel-deltageren Maria Hylleberg rase...   \n",
       "13    False  Allan Nielsen nøjedes ikke med at gramse Putte...   \n",
       "14    False  Dusinet var fuld, da smiley-portalen\\nanmeld-h...   \n",
       "15    False  Det kastede gode penge af sig at være en af ve...   \n",
       "16    False  Der er ikke noget bedre end to tilfredse parte...   \n",
       "17    False  Danske Dennis Mark Knudsen er efterhånden et k...   \n",
       "18    False  Ingen fanger gider at være sammen med livstids...   \n",
       "19    False  Anne Linnet er væsentligt bedre stillet end si...   \n",
       "\n",
       "        published_time                    image_ids     article_type  \\\n",
       "0  2003-08-28 08:55:00                         None  article_default   \n",
       "1  2005-06-29 08:47:00  [3097307, 3097197, 3104927]  article_default   \n",
       "2  2005-10-10 07:20:00                    [3047102]  article_default   \n",
       "3  2005-01-04 06:59:00  [3067474, 3067478, 3153705]  article_default   \n",
       "4  2003-09-15 15:30:00                         None  article_default   \n",
       "5  2005-06-10 05:40:00           [3067931, 3035588]  article_default   \n",
       "6  2002-06-25 05:10:00           [3200179, 3186817]  article_default   \n",
       "7  2003-09-11 08:55:00                         None  article_default   \n",
       "8  2003-03-20 12:50:00                         None  article_default   \n",
       "9  2005-02-26 04:45:00                    [3069815]  article_default   \n",
       "10 2005-02-10 15:39:00                    [3101355]  article_default   \n",
       "11 2002-05-17 07:10:00                    [3246431]  article_default   \n",
       "12 2013-04-17 17:27:57                         None  article_default   \n",
       "13 2013-05-01 14:11:38                    [3793797]  article_default   \n",
       "14 2013-04-11 13:24:43                    [3968329]  article_default   \n",
       "15 2013-03-19 10:10:30                    [3788182]  article_default   \n",
       "16 2013-03-12 15:20:40           [3943517, 4468600]  article_default   \n",
       "17 2013-02-05 05:21:28                         None  article_default   \n",
       "18 2013-01-31 06:16:05           [3940996, 3940981]  article_default   \n",
       "19 2013-01-16 06:49:35           [3934702, 3934714]  article_default   \n",
       "\n",
       "                                                  url  ... entity_groups  \\\n",
       "0   https://ekstrabladet.dk/sport/anden_sport/isho...  ...            []   \n",
       "1   https://ekstrabladet.dk/underholdning/udlandke...  ...    [PER, PER]   \n",
       "2   https://ekstrabladet.dk/nyheder/samfund/articl...  ...            []   \n",
       "3   https://ekstrabladet.dk/nyheder/samfund/articl...  ...            []   \n",
       "4    https://ekstrabladet.dk/krimi/article3193383.ece  ...            []   \n",
       "5    https://ekstrabladet.dk/ferie/article3196611.ece  ...            []   \n",
       "6    https://ekstrabladet.dk/krimi/article3200325.ece  ...            []   \n",
       "7    https://ekstrabladet.dk/krimi/article3200913.ece  ...            []   \n",
       "8    https://ekstrabladet.dk/krimi/article3209311.ece  ...         [PER]   \n",
       "9    https://ekstrabladet.dk/krimi/article3209357.ece  ...            []   \n",
       "10  https://ekstrabladet.dk/underholdning/udlandke...  ...            []   \n",
       "11  https://ekstrabladet.dk/sport/fodbold/dansk_fo...  ...            []   \n",
       "12  https://ekstrabladet.dk/underholdning/dkkendte...  ...            []   \n",
       "13  https://ekstrabladet.dk/underholdning/dkkendte...  ...            []   \n",
       "14  https://ekstrabladet.dk/Haandvaerkeren/article...  ...            []   \n",
       "15  https://ekstrabladet.dk/sport/cykling/article3...  ...            []   \n",
       "16  https://ekstrabladet.dk/underholdning/dkkendte...  ...            []   \n",
       "17   https://ekstrabladet.dk/krimi/article3993395.ece  ...            []   \n",
       "18   https://ekstrabladet.dk/krimi/article3994264.ece  ...            []   \n",
       "19  https://ekstrabladet.dk/underholdning/dkkendte...  ...            []   \n",
       "\n",
       "                                               topics category  subcategory  \\\n",
       "0   [Kriminalitet, Kendt, Sport, Katastrofe, Mindr...      142   [327, 334]   \n",
       "1   [Kriminalitet, Kendt, Underholdning, Personfar...      414        [432]   \n",
       "2                [Kriminalitet, Transportmiddel, Bil]      118        [133]   \n",
       "3   [Erhverv, Privat virksomhed, Livsstil, Familie...      118        [133]   \n",
       "4           [Kriminalitet, Personfarlig kriminalitet]      140           []   \n",
       "5                     [Kultur, Museum og seværdighed]      539           []   \n",
       "6   [Kriminalitet, Livsstil, Personfarlig kriminal...      140           []   \n",
       "7           [Kriminalitet, Personfarlig kriminalitet]      140           []   \n",
       "8           [Kriminalitet, Personfarlig kriminalitet]      140           []   \n",
       "9   [Kriminalitet, Personfarlig kriminalitet, Offe...      140           []   \n",
       "10       [Kendt, Livsstil, Familieliv, Underholdning]      414        [432]   \n",
       "11  [Kendt, Begivenhed, Sport, Fodbold, Sportsbegi...      142   [196, 199]   \n",
       "12          [Kendt, Livsstil, Underholdning, Reality]      414        [425]   \n",
       "13             [Kendt, Livsstil, Erotik, Partnerskab]      414        [425]   \n",
       "14    [Erhverv, Privat virksomhed, Offentlig instans]      561           []   \n",
       "15                            [Kendt, Sport, Cykling]      142        [317]   \n",
       "16         [Kendt, Underholdning, Bolig, Køb og salg]      414        [425]   \n",
       "17  [Kriminalitet, Personfarlig kriminalitet, Kata...      140           []   \n",
       "18          [Kriminalitet, Personfarlig kriminalitet]      140           []   \n",
       "19  [Kendt, Underholdning, Økonomi, Mikro, Bolig, ...      414        [425]   \n",
       "\n",
       "      category_str total_inviews  total_pageviews  total_read_time  \\\n",
       "0            sport           NaN              NaN              NaN   \n",
       "1    underholdning           NaN              NaN              NaN   \n",
       "2          nyheder           NaN              NaN              NaN   \n",
       "3          nyheder           NaN              NaN              NaN   \n",
       "4            krimi           NaN              NaN              NaN   \n",
       "5            ferie           NaN              NaN              NaN   \n",
       "6            krimi           NaN              NaN              NaN   \n",
       "7            krimi           NaN              NaN              NaN   \n",
       "8            krimi           NaN              NaN              NaN   \n",
       "9            krimi           NaN              NaN              NaN   \n",
       "10   underholdning           NaN              NaN              NaN   \n",
       "11           sport           NaN              NaN              NaN   \n",
       "12   underholdning           NaN              NaN              NaN   \n",
       "13   underholdning           NaN              NaN              NaN   \n",
       "14  haandvaerkeren           NaN              NaN              NaN   \n",
       "15           sport           NaN              NaN              NaN   \n",
       "16   underholdning           NaN              NaN              NaN   \n",
       "17           krimi           NaN              NaN              NaN   \n",
       "18           krimi           NaN              NaN              NaN   \n",
       "19   underholdning           NaN              NaN              NaN   \n",
       "\n",
       "    sentiment_score  sentiment_label  \n",
       "0            0.9752         Negative  \n",
       "1            0.7084         Negative  \n",
       "2            0.9236         Negative  \n",
       "3            0.9945         Negative  \n",
       "4            0.9966         Negative  \n",
       "5            0.6275          Neutral  \n",
       "6            0.9913         Negative  \n",
       "7            0.9839         Negative  \n",
       "8            0.9975         Negative  \n",
       "9            0.7929         Negative  \n",
       "10           0.8393         Positive  \n",
       "11           0.8574         Positive  \n",
       "12           0.9590         Negative  \n",
       "13           0.9506         Negative  \n",
       "14           0.7151         Positive  \n",
       "15           0.5846         Negative  \n",
       "16           0.5505         Positive  \n",
       "17           0.9975         Negative  \n",
       "18           0.8838         Negative  \n",
       "19           0.4993         Positive  \n",
       "\n",
       "[20 rows x 21 columns]"
      ]
     },
     "execution_count": 199,
     "metadata": {},
     "output_type": "execute_result"
    }
   ],
   "source": [
    "pd_articles.iloc[0:20]"
   ]
  },
  {
   "cell_type": "code",
   "execution_count": 179,
   "metadata": {},
   "outputs": [
    {
     "data": {
      "text/html": [
       "<div><style>\n",
       ".dataframe > thead > tr,\n",
       ".dataframe > tbody > tr {\n",
       "  text-align: right;\n",
       "  white-space: pre-wrap;\n",
       "}\n",
       "</style>\n",
       "<small>shape: (11_777, 21)</small><table border=\"1\" class=\"dataframe\"><thead><tr><th>article_id</th><th>title</th><th>subtitle</th><th>last_modified_time</th><th>premium</th><th>body</th><th>published_time</th><th>image_ids</th><th>article_type</th><th>url</th><th>ner_clusters</th><th>entity_groups</th><th>topics</th><th>category</th><th>subcategory</th><th>category_str</th><th>total_inviews</th><th>total_pageviews</th><th>total_read_time</th><th>sentiment_score</th><th>sentiment_label</th></tr><tr><td>i32</td><td>str</td><td>str</td><td>datetime[μs]</td><td>bool</td><td>str</td><td>datetime[μs]</td><td>list[i64]</td><td>str</td><td>str</td><td>list[str]</td><td>list[str]</td><td>list[str]</td><td>i16</td><td>list[i16]</td><td>str</td><td>i32</td><td>i32</td><td>f32</td><td>f32</td><td>str</td></tr></thead><tbody><tr><td>3037230</td><td>&quot;Ishockey-spiller: Jeg troede j…</td><td>&quot;ISHOCKEY: Ishockey-spilleren S…</td><td>2023-06-29 06:20:57</td><td>false</td><td>&quot;Ambitionerne om at komme til U…</td><td>2003-08-28 08:55:00</td><td>null</td><td>&quot;article_default&quot;</td><td>&quot;https://ekstrabladet.dk/sport/…</td><td>[]</td><td>[]</td><td>[&quot;Kriminalitet&quot;, &quot;Kendt&quot;, … &quot;Mindre ulykke&quot;]</td><td>142</td><td>[327, 334]</td><td>&quot;sport&quot;</td><td>null</td><td>null</td><td>null</td><td>0.9752</td><td>&quot;Negative&quot;</td></tr><tr><td>3044020</td><td>&quot;Prins Harry tvunget til dna-te…</td><td>&quot;Hoffet tvang Prins Harry til a…</td><td>2023-06-29 06:21:16</td><td>false</td><td>&quot;Den britiske tabloidavis The S…</td><td>2005-06-29 08:47:00</td><td>[3097307, 3097197, 3104927]</td><td>&quot;article_default&quot;</td><td>&quot;https://ekstrabladet.dk/underh…</td><td>[&quot;Harry&quot;, &quot;James Hewitt&quot;]</td><td>[&quot;PER&quot;, &quot;PER&quot;]</td><td>[&quot;Kriminalitet&quot;, &quot;Kendt&quot;, … &quot;Personfarlig kriminalitet&quot;]</td><td>414</td><td>[432]</td><td>&quot;underholdning&quot;</td><td>null</td><td>null</td><td>null</td><td>0.7084</td><td>&quot;Negative&quot;</td></tr><tr><td>3057622</td><td>&quot;Rådden kørsel på blå plader&quot;</td><td>&quot;Kan ikke straffes: Udenlandske…</td><td>2023-06-29 06:21:24</td><td>false</td><td>&quot;Slingrende spritkørsel. Grove …</td><td>2005-10-10 07:20:00</td><td>[3047102]</td><td>&quot;article_default&quot;</td><td>&quot;https://ekstrabladet.dk/nyhede…</td><td>[]</td><td>[]</td><td>[&quot;Kriminalitet&quot;, &quot;Transportmiddel&quot;, &quot;Bil&quot;]</td><td>118</td><td>[133]</td><td>&quot;nyheder&quot;</td><td>null</td><td>null</td><td>null</td><td>0.9236</td><td>&quot;Negative&quot;</td></tr><tr><td>3073151</td><td>&quot;Mærsk-arvinger i livsfare&quot;</td><td>&quot;FANGET I FLODBØLGEN: Skibsrede…</td><td>2023-06-29 06:21:38</td><td>false</td><td>&quot;To oldebørn af skibsreder Mærs…</td><td>2005-01-04 06:59:00</td><td>[3067474, 3067478, 3153705]</td><td>&quot;article_default&quot;</td><td>&quot;https://ekstrabladet.dk/nyhede…</td><td>[]</td><td>[]</td><td>[&quot;Erhverv&quot;, &quot;Privat virksomhed&quot;, … &quot;Rejse&quot;]</td><td>118</td><td>[133]</td><td>&quot;nyheder&quot;</td><td>null</td><td>null</td><td>null</td><td>0.9945</td><td>&quot;Negative&quot;</td></tr><tr><td>3193383</td><td>&quot;Skød svigersøn gennem babydyne&quot;</td><td>&quot;44-årig kvinde tiltalt for dra…</td><td>2023-06-29 06:22:57</td><td>false</td><td>&quot;En 44-årig mormor blev i dag f…</td><td>2003-09-15 15:30:00</td><td>null</td><td>&quot;article_default&quot;</td><td>&quot;https://ekstrabladet.dk/krimi/…</td><td>[]</td><td>[]</td><td>[&quot;Kriminalitet&quot;, &quot;Personfarlig kriminalitet&quot;]</td><td>140</td><td>[]</td><td>&quot;krimi&quot;</td><td>null</td><td>null</td><td>null</td><td>0.9966</td><td>&quot;Negative&quot;</td></tr><tr><td>&hellip;</td><td>&hellip;</td><td>&hellip;</td><td>&hellip;</td><td>&hellip;</td><td>&hellip;</td><td>&hellip;</td><td>&hellip;</td><td>&hellip;</td><td>&hellip;</td><td>&hellip;</td><td>&hellip;</td><td>&hellip;</td><td>&hellip;</td><td>&hellip;</td><td>&hellip;</td><td>&hellip;</td><td>&hellip;</td><td>&hellip;</td><td>&hellip;</td><td>&hellip;</td></tr><tr><td>9803492</td><td>&quot;Vilde billeder: Vulkan i udbru…</td><td>&quot;Der er gang i vulkanen på Hawa…</td><td>2023-06-29 06:49:26</td><td>false</td><td>&quot;Det spyer med lava fra vulkane…</td><td>2023-06-08 05:49:20</td><td>[9803493, 9803494, … 9803494]</td><td>&quot;article_default&quot;</td><td>&quot;https://ekstrabladet.dk/nyhede…</td><td>[&quot;Hawaiis&quot;, &quot;Kilauea&quot;, … &quot;US Geological Survey&quot;]</td><td>[&quot;LOC&quot;, &quot;LOC&quot;, … &quot;ORG&quot;]</td><td>[&quot;Katastrofe&quot;, &quot;Vejr&quot;, &quot;Større katastrofe&quot;]</td><td>118</td><td>[133]</td><td>&quot;nyheder&quot;</td><td>535989</td><td>100120</td><td>4.112624e6</td><td>0.6095</td><td>&quot;Neutral&quot;</td></tr><tr><td>9803505</td><td>&quot;Flyvende Antonsen knuser topsp…</td><td>&quot;Verdens nummer syv, Chou Tien-…</td><td>2023-06-29 06:49:26</td><td>false</td><td>&quot;Anders Antonsen har holdt paus…</td><td>2023-06-08 05:54:06</td><td>[9803516]</td><td>&quot;article_default&quot;</td><td>&quot;https://ekstrabladet.dk/sport/…</td><td>[&quot;Alexandra Bøje&quot;, &quot;All England&quot;, … &quot;Taiwan&quot;]</td><td>[&quot;PER&quot;, &quot;PROD&quot;, … &quot;LOC&quot;]</td><td>[&quot;Kendt&quot;, &quot;Begivenhed&quot;, … &quot;Sportsbegivenhed&quot;]</td><td>142</td><td>[327, 330]</td><td>&quot;sport&quot;</td><td>13320</td><td>959</td><td>55691.0</td><td>0.8884</td><td>&quot;Positive&quot;</td></tr><tr><td>9803525</td><td>&quot;Dansk skuespiller: - Jeg nægte…</td><td>&quot;Julie R. Ølgaard fik akut kejs…</td><td>2023-06-29 06:49:26</td><td>false</td><td>&quot;Mens hun lå søvnløs, lød kakof…</td><td>2023-06-08 06:45:46</td><td>[9803518, 9803519, … 9803524]</td><td>&quot;article_default&quot;</td><td>&quot;https://ekstrabladet.dk/underh…</td><td>[&quot;Cooper&quot;, &quot;Englemageren&quot;, … &quot;Svangerskabsforgiftning&quot;]</td><td>[&quot;PER&quot;, &quot;PROD&quot;, … &quot;MISC&quot;]</td><td>[&quot;Kendt&quot;, &quot;Livsstil&quot;, … &quot;Sygdom og behandling&quot;]</td><td>414</td><td>[425]</td><td>&quot;underholdning&quot;</td><td>315391</td><td>50361</td><td>2.550671e6</td><td>0.7737</td><td>&quot;Negative&quot;</td></tr><tr><td>9803560</td><td>&quot;Så slemt er det: 14.000 huse e…</td><td>&quot;Tusindvis af huse står under v…</td><td>2023-06-29 06:49:26</td><td>false</td><td>&quot;Et område på omkring 600 kvadr…</td><td>2023-06-08 06:25:42</td><td>null</td><td>&quot;article_default&quot;</td><td>&quot;https://ekstrabladet.dk/nyhede…</td><td>[&quot;Dnepr&quot;, &quot;Kherson&quot;, … &quot;Ukraine&quot;]</td><td>[&quot;LOC&quot;, &quot;LOC&quot;, … &quot;LOC&quot;]</td><td>[&quot;International politik&quot;, &quot;Katastrofe&quot;, … &quot;Politik&quot;]</td><td>118</td><td>[]</td><td>&quot;nyheder&quot;</td><td>21318</td><td>1237</td><td>67514.0</td><td>0.9927</td><td>&quot;Negative&quot;</td></tr><tr><td>9803607</td><td>&quot;Aktion mod svindlere: Seks per…</td><td>&quot;Flere kvinder er ifølge politi…</td><td>2023-06-29 06:49:26</td><td>false</td><td>&quot;Mindst otte personer er blevet…</td><td>2023-06-08 06:54:53</td><td>[9803906]</td><td>&quot;article_default&quot;</td><td>&quot;https://ekstrabladet.dk/krimi/…</td><td>[&quot;Adam&quot;, &quot;Bente&quot;, … &quot;Twitter&quot;]</td><td>[&quot;PER&quot;, &quot;PER&quot;, … &quot;ORG&quot;]</td><td>[&quot;Kriminalitet&quot;, &quot;Bedrageri&quot;]</td><td>140</td><td>[]</td><td>&quot;krimi&quot;</td><td>331057</td><td>79590</td><td>3.69476e6</td><td>0.9948</td><td>&quot;Negative&quot;</td></tr></tbody></table></div>"
      ],
      "text/plain": [
       "shape: (11_777, 21)\n",
       "┌───────────┬───────────┬───────────┬───────────┬───┬───────────┬───────────┬───────────┬──────────┐\n",
       "│ article_i ┆ title     ┆ subtitle  ┆ last_modi ┆ … ┆ total_pag ┆ total_rea ┆ sentiment ┆ sentimen │\n",
       "│ d         ┆ ---       ┆ ---       ┆ fied_time ┆   ┆ eviews    ┆ d_time    ┆ _score    ┆ t_label  │\n",
       "│ ---       ┆ str       ┆ str       ┆ ---       ┆   ┆ ---       ┆ ---       ┆ ---       ┆ ---      │\n",
       "│ i32       ┆           ┆           ┆ datetime[ ┆   ┆ i32       ┆ f32       ┆ f32       ┆ str      │\n",
       "│           ┆           ┆           ┆ μs]       ┆   ┆           ┆           ┆           ┆          │\n",
       "╞═══════════╪═══════════╪═══════════╪═══════════╪═══╪═══════════╪═══════════╪═══════════╪══════════╡\n",
       "│ 3037230   ┆ Ishockey- ┆ ISHOCKEY: ┆ 2023-06-2 ┆ … ┆ null      ┆ null      ┆ 0.9752    ┆ Negative │\n",
       "│           ┆ spiller:  ┆ Ishockey- ┆ 9         ┆   ┆           ┆           ┆           ┆          │\n",
       "│           ┆ Jeg       ┆ spilleren ┆ 06:20:57  ┆   ┆           ┆           ┆           ┆          │\n",
       "│           ┆ troede j… ┆ S…        ┆           ┆   ┆           ┆           ┆           ┆          │\n",
       "│ 3044020   ┆ Prins     ┆ Hoffet    ┆ 2023-06-2 ┆ … ┆ null      ┆ null      ┆ 0.7084    ┆ Negative │\n",
       "│           ┆ Harry     ┆ tvang     ┆ 9         ┆   ┆           ┆           ┆           ┆          │\n",
       "│           ┆ tvunget   ┆ Prins     ┆ 06:21:16  ┆   ┆           ┆           ┆           ┆          │\n",
       "│           ┆ til       ┆ Harry til ┆           ┆   ┆           ┆           ┆           ┆          │\n",
       "│           ┆ dna-te…   ┆ a…        ┆           ┆   ┆           ┆           ┆           ┆          │\n",
       "│ 3057622   ┆ Rådden    ┆ Kan ikke  ┆ 2023-06-2 ┆ … ┆ null      ┆ null      ┆ 0.9236    ┆ Negative │\n",
       "│           ┆ kørsel på ┆ straffes: ┆ 9         ┆   ┆           ┆           ┆           ┆          │\n",
       "│           ┆ blå       ┆ Udenlands ┆ 06:21:24  ┆   ┆           ┆           ┆           ┆          │\n",
       "│           ┆ plader    ┆ ke…       ┆           ┆   ┆           ┆           ┆           ┆          │\n",
       "│ 3073151   ┆ Mærsk-arv ┆ FANGET I  ┆ 2023-06-2 ┆ … ┆ null      ┆ null      ┆ 0.9945    ┆ Negative │\n",
       "│           ┆ inger i   ┆ FLODBØLGE ┆ 9         ┆   ┆           ┆           ┆           ┆          │\n",
       "│           ┆ livsfare  ┆ N: Skibsr ┆ 06:21:38  ┆   ┆           ┆           ┆           ┆          │\n",
       "│           ┆           ┆ ede…      ┆           ┆   ┆           ┆           ┆           ┆          │\n",
       "│ 3193383   ┆ Skød      ┆ 44-årig   ┆ 2023-06-2 ┆ … ┆ null      ┆ null      ┆ 0.9966    ┆ Negative │\n",
       "│           ┆ svigersøn ┆ kvinde    ┆ 9         ┆   ┆           ┆           ┆           ┆          │\n",
       "│           ┆ gennem    ┆ tiltalt   ┆ 06:22:57  ┆   ┆           ┆           ┆           ┆          │\n",
       "│           ┆ babydyne  ┆ for dra…  ┆           ┆   ┆           ┆           ┆           ┆          │\n",
       "│ …         ┆ …         ┆ …         ┆ …         ┆ … ┆ …         ┆ …         ┆ …         ┆ …        │\n",
       "│ 9803492   ┆ Vilde     ┆ Der er    ┆ 2023-06-2 ┆ … ┆ 100120    ┆ 4.112624e ┆ 0.6095    ┆ Neutral  │\n",
       "│           ┆ billeder: ┆ gang i    ┆ 9         ┆   ┆           ┆ 6         ┆           ┆          │\n",
       "│           ┆ Vulkan i  ┆ vulkanen  ┆ 06:49:26  ┆   ┆           ┆           ┆           ┆          │\n",
       "│           ┆ udbru…    ┆ på Hawa…  ┆           ┆   ┆           ┆           ┆           ┆          │\n",
       "│ 9803505   ┆ Flyvende  ┆ Verdens   ┆ 2023-06-2 ┆ … ┆ 959       ┆ 55691.0   ┆ 0.8884    ┆ Positive │\n",
       "│           ┆ Antonsen  ┆ nummer    ┆ 9         ┆   ┆           ┆           ┆           ┆          │\n",
       "│           ┆ knuser    ┆ syv, Chou ┆ 06:49:26  ┆   ┆           ┆           ┆           ┆          │\n",
       "│           ┆ topsp…    ┆ Tien-…    ┆           ┆   ┆           ┆           ┆           ┆          │\n",
       "│ 9803525   ┆ Dansk sku ┆ Julie R.  ┆ 2023-06-2 ┆ … ┆ 50361     ┆ 2.550671e ┆ 0.7737    ┆ Negative │\n",
       "│           ┆ espiller: ┆ Ølgaard   ┆ 9         ┆   ┆           ┆ 6         ┆           ┆          │\n",
       "│           ┆ - Jeg     ┆ fik akut  ┆ 06:49:26  ┆   ┆           ┆           ┆           ┆          │\n",
       "│           ┆ nægte…    ┆ kejs…     ┆           ┆   ┆           ┆           ┆           ┆          │\n",
       "│ 9803560   ┆ Så slemt  ┆ Tusindvis ┆ 2023-06-2 ┆ … ┆ 1237      ┆ 67514.0   ┆ 0.9927    ┆ Negative │\n",
       "│           ┆ er det:   ┆ af huse   ┆ 9         ┆   ┆           ┆           ┆           ┆          │\n",
       "│           ┆ 14.000    ┆ står      ┆ 06:49:26  ┆   ┆           ┆           ┆           ┆          │\n",
       "│           ┆ huse e…   ┆ under v…  ┆           ┆   ┆           ┆           ┆           ┆          │\n",
       "│ 9803607   ┆ Aktion    ┆ Flere     ┆ 2023-06-2 ┆ … ┆ 79590     ┆ 3.69476e6 ┆ 0.9948    ┆ Negative │\n",
       "│           ┆ mod svind ┆ kvinder   ┆ 9         ┆   ┆           ┆           ┆           ┆          │\n",
       "│           ┆ lere:     ┆ er ifølge ┆ 06:49:26  ┆   ┆           ┆           ┆           ┆          │\n",
       "│           ┆ Seks per… ┆ politi…   ┆           ┆   ┆           ┆           ┆           ┆          │\n",
       "└───────────┴───────────┴───────────┴───────────┴───┴───────────┴───────────┴───────────┴──────────┘"
      ]
     },
     "execution_count": 179,
     "metadata": {},
     "output_type": "execute_result"
    }
   ],
   "source": [
    "articles"
   ]
  },
  {
   "cell_type": "code",
   "execution_count": 178,
   "metadata": {},
   "outputs": [
    {
     "data": {
      "text/plain": [
       "('ISHOCKEY: Ishockey-spilleren Sebastian Harts håber stadig, at karrieren kan fortsætte i USA, efter han fik maven skåret op på diskotek',\n",
       " 'Ishockey-spiller: Jeg troede jeg skulle dø',\n",
       " False,\n",
       " \"Ambitionerne om at komme til USA og spille ishockey har 21-årige Sebastian Harts stadig.\\nMen den tidligere Rødovre-spillere var tæt på ikke kun at miste sine sportslige ambitioner, men også livet, da han var på det forkerte sted på det forkerte tidspunkt.\\nStedet var Club Mirage ved Boltens Gård i København, og tidspunktet var ved to-tiden natten til søndag 3. august.\\nSammen med kæresten gennem de seneste fem år, Marie, og hendes veninde var de netop ankommet til diskoteket, da Sebastian Harts stødte ind i en person, som han ikke kendte.\\n- Han gik ind i mig. Vi kom i diskussion, og jeg sagde o.k., da han foreslog, vi kunne ordne 'det' udenfor. Men vi kom på talefod igen, og han gav mig hånden og gik, husker Sebastian Harts, som i dag er hjemme og efter omstændighederne har det godt, efter det knivoverfald, som fulgte nogle minutter senere.\\nSTORT SLAGSMÅL\\nSebastian Harts var inde på diskoteket på vej hen for at lykønske en ven med fødselsdagen, da fire-fem fyre, blandt andet ham, der få minutter tidligere 'gav hånd', sprang på ham.\\n- Det udviklede sig til et stort slagsmål på dansegulvet. De slog med en flaske, og jeg slog igen. Folk fløj til side.\\n- Godt nok er jeg veltrænet, men Supermand er jeg ikke, og da jeg pludselig så to knive, tænkte jeg bare på at komme væk. Men en af fyrene nåede mig, og pludselig mærkede jeg en varme i mellemgulvet. Da jeg løftede op i trøjen, stod jeg pludselig med mine indvolde i hånden, husker Sebastian Harts.\\n- Der var masser af mennesker, og alle gik i panik. Og jeg tænkte, jeg skulle dø. Heldigvis kom min kæreste og mine venner, men jeg turde ikke lægge mig ned, men efterhånden som vi ventede på ambulancen, var jeg tæt på at besvime.\\n- Ja, du sagde ikke så meget. Du var, ligesom alle os andre, nærmest i chok over det, der var sket, siger Marie, der lytter i baggrunden, da Sebastian Harts fortæller sin historie.\\nDet viste sig senere på Rigshospitalet, hvor Sebastian Harts var indlagt i en uge, at han havde været heldig.\\nKnivstikkeren, en mand af udenlandsk herkomst, havde brugt en kniv med et blad på 14 centimeter, og han havde lavet et stort snit på langs af maven. Politiet anholdt efter knivdrabet to personer. Den ene blev løsladt efter forhøret, mens den anden blev varetægtsfængslet.\\nEN CHANCE MERE\\n- Knivbladet havde 'kun' ridset tyndtarmen. En centimeter til højre eller til venstre, og det havde set meget sort ud, så jeg har da været heldig.\\n- Overfaldet har i hvert fald lært mig meget. Jeg føler, jeg har fået en chance mere. Det var en slem forskrækkelse, men i dag værdsætter jeg livet meget mere. At vågne op om morgenen med Marie ved siden af er virkelig noget, jeg glæder mig over. Jeg er blevet gladere for livet.\\n- Næste gang jeg støder ind i en person, som jeg ikke kender, vender jeg mig bare om og går. Det hjælper ikke at spille helt. Jeg vil gerne undgå problemer. Vil gerne have en familie med børn, siger Sebastian Harts, der ikke er blevet konfronteret med sine overfaldsmænd.\\n- Jeg vil helst ikke tænke mere på den episode. Jeg håber, politiet ordner resten. Jeg har i hvert fald ikke lyst til at få yderligere problemer, siger Sebastian Harts, der ikke er bange for at gå i byen.\\n- Nu har det ikke været aktuelt. Jeg er slet ikke klar til at gå i byen endnu, men ved hjælp af mine rigtige gode venner, og min familie har jeg fået snakket episoden igennem, og derfor har jeg ikke brug for en psykolog.\\nFRIT LEJDE HJÆLPER IKKE\\nSebastian Harts mener ikke, at man i fremtiden vil se færre knivoverfald i København.\\n- Vores hovedstad har vokset sig til en storby. Mange etniske grupper er presset ind i byen. Nogle af disse mennesker vil åbenbart beskytte sig med knive, så jeg tror ikke, at aktionen med frit lejde til folk med knive vil hjælpe, siger Sebastian Harts, der stadig er sygemeldt.\\n- Jeg håber stadig at komme til USA. De tre klubber, som jeg var i kontakt med før knivoverfaldet, har ikke slået hånden af mig. Men selvfølgelig er jeg kommet langt bagud. Min klub i Rødovre har givet mig stor opbakning. Her er jeg velkommen til at træne mig op igen. Jeg har tabt ni kilo, så det vil tage nogle måneder, før jeg er klar.\\n- Min første ambition er at komme på is til november. Og så må vi tage den derfra. Heldigvis har jeg også min cafe på Vesterbrogade at tage mig af, så jeg keder mig ikke, selv om jeg selvfølgelig hellere ville have været i USA, siger Sebastian Harts, der allerede som 14-årig tog den første tur udenlands efter ungdomstiden i KSF. Siden er det også blevet til opgaver i svensk, canadisk og tysk ishockey, før Sebastian Harts for to år siden vendte hjem til Rødovre.\\n- I Olaf Eller havde jeg min bedste træner nogensinde. Og under ham havde jeg en fin sæson, mens jeg sidste år spillede for hårdt med for mange udvisninger. Der var for meget energi på andre ting end spillet, men det ville min finske træner have.\\n- Jeg skal lære at holde mere igen, og kan jeg få lidt mere teknik ind i mit spil, tror jeg også på, at jeg kan spille mig ind i Mikael Lundströms landsholdstrup.\\n- Jeg har været med på ungdomslandsholdene, men mangler lige en A-debut. Og når jeg kunne 'få livet igen' efter knivoverfaldet, kan jeg vel også spille mig ind hos Lundström. Jeg er kun 21 år og har forhåbentlig mange gode år foran mig. Både på og uden for isen, siger Sebastian Harts.\",\n",
       " 'https://ekstrabladet.dk/sport/anden_sport/ishockey/article3037230.ece')"
      ]
     },
     "execution_count": 178,
     "metadata": {},
     "output_type": "execute_result"
    }
   ],
   "source": [
    "articles[[\"subtitle\"]][0].to_numpy().item(), articles[[\"title\"]][0].to_numpy().item(), articles[[\"premium\"]][0].to_numpy().item(), articles[[\"body\"]][0].to_numpy().item(), articles[[\"url\"]][0].to_numpy().item()"
   ]
  },
  {
   "cell_type": "code",
   "execution_count": 110,
   "metadata": {},
   "outputs": [
    {
     "data": {
      "text/html": [
       "<div><style>\n",
       ".dataframe > thead > tr,\n",
       ".dataframe > tbody > tr {\n",
       "  text-align: right;\n",
       "  white-space: pre-wrap;\n",
       "}\n",
       "</style>\n",
       "<small>shape: (9, 6)</small><table border=\"1\" class=\"dataframe\"><thead><tr><th>statistic</th><th>user_id</th><th>impression_time_fixed</th><th>scroll_percentage_fixed</th><th>article_id_fixed</th><th>read_time_fixed</th></tr><tr><td>str</td><td>f64</td><td>f64</td><td>f64</td><td>f64</td><td>f64</td></tr></thead><tbody><tr><td>&quot;count&quot;</td><td>1590.0</td><td>1590.0</td><td>1590.0</td><td>1590.0</td><td>1590.0</td></tr><tr><td>&quot;null_count&quot;</td><td>0.0</td><td>0.0</td><td>0.0</td><td>0.0</td><td>0.0</td></tr><tr><td>&quot;mean&quot;</td><td>1.2629e6</td><td>null</td><td>null</td><td>null</td><td>null</td></tr><tr><td>&quot;std&quot;</td><td>742510.881028</td><td>null</td><td>null</td><td>null</td><td>null</td></tr><tr><td>&quot;min&quot;</td><td>11313.0</td><td>null</td><td>null</td><td>null</td><td>null</td></tr><tr><td>&quot;25%&quot;</td><td>630603.0</td><td>null</td><td>null</td><td>null</td><td>null</td></tr><tr><td>&quot;50%&quot;</td><td>1.247504e6</td><td>null</td><td>null</td><td>null</td><td>null</td></tr><tr><td>&quot;75%&quot;</td><td>1.888545e6</td><td>null</td><td>null</td><td>null</td><td>null</td></tr><tr><td>&quot;max&quot;</td><td>2.589391e6</td><td>null</td><td>null</td><td>null</td><td>null</td></tr></tbody></table></div>"
      ],
      "text/plain": [
       "shape: (9, 6)\n",
       "┌────────────┬───────────────┬─────────────────┬─────────────────┬────────────────┬────────────────┐\n",
       "│ statistic  ┆ user_id       ┆ impression_time ┆ scroll_percenta ┆ article_id_fix ┆ read_time_fixe │\n",
       "│ ---        ┆ ---           ┆ _fixed          ┆ ge_fixed        ┆ ed             ┆ d              │\n",
       "│ str        ┆ f64           ┆ ---             ┆ ---             ┆ ---            ┆ ---            │\n",
       "│            ┆               ┆ f64             ┆ f64             ┆ f64            ┆ f64            │\n",
       "╞════════════╪═══════════════╪═════════════════╪═════════════════╪════════════════╪════════════════╡\n",
       "│ count      ┆ 1590.0        ┆ 1590.0          ┆ 1590.0          ┆ 1590.0         ┆ 1590.0         │\n",
       "│ null_count ┆ 0.0           ┆ 0.0             ┆ 0.0             ┆ 0.0            ┆ 0.0            │\n",
       "│ mean       ┆ 1.2629e6      ┆ null            ┆ null            ┆ null           ┆ null           │\n",
       "│ std        ┆ 742510.881028 ┆ null            ┆ null            ┆ null           ┆ null           │\n",
       "│ min        ┆ 11313.0       ┆ null            ┆ null            ┆ null           ┆ null           │\n",
       "│ 25%        ┆ 630603.0      ┆ null            ┆ null            ┆ null           ┆ null           │\n",
       "│ 50%        ┆ 1.247504e6    ┆ null            ┆ null            ┆ null           ┆ null           │\n",
       "│ 75%        ┆ 1.888545e6    ┆ null            ┆ null            ┆ null           ┆ null           │\n",
       "│ max        ┆ 2.589391e6    ┆ null            ┆ null            ┆ null           ┆ null           │\n",
       "└────────────┴───────────────┴─────────────────┴─────────────────┴────────────────┴────────────────┘"
      ]
     },
     "execution_count": 110,
     "metadata": {},
     "output_type": "execute_result"
    }
   ],
   "source": [
    "history.describe()  # only use article_id_fixed"
   ]
  },
  {
   "cell_type": "code",
   "execution_count": 107,
   "metadata": {},
   "outputs": [
    {
     "data": {
      "text/html": [
       "<div><style>\n",
       ".dataframe > thead > tr,\n",
       ".dataframe > tbody > tr {\n",
       "  text-align: right;\n",
       "  white-space: pre-wrap;\n",
       "}\n",
       "</style>\n",
       "<small>shape: (9, 18)</small><table border=\"1\" class=\"dataframe\"><thead><tr><th>statistic</th><th>impression_id</th><th>article_id</th><th>impression_time</th><th>read_time</th><th>scroll_percentage</th><th>device_type</th><th>article_ids_inview</th><th>article_ids_clicked</th><th>user_id</th><th>is_sso_user</th><th>gender</th><th>postcode</th><th>age</th><th>is_subscriber</th><th>session_id</th><th>next_read_time</th><th>next_scroll_percentage</th></tr><tr><td>str</td><td>f64</td><td>f64</td><td>str</td><td>f64</td><td>f64</td><td>f64</td><td>f64</td><td>f64</td><td>f64</td><td>f64</td><td>f64</td><td>f64</td><td>f64</td><td>f64</td><td>f64</td><td>f64</td><td>f64</td></tr></thead><tbody><tr><td>&quot;count&quot;</td><td>24724.0</td><td>7378.0</td><td>&quot;24724&quot;</td><td>24724.0</td><td>7242.0</td><td>24724.0</td><td>24724.0</td><td>24724.0</td><td>24724.0</td><td>24724.0</td><td>1797.0</td><td>361.0</td><td>617.0</td><td>24724.0</td><td>24724.0</td><td>24051.0</td><td>21967.0</td></tr><tr><td>&quot;null_count&quot;</td><td>0.0</td><td>17346.0</td><td>&quot;0&quot;</td><td>0.0</td><td>17482.0</td><td>0.0</td><td>0.0</td><td>0.0</td><td>0.0</td><td>0.0</td><td>22927.0</td><td>24363.0</td><td>24107.0</td><td>0.0</td><td>0.0</td><td>673.0</td><td>2757.0</td></tr><tr><td>&quot;mean&quot;</td><td>2.9276e8</td><td>9.7671e6</td><td>&quot;2023-05-21 17:23:50.627487&quot;</td><td>45.315239</td><td>99.503036</td><td>1.690746</td><td>null</td><td>null</td><td>1.2489e6</td><td>0.107183</td><td>0.117974</td><td>1.027701</td><td>52.269044</td><td>0.06609</td><td>104320.226541</td><td>68.218948</td><td>69.568535</td></tr><tr><td>&quot;std&quot;</td><td>1.6794e8</td><td>114063.51634</td><td>null</td><td>95.248077</td><td>5.397684</td><td>0.525815</td><td>null</td><td>null</td><td>741189.721112</td><td>null</td><td>0.322668</td><td>1.115202</td><td>13.60525</td><td>null</td><td>60094.28581</td><td>167.465576</td><td>32.256947</td></tr><tr><td>&quot;min&quot;</td><td>48401.0</td><td>3.971783e6</td><td>&quot;2023-05-18 07:00:03&quot;</td><td>0.0</td><td>9.0</td><td>1.0</td><td>null</td><td>null</td><td>11313.0</td><td>0.0</td><td>0.0</td><td>0.0</td><td>0.0</td><td>0.0</td><td>1.0</td><td>0.0</td><td>0.0</td></tr><tr><td>&quot;25%&quot;</td><td>1.46917363e8</td><td>9.772088e6</td><td>&quot;2023-05-19 19:53:02&quot;</td><td>12.0</td><td>100.0</td><td>1.0</td><td>null</td><td>null</td><td>621402.0</td><td>null</td><td>0.0</td><td>0.0</td><td>40.0</td><td>null</td><td>52545.0</td><td>7.0</td><td>37.0</td></tr><tr><td>&quot;50%&quot;</td><td>2.96342356e8</td><td>9.774352e6</td><td>&quot;2023-05-21 17:39:50&quot;</td><td>21.0</td><td>100.0</td><td>2.0</td><td>null</td><td>null</td><td>1.246374e6</td><td>null</td><td>0.0</td><td>1.0</td><td>60.0</td><td>null</td><td>105409.0</td><td>21.0</td><td>82.0</td></tr><tr><td>&quot;75%&quot;</td><td>4.36540299e8</td><td>9.77687e6</td><td>&quot;2023-05-23 11:01:42&quot;</td><td>45.0</td><td>100.0</td><td>2.0</td><td>null</td><td>null</td><td>1.887792e6</td><td>null</td><td>0.0</td><td>2.0</td><td>60.0</td><td>null</td><td>156941.0</td><td>62.0</td><td>100.0</td></tr><tr><td>&quot;max&quot;</td><td>5.80097289e8</td><td>9.780271e6</td><td>&quot;2023-05-25 06:59:52&quot;</td><td>1799.0</td><td>100.0</td><td>3.0</td><td>null</td><td>null</td><td>2.589391e6</td><td>1.0</td><td>1.0</td><td>4.0</td><td>70.0</td><td>1.0</td><td>212376.0</td><td>1797.0</td><td>100.0</td></tr></tbody></table></div>"
      ],
      "text/plain": [
       "shape: (9, 18)\n",
       "┌───────────┬───────────┬───────────┬───────────┬───┬───────────┬───────────┬───────────┬──────────┐\n",
       "│ statistic ┆ impressio ┆ article_i ┆ impressio ┆ … ┆ is_subscr ┆ session_i ┆ next_read ┆ next_scr │\n",
       "│ ---       ┆ n_id      ┆ d         ┆ n_time    ┆   ┆ iber      ┆ d         ┆ _time     ┆ oll_perc │\n",
       "│ str       ┆ ---       ┆ ---       ┆ ---       ┆   ┆ ---       ┆ ---       ┆ ---       ┆ entage   │\n",
       "│           ┆ f64       ┆ f64       ┆ str       ┆   ┆ f64       ┆ f64       ┆ f64       ┆ ---      │\n",
       "│           ┆           ┆           ┆           ┆   ┆           ┆           ┆           ┆ f64      │\n",
       "╞═══════════╪═══════════╪═══════════╪═══════════╪═══╪═══════════╪═══════════╪═══════════╪══════════╡\n",
       "│ count     ┆ 24724.0   ┆ 7378.0    ┆ 24724     ┆ … ┆ 24724.0   ┆ 24724.0   ┆ 24051.0   ┆ 21967.0  │\n",
       "│ null_coun ┆ 0.0       ┆ 17346.0   ┆ 0         ┆ … ┆ 0.0       ┆ 0.0       ┆ 673.0     ┆ 2757.0   │\n",
       "│ t         ┆           ┆           ┆           ┆   ┆           ┆           ┆           ┆          │\n",
       "│ mean      ┆ 2.9276e8  ┆ 9.7671e6  ┆ 2023-05-2 ┆ … ┆ 0.06609   ┆ 104320.22 ┆ 68.218948 ┆ 69.56853 │\n",
       "│           ┆           ┆           ┆ 1 17:23:5 ┆   ┆           ┆ 6541      ┆           ┆ 5        │\n",
       "│           ┆           ┆           ┆ 0.627487  ┆   ┆           ┆           ┆           ┆          │\n",
       "│ std       ┆ 1.6794e8  ┆ 114063.51 ┆ null      ┆ … ┆ null      ┆ 60094.285 ┆ 167.46557 ┆ 32.25694 │\n",
       "│           ┆           ┆ 634       ┆           ┆   ┆           ┆ 81        ┆ 6         ┆ 7        │\n",
       "│ min       ┆ 48401.0   ┆ 3.971783e ┆ 2023-05-1 ┆ … ┆ 0.0       ┆ 1.0       ┆ 0.0       ┆ 0.0      │\n",
       "│           ┆           ┆ 6         ┆ 8         ┆   ┆           ┆           ┆           ┆          │\n",
       "│           ┆           ┆           ┆ 07:00:03  ┆   ┆           ┆           ┆           ┆          │\n",
       "│ 25%       ┆ 1.4691736 ┆ 9.772088e ┆ 2023-05-1 ┆ … ┆ null      ┆ 52545.0   ┆ 7.0       ┆ 37.0     │\n",
       "│           ┆ 3e8       ┆ 6         ┆ 9         ┆   ┆           ┆           ┆           ┆          │\n",
       "│           ┆           ┆           ┆ 19:53:02  ┆   ┆           ┆           ┆           ┆          │\n",
       "│ 50%       ┆ 2.9634235 ┆ 9.774352e ┆ 2023-05-2 ┆ … ┆ null      ┆ 105409.0  ┆ 21.0      ┆ 82.0     │\n",
       "│           ┆ 6e8       ┆ 6         ┆ 1         ┆   ┆           ┆           ┆           ┆          │\n",
       "│           ┆           ┆           ┆ 17:39:50  ┆   ┆           ┆           ┆           ┆          │\n",
       "│ 75%       ┆ 4.3654029 ┆ 9.77687e6 ┆ 2023-05-2 ┆ … ┆ null      ┆ 156941.0  ┆ 62.0      ┆ 100.0    │\n",
       "│           ┆ 9e8       ┆           ┆ 3         ┆   ┆           ┆           ┆           ┆          │\n",
       "│           ┆           ┆           ┆ 11:01:42  ┆   ┆           ┆           ┆           ┆          │\n",
       "│ max       ┆ 5.8009728 ┆ 9.780271e ┆ 2023-05-2 ┆ … ┆ 1.0       ┆ 212376.0  ┆ 1797.0    ┆ 100.0    │\n",
       "│           ┆ 9e8       ┆ 6         ┆ 5         ┆   ┆           ┆           ┆           ┆          │\n",
       "│           ┆           ┆           ┆ 06:59:52  ┆   ┆           ┆           ┆           ┆          │\n",
       "└───────────┴───────────┴───────────┴───────────┴───┴───────────┴───────────┴───────────┴──────────┘"
      ]
     },
     "execution_count": 107,
     "metadata": {},
     "output_type": "execute_result"
    }
   ],
   "source": [
    "behaviors.describe()"
   ]
  },
  {
   "cell_type": "code",
   "execution_count": 119,
   "metadata": {},
   "outputs": [],
   "source": [
    "df_history = df_history.select(DEFAULT_USER_COL, DEFAULT_HISTORY_ARTICLE_ID_COL).pipe(\n",
    "    truncate_history,\n",
    "    column=DEFAULT_HISTORY_ARTICLE_ID_COL,\n",
    "    history_size=10,\n",
    "    padding_value=0,\n",
    "    enable_warning=False,\n",
    ")\n",
    "df_history = df_history.collect()"
   ]
  },
  {
   "cell_type": "code",
   "execution_count": 127,
   "metadata": {},
   "outputs": [
    {
     "data": {
      "text/plain": [
       "10"
      ]
     },
     "execution_count": 127,
     "metadata": {},
     "output_type": "execute_result"
    }
   ],
   "source": [
    "len(df_history[\"user_id\" == 13538][\"article_id_fixed\"][0])"
   ]
  },
  {
   "cell_type": "code",
   "execution_count": 129,
   "metadata": {},
   "outputs": [
    {
     "data": {
      "text/html": [
       "<div><style>\n",
       ".dataframe > thead > tr,\n",
       ".dataframe > tbody > tr {\n",
       "  text-align: right;\n",
       "  white-space: pre-wrap;\n",
       "}\n",
       "</style>\n",
       "<small>shape: (5, 18)</small><table border=\"1\" class=\"dataframe\"><thead><tr><th>impression_id</th><th>article_id</th><th>impression_time</th><th>read_time</th><th>scroll_percentage</th><th>device_type</th><th>article_ids_inview</th><th>article_ids_clicked</th><th>user_id</th><th>is_sso_user</th><th>gender</th><th>postcode</th><th>age</th><th>is_subscriber</th><th>session_id</th><th>next_read_time</th><th>next_scroll_percentage</th><th>article_id_fixed</th></tr><tr><td>u32</td><td>i32</td><td>datetime[μs]</td><td>f32</td><td>f32</td><td>i8</td><td>list[i32]</td><td>list[i32]</td><td>u32</td><td>bool</td><td>i8</td><td>i8</td><td>i8</td><td>bool</td><td>u32</td><td>f32</td><td>f32</td><td>list[i32]</td></tr></thead><tbody><tr><td>48401</td><td>null</td><td>2023-05-21 21:06:50</td><td>21.0</td><td>null</td><td>2</td><td>[9774516, 9771051, … 9759966]</td><td>[9759966]</td><td>22779</td><td>false</td><td>null</td><td>null</td><td>null</td><td>false</td><td>21</td><td>16.0</td><td>27.0</td><td>[9770333, 9769641, … 9770541]</td></tr><tr><td>152513</td><td>9778745</td><td>2023-05-24 07:31:26</td><td>30.0</td><td>100.0</td><td>1</td><td>[9778669, 9778736, … 9777397]</td><td>[9778661]</td><td>150224</td><td>false</td><td>null</td><td>null</td><td>null</td><td>false</td><td>298</td><td>2.0</td><td>48.0</td><td>[9770604, 9769622, … 9735909]</td></tr><tr><td>155390</td><td>null</td><td>2023-05-24 07:30:33</td><td>45.0</td><td>null</td><td>1</td><td>[9778369, 9777856, … 9778448]</td><td>[9777856]</td><td>160892</td><td>false</td><td>null</td><td>null</td><td>null</td><td>false</td><td>401</td><td>215.0</td><td>100.0</td><td>[9767604, 9766264, … 9770178]</td></tr><tr><td>214679</td><td>null</td><td>2023-05-23 05:25:40</td><td>33.0</td><td>null</td><td>2</td><td>[9776715, 9776406, … 9776855]</td><td>[9776566]</td><td>1001055</td><td>false</td><td>null</td><td>null</td><td>null</td><td>false</td><td>1357</td><td>40.0</td><td>47.0</td><td>[9767722, 9770882, … 9769981]</td></tr><tr><td>214681</td><td>null</td><td>2023-05-23 05:31:54</td><td>21.0</td><td>null</td><td>2</td><td>[9775202, 9776855, … 9776570]</td><td>[9776553]</td><td>1001055</td><td>false</td><td>null</td><td>null</td><td>null</td><td>false</td><td>1358</td><td>5.0</td><td>49.0</td><td>[9767722, 9770882, … 9769981]</td></tr></tbody></table></div>"
      ],
      "text/plain": [
       "shape: (5, 18)\n",
       "┌───────────┬───────────┬───────────┬───────────┬───┬───────────┬───────────┬───────────┬──────────┐\n",
       "│ impressio ┆ article_i ┆ impressio ┆ read_time ┆ … ┆ session_i ┆ next_read ┆ next_scro ┆ article_ │\n",
       "│ n_id      ┆ d         ┆ n_time    ┆ ---       ┆   ┆ d         ┆ _time     ┆ ll_percen ┆ id_fixed │\n",
       "│ ---       ┆ ---       ┆ ---       ┆ f32       ┆   ┆ ---       ┆ ---       ┆ tage      ┆ ---      │\n",
       "│ u32       ┆ i32       ┆ datetime[ ┆           ┆   ┆ u32       ┆ f32       ┆ ---       ┆ list[i32 │\n",
       "│           ┆           ┆ μs]       ┆           ┆   ┆           ┆           ┆ f32       ┆ ]        │\n",
       "╞═══════════╪═══════════╪═══════════╪═══════════╪═══╪═══════════╪═══════════╪═══════════╪══════════╡\n",
       "│ 48401     ┆ null      ┆ 2023-05-2 ┆ 21.0      ┆ … ┆ 21        ┆ 16.0      ┆ 27.0      ┆ [9770333 │\n",
       "│           ┆           ┆ 1         ┆           ┆   ┆           ┆           ┆           ┆ ,        │\n",
       "│           ┆           ┆ 21:06:50  ┆           ┆   ┆           ┆           ┆           ┆ 9769641, │\n",
       "│           ┆           ┆           ┆           ┆   ┆           ┆           ┆           ┆ …        │\n",
       "│           ┆           ┆           ┆           ┆   ┆           ┆           ┆           ┆ 9770541] │\n",
       "│ 152513    ┆ 9778745   ┆ 2023-05-2 ┆ 30.0      ┆ … ┆ 298       ┆ 2.0       ┆ 48.0      ┆ [9770604 │\n",
       "│           ┆           ┆ 4         ┆           ┆   ┆           ┆           ┆           ┆ ,        │\n",
       "│           ┆           ┆ 07:31:26  ┆           ┆   ┆           ┆           ┆           ┆ 9769622, │\n",
       "│           ┆           ┆           ┆           ┆   ┆           ┆           ┆           ┆ …        │\n",
       "│           ┆           ┆           ┆           ┆   ┆           ┆           ┆           ┆ 9735909] │\n",
       "│ 155390    ┆ null      ┆ 2023-05-2 ┆ 45.0      ┆ … ┆ 401       ┆ 215.0     ┆ 100.0     ┆ [9767604 │\n",
       "│           ┆           ┆ 4         ┆           ┆   ┆           ┆           ┆           ┆ ,        │\n",
       "│           ┆           ┆ 07:30:33  ┆           ┆   ┆           ┆           ┆           ┆ 9766264, │\n",
       "│           ┆           ┆           ┆           ┆   ┆           ┆           ┆           ┆ …        │\n",
       "│           ┆           ┆           ┆           ┆   ┆           ┆           ┆           ┆ 9770178] │\n",
       "│ 214679    ┆ null      ┆ 2023-05-2 ┆ 33.0      ┆ … ┆ 1357      ┆ 40.0      ┆ 47.0      ┆ [9767722 │\n",
       "│           ┆           ┆ 3         ┆           ┆   ┆           ┆           ┆           ┆ ,        │\n",
       "│           ┆           ┆ 05:25:40  ┆           ┆   ┆           ┆           ┆           ┆ 9770882, │\n",
       "│           ┆           ┆           ┆           ┆   ┆           ┆           ┆           ┆ …        │\n",
       "│           ┆           ┆           ┆           ┆   ┆           ┆           ┆           ┆ 9769981] │\n",
       "│ 214681    ┆ null      ┆ 2023-05-2 ┆ 21.0      ┆ … ┆ 1358      ┆ 5.0       ┆ 49.0      ┆ [9767722 │\n",
       "│           ┆           ┆ 3         ┆           ┆   ┆           ┆           ┆           ┆ ,        │\n",
       "│           ┆           ┆ 05:31:54  ┆           ┆   ┆           ┆           ┆           ┆ 9770882, │\n",
       "│           ┆           ┆           ┆           ┆   ┆           ┆           ┆           ┆ …        │\n",
       "│           ┆           ┆           ┆           ┆   ┆           ┆           ┆           ┆ 9769981] │\n",
       "└───────────┴───────────┴───────────┴───────────┴───┴───────────┴───────────┴───────────┴──────────┘"
      ]
     },
     "execution_count": 129,
     "metadata": {},
     "output_type": "execute_result"
    }
   ],
   "source": [
    "df = slice_join_dataframes(\n",
    "    df1=df_behaviors.collect(),\n",
    "    df2=df_history,\n",
    "    on=DEFAULT_USER_COL,\n",
    "    how=\"left\",\n",
    ")\n",
    "df.head(5)"
   ]
  },
  {
   "cell_type": "code",
   "execution_count": 132,
   "metadata": {},
   "outputs": [
    {
     "data": {
      "text/html": [
       "<div><style>\n",
       ".dataframe > thead > tr,\n",
       ".dataframe > tbody > tr {\n",
       "  text-align: right;\n",
       "  white-space: pre-wrap;\n",
       "}\n",
       "</style>\n",
       "<small>shape: (5, 4)</small><table border=\"1\" class=\"dataframe\"><thead><tr><th>article_ids_clicked</th><th>article_ids_inview</th><th>labels</th><th>labels_len</th></tr><tr><td>list[i32]</td><td>list[i32]</td><td>list[i8]</td><td>u32</td></tr></thead><tbody><tr><td>[9759966]</td><td>[9142581, 9774461, … 9770028]</td><td>[0, 0, … 0]</td><td>11</td></tr><tr><td>[9778661]</td><td>[9778728, 9777397, … 9778657]</td><td>[0, 0, … 0]</td><td>17</td></tr><tr><td>[9777856]</td><td>[9778155, 9777856, … 9778226]</td><td>[0, 1, … 0]</td><td>11</td></tr><tr><td>[9776566]</td><td>[9776497, 9776071, … 9776855]</td><td>[0, 0, … 0]</td><td>9</td></tr><tr><td>[9776553]</td><td>[9771995, 9776570, … 9776246]</td><td>[0, 0, … 0]</td><td>18</td></tr></tbody></table></div>"
      ],
      "text/plain": [
       "shape: (5, 4)\n",
       "┌─────────────────────┬───────────────────────────────┬─────────────┬────────────┐\n",
       "│ article_ids_clicked ┆ article_ids_inview            ┆ labels      ┆ labels_len │\n",
       "│ ---                 ┆ ---                           ┆ ---         ┆ ---        │\n",
       "│ list[i32]           ┆ list[i32]                     ┆ list[i8]    ┆ u32        │\n",
       "╞═════════════════════╪═══════════════════════════════╪═════════════╪════════════╡\n",
       "│ [9759966]           ┆ [9142581, 9774461, … 9770028] ┆ [0, 0, … 0] ┆ 11         │\n",
       "│ [9778661]           ┆ [9778728, 9777397, … 9778657] ┆ [0, 0, … 0] ┆ 17         │\n",
       "│ [9777856]           ┆ [9778155, 9777856, … 9778226] ┆ [0, 1, … 0] ┆ 11         │\n",
       "│ [9776566]           ┆ [9776497, 9776071, … 9776855] ┆ [0, 0, … 0] ┆ 9          │\n",
       "│ [9776553]           ┆ [9771995, 9776570, … 9776246] ┆ [0, 0, … 0] ┆ 18         │\n",
       "└─────────────────────┴───────────────────────────────┴─────────────┴────────────┘"
      ]
     },
     "execution_count": 132,
     "metadata": {},
     "output_type": "execute_result"
    }
   ],
   "source": [
    "df.select(DEFAULT_CLICKED_ARTICLES_COL, DEFAULT_INVIEW_ARTICLES_COL).pipe(\n",
    "    create_binary_labels_column, shuffle=True, seed=123\n",
    ").with_columns(pl.col(\"labels\").list.len().name.suffix(\"_len\")).head(5)"
   ]
  },
  {
   "cell_type": "markdown",
   "metadata": {},
   "source": [
    "#### history"
   ]
  },
  {
   "cell_type": "code",
   "execution_count": 111,
   "metadata": {},
   "outputs": [
    {
     "ename": "ValueError",
     "evalue": "expected 5 values when selecting columns by boolean mask, got 1590",
     "output_type": "error",
     "traceback": [
      "\u001b[0;31m---------------------------------------------------------------------------\u001b[0m",
      "\u001b[0;31mTypeError\u001b[0m                                 Traceback (most recent call last)",
      "File \u001b[0;32m~/miniconda3/envs/dl2023/lib/python3.11/site-packages/polars/_utils/getitem.py:156\u001b[0m, in \u001b[0;36mget_df_item_by_key\u001b[0;34m(df, key)\u001b[0m\n\u001b[1;32m    155\u001b[0m \u001b[38;5;28;01mtry\u001b[39;00m:\n\u001b[0;32m--> 156\u001b[0m     \u001b[38;5;28;01mreturn\u001b[39;00m \u001b[43m_select_rows\u001b[49m\u001b[43m(\u001b[49m\u001b[43mdf\u001b[49m\u001b[43m,\u001b[49m\u001b[43m \u001b[49m\u001b[43mkey\u001b[49m\u001b[43m)\u001b[49m  \u001b[38;5;66;03m# type: ignore[arg-type]\u001b[39;00m\n\u001b[1;32m    157\u001b[0m \u001b[38;5;28;01mexcept\u001b[39;00m \u001b[38;5;167;01mTypeError\u001b[39;00m:\n",
      "File \u001b[0;32m~/miniconda3/envs/dl2023/lib/python3.11/site-packages/polars/_utils/getitem.py:300\u001b[0m, in \u001b[0;36m_select_rows\u001b[0;34m(df, key)\u001b[0m\n\u001b[1;32m    299\u001b[0m \u001b[38;5;28;01melif\u001b[39;00m \u001b[38;5;28misinstance\u001b[39m(key, pl\u001b[38;5;241m.\u001b[39mSeries):\n\u001b[0;32m--> 300\u001b[0m     indices \u001b[38;5;241m=\u001b[39m \u001b[43m_convert_series_to_indices\u001b[49m\u001b[43m(\u001b[49m\u001b[43mkey\u001b[49m\u001b[43m,\u001b[49m\u001b[43m \u001b[49m\u001b[43mdf\u001b[49m\u001b[38;5;241;43m.\u001b[39;49m\u001b[43mheight\u001b[49m\u001b[43m)\u001b[49m\n\u001b[1;32m    301\u001b[0m     \u001b[38;5;28;01mreturn\u001b[39;00m _select_rows_by_index(df, indices)\n",
      "File \u001b[0;32m~/miniconda3/envs/dl2023/lib/python3.11/site-packages/polars/_utils/getitem.py:341\u001b[0m, in \u001b[0;36m_convert_series_to_indices\u001b[0;34m(s, size)\u001b[0m\n\u001b[1;32m    340\u001b[0m \u001b[38;5;28;01mif\u001b[39;00m s\u001b[38;5;241m.\u001b[39mdtype \u001b[38;5;241m==\u001b[39m Boolean:\n\u001b[0;32m--> 341\u001b[0m     \u001b[43m_raise_on_boolean_mask\u001b[49m\u001b[43m(\u001b[49m\u001b[43m)\u001b[49m\n\u001b[1;32m    342\u001b[0m \u001b[38;5;28;01melse\u001b[39;00m:\n",
      "File \u001b[0;32m~/miniconda3/envs/dl2023/lib/python3.11/site-packages/polars/_utils/getitem.py:436\u001b[0m, in \u001b[0;36m_raise_on_boolean_mask\u001b[0;34m()\u001b[0m\n\u001b[1;32m    432\u001b[0m msg \u001b[38;5;241m=\u001b[39m (\n\u001b[1;32m    433\u001b[0m     \u001b[38;5;124m\"\u001b[39m\u001b[38;5;124mselecting rows by passing a boolean mask to `__getitem__` is not supported\u001b[39m\u001b[38;5;124m\"\u001b[39m\n\u001b[1;32m    434\u001b[0m     \u001b[38;5;124m\"\u001b[39m\u001b[38;5;130;01m\\n\u001b[39;00m\u001b[38;5;130;01m\\n\u001b[39;00m\u001b[38;5;124mHint: Use the `filter` method instead.\u001b[39m\u001b[38;5;124m\"\u001b[39m\n\u001b[1;32m    435\u001b[0m )\n\u001b[0;32m--> 436\u001b[0m \u001b[38;5;28;01mraise\u001b[39;00m \u001b[38;5;167;01mTypeError\u001b[39;00m(msg)\n",
      "\u001b[0;31mTypeError\u001b[0m: selecting rows by passing a boolean mask to `__getitem__` is not supported\n\nHint: Use the `filter` method instead.",
      "\nDuring handling of the above exception, another exception occurred:\n",
      "\u001b[0;31mValueError\u001b[0m                                Traceback (most recent call last)",
      "Cell \u001b[0;32mIn[111], line 1\u001b[0m\n\u001b[0;32m----> 1\u001b[0m \u001b[38;5;28mlen\u001b[39m(\u001b[43mhistory\u001b[49m\u001b[43m[\u001b[49m\u001b[43mhistory\u001b[49m\u001b[43m[\u001b[49m\u001b[38;5;124;43m'\u001b[39;49m\u001b[38;5;124;43muser_id\u001b[39;49m\u001b[38;5;124;43m'\u001b[39;49m\u001b[43m]\u001b[49m\u001b[43m \u001b[49m\u001b[38;5;241;43m==\u001b[39;49m\u001b[43m \u001b[49m\u001b[38;5;241;43m13538\u001b[39;49m\u001b[43m]\u001b[49m[\u001b[38;5;124m\"\u001b[39m\u001b[38;5;124marticle_id_fixed\u001b[39m\u001b[38;5;124m\"\u001b[39m]\u001b[38;5;241m.\u001b[39mvalues[\u001b[38;5;241m0\u001b[39m]), \u001b[38;5;28mlen\u001b[39m(history[history[\u001b[38;5;124m'\u001b[39m\u001b[38;5;124muser_id\u001b[39m\u001b[38;5;124m'\u001b[39m] \u001b[38;5;241m==\u001b[39m \u001b[38;5;241m13538\u001b[39m][\u001b[38;5;124m\"\u001b[39m\u001b[38;5;124mimpression_time_fixed\u001b[39m\u001b[38;5;124m\"\u001b[39m]\u001b[38;5;241m.\u001b[39mvalues[\u001b[38;5;241m0\u001b[39m])\n",
      "File \u001b[0;32m~/miniconda3/envs/dl2023/lib/python3.11/site-packages/polars/dataframe/frame.py:1107\u001b[0m, in \u001b[0;36mDataFrame.__getitem__\u001b[0;34m(self, key)\u001b[0m\n\u001b[1;32m   1093\u001b[0m \u001b[38;5;28;01mdef\u001b[39;00m \u001b[38;5;21m__getitem__\u001b[39m(\n\u001b[1;32m   1094\u001b[0m     \u001b[38;5;28mself\u001b[39m,\n\u001b[1;32m   1095\u001b[0m     key: (\n\u001b[0;32m   (...)\u001b[0m\n\u001b[1;32m   1104\u001b[0m     ),\n\u001b[1;32m   1105\u001b[0m ) \u001b[38;5;241m-\u001b[39m\u001b[38;5;241m>\u001b[39m DataFrame \u001b[38;5;241m|\u001b[39m Series \u001b[38;5;241m|\u001b[39m Any:\n\u001b[1;32m   1106\u001b[0m \u001b[38;5;250m    \u001b[39m\u001b[38;5;124;03m\"\"\"Get part of the DataFrame as a new DataFrame, Series, or scalar.\"\"\"\u001b[39;00m\n\u001b[0;32m-> 1107\u001b[0m     \u001b[38;5;28;01mreturn\u001b[39;00m \u001b[43mget_df_item_by_key\u001b[49m\u001b[43m(\u001b[49m\u001b[38;5;28;43mself\u001b[39;49m\u001b[43m,\u001b[49m\u001b[43m \u001b[49m\u001b[43mkey\u001b[49m\u001b[43m)\u001b[49m\n",
      "File \u001b[0;32m~/miniconda3/envs/dl2023/lib/python3.11/site-packages/polars/_utils/getitem.py:158\u001b[0m, in \u001b[0;36mget_df_item_by_key\u001b[0;34m(df, key)\u001b[0m\n\u001b[1;32m    156\u001b[0m     \u001b[38;5;28;01mreturn\u001b[39;00m _select_rows(df, key)  \u001b[38;5;66;03m# type: ignore[arg-type]\u001b[39;00m\n\u001b[1;32m    157\u001b[0m \u001b[38;5;28;01mexcept\u001b[39;00m \u001b[38;5;167;01mTypeError\u001b[39;00m:\n\u001b[0;32m--> 158\u001b[0m     \u001b[38;5;28;01mreturn\u001b[39;00m \u001b[43m_select_columns\u001b[49m\u001b[43m(\u001b[49m\u001b[43mdf\u001b[49m\u001b[43m,\u001b[49m\u001b[43m \u001b[49m\u001b[43mkey\u001b[49m\u001b[43m)\u001b[49m\n",
      "File \u001b[0;32m~/miniconda3/envs/dl2023/lib/python3.11/site-packages/polars/_utils/getitem.py:220\u001b[0m, in \u001b[0;36m_select_columns\u001b[0;34m(df, key)\u001b[0m\n\u001b[1;32m    218\u001b[0m     \u001b[38;5;28;01mreturn\u001b[39;00m _select_columns_by_index(df, key)\n\u001b[1;32m    219\u001b[0m \u001b[38;5;28;01melif\u001b[39;00m dtype \u001b[38;5;241m==\u001b[39m Boolean:\n\u001b[0;32m--> 220\u001b[0m     \u001b[38;5;28;01mreturn\u001b[39;00m \u001b[43m_select_columns_by_mask\u001b[49m\u001b[43m(\u001b[49m\u001b[43mdf\u001b[49m\u001b[43m,\u001b[49m\u001b[43m \u001b[49m\u001b[43mkey\u001b[49m\u001b[43m)\u001b[49m\n\u001b[1;32m    221\u001b[0m \u001b[38;5;28;01melse\u001b[39;00m:\n\u001b[1;32m    222\u001b[0m     msg \u001b[38;5;241m=\u001b[39m \u001b[38;5;124mf\u001b[39m\u001b[38;5;124m\"\u001b[39m\u001b[38;5;124mcannot select columns using Series of type \u001b[39m\u001b[38;5;132;01m{\u001b[39;00mdtype\u001b[38;5;132;01m}\u001b[39;00m\u001b[38;5;124m\"\u001b[39m\n",
      "File \u001b[0;32m~/miniconda3/envs/dl2023/lib/python3.11/site-packages/polars/_utils/getitem.py:262\u001b[0m, in \u001b[0;36m_select_columns_by_mask\u001b[0;34m(df, key)\u001b[0m\n\u001b[1;32m    260\u001b[0m \u001b[38;5;28;01mif\u001b[39;00m \u001b[38;5;28mlen\u001b[39m(key) \u001b[38;5;241m!=\u001b[39m df\u001b[38;5;241m.\u001b[39mwidth:\n\u001b[1;32m    261\u001b[0m     msg \u001b[38;5;241m=\u001b[39m \u001b[38;5;124mf\u001b[39m\u001b[38;5;124m\"\u001b[39m\u001b[38;5;124mexpected \u001b[39m\u001b[38;5;132;01m{\u001b[39;00mdf\u001b[38;5;241m.\u001b[39mwidth\u001b[38;5;132;01m}\u001b[39;00m\u001b[38;5;124m values when selecting columns by boolean mask, got \u001b[39m\u001b[38;5;132;01m{\u001b[39;00m\u001b[38;5;28mlen\u001b[39m(key)\u001b[38;5;132;01m}\u001b[39;00m\u001b[38;5;124m\"\u001b[39m\n\u001b[0;32m--> 262\u001b[0m     \u001b[38;5;28;01mraise\u001b[39;00m \u001b[38;5;167;01mValueError\u001b[39;00m(msg)\n\u001b[1;32m    264\u001b[0m indices \u001b[38;5;241m=\u001b[39m (i \u001b[38;5;28;01mfor\u001b[39;00m i, val \u001b[38;5;129;01min\u001b[39;00m \u001b[38;5;28menumerate\u001b[39m(key) \u001b[38;5;28;01mif\u001b[39;00m val)\n\u001b[1;32m    265\u001b[0m \u001b[38;5;28;01mreturn\u001b[39;00m _select_columns_by_index(df, indices)\n",
      "\u001b[0;31mValueError\u001b[0m: expected 5 values when selecting columns by boolean mask, got 1590"
     ]
    }
   ],
   "source": [
    "len(history[history['user_id'] == 13538][\"article_id_fixed\"].values[0]), len(history[history['user_id'] == 13538][\"impression_time_fixed\"].values[0])"
   ]
  },
  {
   "cell_type": "code",
   "execution_count": 49,
   "metadata": {},
   "outputs": [],
   "source": [
    "# history[history['user_id'] == 617963][\"impression_time_fixed\"].values[0] == sorted(history[history['user_id'] == 617963][\"impression_time_fixed\"].values[0])"
   ]
  },
  {
   "cell_type": "code",
   "execution_count": null,
   "metadata": {},
   "outputs": [],
   "source": [
    "# okay dus die atricles zijn gesorteerd op tijd dus pak gewoon laatste 10 voor iedere user lijkt me"
   ]
  },
  {
   "cell_type": "code",
   "execution_count": 66,
   "metadata": {},
   "outputs": [
    {
     "data": {
      "text/plain": [
       "(1590,)"
      ]
     },
     "execution_count": 66,
     "metadata": {},
     "output_type": "execute_result"
    }
   ],
   "source": [
    "history[\"article_id_fixed\"].shape # shape we want is 1590, 10"
   ]
  },
  {
   "cell_type": "code",
   "execution_count": 96,
   "metadata": {},
   "outputs": [],
   "source": [
    "df_history = df_history.select(DEFAULT_USER_COL, DEFAULT_HISTORY_ARTICLE_ID_COL).pipe(\n",
    "    truncate_history,\n",
    "    column=DEFAULT_HISTORY_ARTICLE_ID_COL,\n",
    "    history_size=10,\n",
    "    padding_value=0,\n",
    "    enable_warning=False,\n",
    ").collect()"
   ]
  },
  {
   "cell_type": "code",
   "execution_count": 97,
   "metadata": {},
   "outputs": [
    {
     "data": {
      "text/plain": [
       "(10,)"
      ]
     },
     "execution_count": 97,
     "metadata": {},
     "output_type": "execute_result"
    }
   ],
   "source": [
    "df_history[0][\"article_id_fixed\"][0].shape"
   ]
  },
  {
   "cell_type": "code",
   "execution_count": null,
   "metadata": {},
   "outputs": [],
   "source": [
    "# for every user get the 10 most recent articles with impression"
   ]
  },
  {
   "cell_type": "code",
   "execution_count": 16,
   "metadata": {},
   "outputs": [
    {
     "data": {
      "text/html": [
       "<div>\n",
       "<style scoped>\n",
       "    .dataframe tbody tr th:only-of-type {\n",
       "        vertical-align: middle;\n",
       "    }\n",
       "\n",
       "    .dataframe tbody tr th {\n",
       "        vertical-align: top;\n",
       "    }\n",
       "\n",
       "    .dataframe thead th {\n",
       "        text-align: right;\n",
       "    }\n",
       "</style>\n",
       "<table border=\"1\" class=\"dataframe\">\n",
       "  <thead>\n",
       "    <tr style=\"text-align: right;\">\n",
       "      <th></th>\n",
       "      <th>user_id</th>\n",
       "    </tr>\n",
       "  </thead>\n",
       "  <tbody>\n",
       "    <tr>\n",
       "      <th>count</th>\n",
       "      <td>1.590000e+03</td>\n",
       "    </tr>\n",
       "    <tr>\n",
       "      <th>mean</th>\n",
       "      <td>1.262934e+06</td>\n",
       "    </tr>\n",
       "    <tr>\n",
       "      <th>std</th>\n",
       "      <td>7.425109e+05</td>\n",
       "    </tr>\n",
       "    <tr>\n",
       "      <th>min</th>\n",
       "      <td>1.131300e+04</td>\n",
       "    </tr>\n",
       "    <tr>\n",
       "      <th>25%</th>\n",
       "      <td>6.308670e+05</td>\n",
       "    </tr>\n",
       "    <tr>\n",
       "      <th>50%</th>\n",
       "      <td>1.246939e+06</td>\n",
       "    </tr>\n",
       "    <tr>\n",
       "      <th>75%</th>\n",
       "      <td>1.888357e+06</td>\n",
       "    </tr>\n",
       "    <tr>\n",
       "      <th>max</th>\n",
       "      <td>2.589391e+06</td>\n",
       "    </tr>\n",
       "  </tbody>\n",
       "</table>\n",
       "</div>"
      ],
      "text/plain": [
       "            user_id\n",
       "count  1.590000e+03\n",
       "mean   1.262934e+06\n",
       "std    7.425109e+05\n",
       "min    1.131300e+04\n",
       "25%    6.308670e+05\n",
       "50%    1.246939e+06\n",
       "75%    1.888357e+06\n",
       "max    2.589391e+06"
      ]
     },
     "execution_count": 16,
     "metadata": {},
     "output_type": "execute_result"
    }
   ],
   "source": [
    "history.describe()"
   ]
  },
  {
   "cell_type": "code",
   "execution_count": 5,
   "metadata": {},
   "outputs": [
    {
     "name": "stdout",
     "output_type": "stream",
     "text": [
      "History: shape: (1, 2)\n",
      "┌─────────────────────┬─────────────────────┐\n",
      "│ min                 ┆ max                 │\n",
      "│ ---                 ┆ ---                 │\n",
      "│ datetime[μs]        ┆ datetime[μs]        │\n",
      "╞═════════════════════╪═════════════════════╡\n",
      "│ 2023-04-27 07:00:05 ┆ 2023-05-18 06:59:51 │\n",
      "└─────────────────────┴─────────────────────┘\n",
      "Behaviors: shape: (1, 2)\n",
      "┌─────────────────────┬─────────────────────┐\n",
      "│ min                 ┆ max                 │\n",
      "│ ---                 ┆ ---                 │\n",
      "│ datetime[μs]        ┆ datetime[μs]        │\n",
      "╞═════════════════════╪═════════════════════╡\n",
      "│ 2023-05-18 07:00:03 ┆ 2023-05-25 06:59:52 │\n",
      "└─────────────────────┴─────────────────────┘\n"
     ]
    }
   ],
   "source": [
    "print(f\"History: {min_max_impression_time_history(df_history).collect()}\")\n",
    "print(f\"Behaviors: {min_max_impression_time_behaviors(df_behaviors).collect()}\")"
   ]
  },
  {
   "cell_type": "code",
   "execution_count": 6,
   "metadata": {},
   "outputs": [
    {
     "data": {
      "text/html": [
       "<div><style>\n",
       ".dataframe > thead > tr,\n",
       ".dataframe > tbody > tr {\n",
       "  text-align: right;\n",
       "  white-space: pre-wrap;\n",
       "}\n",
       "</style>\n",
       "<small>shape: (5, 2)</small><table border=\"1\" class=\"dataframe\"><thead><tr><th>user_id</th><th>article_id_fixed</th></tr><tr><td>u32</td><td>list[i32]</td></tr></thead><tbody><tr><td>13538</td><td>[9767342, 9767751, … 9769366]</td></tr><tr><td>58608</td><td>[9763090, 9765545, … 9770333]</td></tr><tr><td>95507</td><td>[9768802, 9768583, … 9769450]</td></tr><tr><td>106588</td><td>[9751531, 9751633, … 9747803]</td></tr><tr><td>617963</td><td>[9765410, 9759300, … 9770798]</td></tr></tbody></table></div>"
      ],
      "text/plain": [
       "shape: (5, 2)\n",
       "┌─────────┬───────────────────────────────┐\n",
       "│ user_id ┆ article_id_fixed              │\n",
       "│ ---     ┆ ---                           │\n",
       "│ u32     ┆ list[i32]                     │\n",
       "╞═════════╪═══════════════════════════════╡\n",
       "│ 13538   ┆ [9767342, 9767751, … 9769366] │\n",
       "│ 58608   ┆ [9763090, 9765545, … 9770333] │\n",
       "│ 95507   ┆ [9768802, 9768583, … 9769450] │\n",
       "│ 106588  ┆ [9751531, 9751633, … 9747803] │\n",
       "│ 617963  ┆ [9765410, 9759300, … 9770798] │\n",
       "└─────────┴───────────────────────────────┘"
      ]
     },
     "execution_count": 6,
     "metadata": {},
     "output_type": "execute_result"
    }
   ],
   "source": [
    "df_history = df_history.select(DEFAULT_USER_COL, DEFAULT_HISTORY_ARTICLE_ID_COL).pipe(\n",
    "    truncate_history,\n",
    "    column=DEFAULT_HISTORY_ARTICLE_ID_COL,\n",
    "    history_size=30, \n",
    "    padding_value=0,\n",
    "    enable_warning=False,\n",
    ")\n",
    "df_history.head(5).collect()"
   ]
  },
  {
   "cell_type": "code",
   "execution_count": 7,
   "metadata": {},
   "outputs": [
    {
     "data": {
      "text/html": [
       "<div><style>\n",
       ".dataframe > thead > tr,\n",
       ".dataframe > tbody > tr {\n",
       "  text-align: right;\n",
       "  white-space: pre-wrap;\n",
       "}\n",
       "</style>\n",
       "<small>shape: (5, 18)</small><table border=\"1\" class=\"dataframe\"><thead><tr><th>impression_id</th><th>article_id</th><th>impression_time</th><th>read_time</th><th>scroll_percentage</th><th>device_type</th><th>article_ids_inview</th><th>article_ids_clicked</th><th>user_id</th><th>is_sso_user</th><th>gender</th><th>postcode</th><th>age</th><th>is_subscriber</th><th>session_id</th><th>next_read_time</th><th>next_scroll_percentage</th><th>article_id_fixed</th></tr><tr><td>u32</td><td>i32</td><td>datetime[μs]</td><td>f32</td><td>f32</td><td>i8</td><td>list[i32]</td><td>list[i32]</td><td>u32</td><td>bool</td><td>i8</td><td>i8</td><td>i8</td><td>bool</td><td>u32</td><td>f32</td><td>f32</td><td>list[i32]</td></tr></thead><tbody><tr><td>48401</td><td>null</td><td>2023-05-21 21:06:50</td><td>21.0</td><td>null</td><td>2</td><td>[9774516, 9771051, … 9759966]</td><td>[9759966]</td><td>22779</td><td>false</td><td>null</td><td>null</td><td>null</td><td>false</td><td>21</td><td>16.0</td><td>27.0</td><td>[9768820, 9767534, … 9770541]</td></tr><tr><td>152513</td><td>9778745</td><td>2023-05-24 07:31:26</td><td>30.0</td><td>100.0</td><td>1</td><td>[9778669, 9778736, … 9777397]</td><td>[9778661]</td><td>150224</td><td>false</td><td>null</td><td>null</td><td>null</td><td>false</td><td>298</td><td>2.0</td><td>48.0</td><td>[9767447, 9767739, … 9735909]</td></tr><tr><td>155390</td><td>null</td><td>2023-05-24 07:30:33</td><td>45.0</td><td>null</td><td>1</td><td>[9778369, 9777856, … 9778448]</td><td>[9777856]</td><td>160892</td><td>false</td><td>null</td><td>null</td><td>null</td><td>false</td><td>401</td><td>215.0</td><td>100.0</td><td>[9759345, 9766042, … 9770178]</td></tr><tr><td>214679</td><td>null</td><td>2023-05-23 05:25:40</td><td>33.0</td><td>null</td><td>2</td><td>[9776715, 9776406, … 9776855]</td><td>[9776566]</td><td>1001055</td><td>false</td><td>null</td><td>null</td><td>null</td><td>false</td><td>1357</td><td>40.0</td><td>47.0</td><td>[9767220, 9766886, … 9769981]</td></tr><tr><td>214681</td><td>null</td><td>2023-05-23 05:31:54</td><td>21.0</td><td>null</td><td>2</td><td>[9775202, 9776855, … 9776570]</td><td>[9776553]</td><td>1001055</td><td>false</td><td>null</td><td>null</td><td>null</td><td>false</td><td>1358</td><td>5.0</td><td>49.0</td><td>[9767220, 9766886, … 9769981]</td></tr></tbody></table></div>"
      ],
      "text/plain": [
       "shape: (5, 18)\n",
       "┌───────────┬───────────┬───────────┬───────────┬───┬───────────┬───────────┬───────────┬──────────┐\n",
       "│ impressio ┆ article_i ┆ impressio ┆ read_time ┆ … ┆ session_i ┆ next_read ┆ next_scro ┆ article_ │\n",
       "│ n_id      ┆ d         ┆ n_time    ┆ ---       ┆   ┆ d         ┆ _time     ┆ ll_percen ┆ id_fixed │\n",
       "│ ---       ┆ ---       ┆ ---       ┆ f32       ┆   ┆ ---       ┆ ---       ┆ tage      ┆ ---      │\n",
       "│ u32       ┆ i32       ┆ datetime[ ┆           ┆   ┆ u32       ┆ f32       ┆ ---       ┆ list[i32 │\n",
       "│           ┆           ┆ μs]       ┆           ┆   ┆           ┆           ┆ f32       ┆ ]        │\n",
       "╞═══════════╪═══════════╪═══════════╪═══════════╪═══╪═══════════╪═══════════╪═══════════╪══════════╡\n",
       "│ 48401     ┆ null      ┆ 2023-05-2 ┆ 21.0      ┆ … ┆ 21        ┆ 16.0      ┆ 27.0      ┆ [9768820 │\n",
       "│           ┆           ┆ 1         ┆           ┆   ┆           ┆           ┆           ┆ ,        │\n",
       "│           ┆           ┆ 21:06:50  ┆           ┆   ┆           ┆           ┆           ┆ 9767534, │\n",
       "│           ┆           ┆           ┆           ┆   ┆           ┆           ┆           ┆ …        │\n",
       "│           ┆           ┆           ┆           ┆   ┆           ┆           ┆           ┆ 9770541] │\n",
       "│ 152513    ┆ 9778745   ┆ 2023-05-2 ┆ 30.0      ┆ … ┆ 298       ┆ 2.0       ┆ 48.0      ┆ [9767447 │\n",
       "│           ┆           ┆ 4         ┆           ┆   ┆           ┆           ┆           ┆ ,        │\n",
       "│           ┆           ┆ 07:31:26  ┆           ┆   ┆           ┆           ┆           ┆ 9767739, │\n",
       "│           ┆           ┆           ┆           ┆   ┆           ┆           ┆           ┆ …        │\n",
       "│           ┆           ┆           ┆           ┆   ┆           ┆           ┆           ┆ 9735909] │\n",
       "│ 155390    ┆ null      ┆ 2023-05-2 ┆ 45.0      ┆ … ┆ 401       ┆ 215.0     ┆ 100.0     ┆ [9759345 │\n",
       "│           ┆           ┆ 4         ┆           ┆   ┆           ┆           ┆           ┆ ,        │\n",
       "│           ┆           ┆ 07:30:33  ┆           ┆   ┆           ┆           ┆           ┆ 9766042, │\n",
       "│           ┆           ┆           ┆           ┆   ┆           ┆           ┆           ┆ …        │\n",
       "│           ┆           ┆           ┆           ┆   ┆           ┆           ┆           ┆ 9770178] │\n",
       "│ 214679    ┆ null      ┆ 2023-05-2 ┆ 33.0      ┆ … ┆ 1357      ┆ 40.0      ┆ 47.0      ┆ [9767220 │\n",
       "│           ┆           ┆ 3         ┆           ┆   ┆           ┆           ┆           ┆ ,        │\n",
       "│           ┆           ┆ 05:25:40  ┆           ┆   ┆           ┆           ┆           ┆ 9766886, │\n",
       "│           ┆           ┆           ┆           ┆   ┆           ┆           ┆           ┆ …        │\n",
       "│           ┆           ┆           ┆           ┆   ┆           ┆           ┆           ┆ 9769981] │\n",
       "│ 214681    ┆ null      ┆ 2023-05-2 ┆ 21.0      ┆ … ┆ 1358      ┆ 5.0       ┆ 49.0      ┆ [9767220 │\n",
       "│           ┆           ┆ 3         ┆           ┆   ┆           ┆           ┆           ┆ ,        │\n",
       "│           ┆           ┆ 05:31:54  ┆           ┆   ┆           ┆           ┆           ┆ 9766886, │\n",
       "│           ┆           ┆           ┆           ┆   ┆           ┆           ┆           ┆ …        │\n",
       "│           ┆           ┆           ┆           ┆   ┆           ┆           ┆           ┆ 9769981] │\n",
       "└───────────┴───────────┴───────────┴───────────┴───┴───────────┴───────────┴───────────┴──────────┘"
      ]
     },
     "execution_count": 7,
     "metadata": {},
     "output_type": "execute_result"
    }
   ],
   "source": [
    "df = slice_join_dataframes(\n",
    "    df1=df_behaviors.collect(),\n",
    "    df2=df_history.collect(),\n",
    "    on=DEFAULT_USER_COL,\n",
    "    how=\"left\",\n",
    ")\n",
    "df.head(5)"
   ]
  },
  {
   "cell_type": "code",
   "execution_count": 8,
   "metadata": {},
   "outputs": [
    {
     "data": {
      "text/html": [
       "<div><style>\n",
       ".dataframe > thead > tr,\n",
       ".dataframe > tbody > tr {\n",
       "  text-align: right;\n",
       "  white-space: pre-wrap;\n",
       "}\n",
       "</style>\n",
       "<small>shape: (5, 4)</small><table border=\"1\" class=\"dataframe\"><thead><tr><th>article_ids_clicked</th><th>article_ids_inview</th><th>labels</th><th>labels_len</th></tr><tr><td>list[i32]</td><td>list[i32]</td><td>list[i8]</td><td>u32</td></tr></thead><tbody><tr><td>[9759966]</td><td>[9142581, 9774461, … 9770028]</td><td>[0, 0, … 0]</td><td>11</td></tr><tr><td>[9778661]</td><td>[9778728, 9777397, … 9778657]</td><td>[0, 0, … 0]</td><td>17</td></tr><tr><td>[9777856]</td><td>[9778155, 9777856, … 9778226]</td><td>[0, 1, … 0]</td><td>11</td></tr><tr><td>[9776566]</td><td>[9776497, 9776071, … 9776855]</td><td>[0, 0, … 0]</td><td>9</td></tr><tr><td>[9776553]</td><td>[9771995, 9776570, … 9776246]</td><td>[0, 0, … 0]</td><td>18</td></tr></tbody></table></div>"
      ],
      "text/plain": [
       "shape: (5, 4)\n",
       "┌─────────────────────┬───────────────────────────────┬─────────────┬────────────┐\n",
       "│ article_ids_clicked ┆ article_ids_inview            ┆ labels      ┆ labels_len │\n",
       "│ ---                 ┆ ---                           ┆ ---         ┆ ---        │\n",
       "│ list[i32]           ┆ list[i32]                     ┆ list[i8]    ┆ u32        │\n",
       "╞═════════════════════╪═══════════════════════════════╪═════════════╪════════════╡\n",
       "│ [9759966]           ┆ [9142581, 9774461, … 9770028] ┆ [0, 0, … 0] ┆ 11         │\n",
       "│ [9778661]           ┆ [9778728, 9777397, … 9778657] ┆ [0, 0, … 0] ┆ 17         │\n",
       "│ [9777856]           ┆ [9778155, 9777856, … 9778226] ┆ [0, 1, … 0] ┆ 11         │\n",
       "│ [9776566]           ┆ [9776497, 9776071, … 9776855] ┆ [0, 0, … 0] ┆ 9          │\n",
       "│ [9776553]           ┆ [9771995, 9776570, … 9776246] ┆ [0, 0, … 0] ┆ 18         │\n",
       "└─────────────────────┴───────────────────────────────┴─────────────┴────────────┘"
      ]
     },
     "execution_count": 8,
     "metadata": {},
     "output_type": "execute_result"
    }
   ],
   "source": [
    "df.select(DEFAULT_CLICKED_ARTICLES_COL, DEFAULT_INVIEW_ARTICLES_COL).pipe(\n",
    "    create_binary_labels_column, shuffle=True, seed=123\n",
    ").with_columns(pl.col(\"labels\").list.len().name.suffix(\"_len\")).head(5)"
   ]
  },
  {
   "cell_type": "code",
   "execution_count": 9,
   "metadata": {},
   "outputs": [
    {
     "data": {
      "text/html": [
       "<div><style>\n",
       ".dataframe > thead > tr,\n",
       ".dataframe > tbody > tr {\n",
       "  text-align: right;\n",
       "  white-space: pre-wrap;\n",
       "}\n",
       "</style>\n",
       "<small>shape: (5, 4)</small><table border=\"1\" class=\"dataframe\"><thead><tr><th>article_ids_clicked</th><th>article_ids_inview</th><th>labels</th><th>labels_len</th></tr><tr><td>list[i64]</td><td>list[i64]</td><td>list[i8]</td><td>u32</td></tr></thead><tbody><tr><td>[9759966]</td><td>[9774461, 9775371, 9759966]</td><td>[0, 0, 1]</td><td>3</td></tr><tr><td>[9778661]</td><td>[9778661, 9777397, 9778682]</td><td>[1, 0, 0]</td><td>3</td></tr><tr><td>[9777856]</td><td>[9777856, 9778351, 9778448]</td><td>[1, 0, 0]</td><td>3</td></tr><tr><td>[9776566]</td><td>[9776566, 9776855, 9776808]</td><td>[1, 0, 0]</td><td>3</td></tr><tr><td>[9776553]</td><td>[9776449, 9776553, 9776570]</td><td>[0, 1, 0]</td><td>3</td></tr></tbody></table></div>"
      ],
      "text/plain": [
       "shape: (5, 4)\n",
       "┌─────────────────────┬─────────────────────────────┬───────────┬────────────┐\n",
       "│ article_ids_clicked ┆ article_ids_inview          ┆ labels    ┆ labels_len │\n",
       "│ ---                 ┆ ---                         ┆ ---       ┆ ---        │\n",
       "│ list[i64]           ┆ list[i64]                   ┆ list[i8]  ┆ u32        │\n",
       "╞═════════════════════╪═════════════════════════════╪═══════════╪════════════╡\n",
       "│ [9759966]           ┆ [9774461, 9775371, 9759966] ┆ [0, 0, 1] ┆ 3          │\n",
       "│ [9778661]           ┆ [9778661, 9777397, 9778682] ┆ [1, 0, 0] ┆ 3          │\n",
       "│ [9777856]           ┆ [9777856, 9778351, 9778448] ┆ [1, 0, 0] ┆ 3          │\n",
       "│ [9776566]           ┆ [9776566, 9776855, 9776808] ┆ [1, 0, 0] ┆ 3          │\n",
       "│ [9776553]           ┆ [9776449, 9776553, 9776570] ┆ [0, 1, 0] ┆ 3          │\n",
       "└─────────────────────┴─────────────────────────────┴───────────┴────────────┘"
      ]
     },
     "execution_count": 9,
     "metadata": {},
     "output_type": "execute_result"
    }
   ],
   "source": [
    "NPRATIO = 2\n",
    "df.select(DEFAULT_CLICKED_ARTICLES_COL, DEFAULT_INVIEW_ARTICLES_COL).pipe(\n",
    "    sampling_strategy_wu2019, npratio=NPRATIO, shuffle=False, with_replacement=True, seed=123\n",
    ").pipe(create_binary_labels_column, shuffle=True, seed=123).with_columns(pl.col(\"labels\").list.len().name.suffix(\"_len\")).head(5)"
   ]
  }
 ],
 "metadata": {
  "kernelspec": {
   "display_name": "dl2023",
   "language": "python",
   "name": "python3"
  },
  "language_info": {
   "codemirror_mode": {
    "name": "ipython",
    "version": 3
   },
   "file_extension": ".py",
   "mimetype": "text/x-python",
   "name": "python",
   "nbconvert_exporter": "python",
   "pygments_lexer": "ipython3",
   "version": "3.11.5"
  }
 },
 "nbformat": 4,
 "nbformat_minor": 2
}
