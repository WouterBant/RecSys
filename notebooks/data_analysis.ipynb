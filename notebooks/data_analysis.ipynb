{
 "cells": [
  {
   "cell_type": "code",
   "execution_count": 1,
   "metadata": {},
   "outputs": [],
   "source": [
    "import numpy as np\n",
    "import torch\n",
    "import matplotlib.pyplot as plt"
   ]
  },
  {
   "cell_type": "code",
   "execution_count": 2,
   "metadata": {},
   "outputs": [],
   "source": [
    "from pathlib import Path\n",
    "import polars as pl\n",
    "\n",
    "import sys\n",
    "sys.path.append(\"../ebnerd-benchmark/src\")\n",
    "\n",
    "from ebrec.utils._descriptive_analysis import (\n",
    "    min_max_impression_time_behaviors, \n",
    "    min_max_impression_time_history\n",
    ")\n",
    "from ebrec.utils._polars import slice_join_dataframes\n",
    "from ebrec.utils._behaviors import (\n",
    "    create_binary_labels_column,\n",
    "    sampling_strategy_wu2019,\n",
    "    truncate_history,\n",
    ")\n",
    "from ebrec.utils._constants import (\n",
    "    DEFAULT_HISTORY_ARTICLE_ID_COL,\n",
    "    DEFAULT_CLICKED_ARTICLES_COL,\n",
    "    DEFAULT_INVIEW_ARTICLES_COL,\n",
    "    DEFAULT_USER_COL\n",
    ")"
   ]
  },
  {
   "cell_type": "markdown",
   "metadata": {},
   "source": [
    "# Dit laat nu de demo data, maar is handig om alles op te zetten"
   ]
  },
  {
   "cell_type": "code",
   "execution_count": 3,
   "metadata": {},
   "outputs": [],
   "source": [
    "PATH = Path(\"../ebnerd-data-demo\")\n",
    "data_split = \"train\""
   ]
  },
  {
   "cell_type": "code",
   "execution_count": 4,
   "metadata": {},
   "outputs": [],
   "source": [
    "df_behaviors = pl.scan_parquet(PATH.joinpath(data_split, \"behaviors.parquet\"))\n",
    "df_history = pl.scan_parquet(PATH.joinpath(data_split, \"history.parquet\"))"
   ]
  },
  {
   "cell_type": "code",
   "execution_count": 5,
   "metadata": {},
   "outputs": [
    {
     "name": "stdout",
     "output_type": "stream",
     "text": [
      "History: shape: (1, 2)\n",
      "┌─────────────────────┬─────────────────────┐\n",
      "│ min                 ┆ max                 │\n",
      "│ ---                 ┆ ---                 │\n",
      "│ datetime[μs]        ┆ datetime[μs]        │\n",
      "╞═════════════════════╪═════════════════════╡\n",
      "│ 2023-04-27 07:00:05 ┆ 2023-05-18 06:59:51 │\n",
      "└─────────────────────┴─────────────────────┘\n",
      "Behaviors: shape: (1, 2)\n",
      "┌─────────────────────┬─────────────────────┐\n",
      "│ min                 ┆ max                 │\n",
      "│ ---                 ┆ ---                 │\n",
      "│ datetime[μs]        ┆ datetime[μs]        │\n",
      "╞═════════════════════╪═════════════════════╡\n",
      "│ 2023-05-18 07:00:03 ┆ 2023-05-25 06:59:52 │\n",
      "└─────────────────────┴─────────────────────┘\n"
     ]
    }
   ],
   "source": [
    "print(f\"History: {min_max_impression_time_history(df_history).collect()}\")\n",
    "print(f\"Behaviors: {min_max_impression_time_behaviors(df_behaviors).collect()}\")"
   ]
  },
  {
   "cell_type": "code",
   "execution_count": 6,
   "metadata": {},
   "outputs": [
    {
     "data": {
      "text/html": [
       "<div><style>\n",
       ".dataframe > thead > tr,\n",
       ".dataframe > tbody > tr {\n",
       "  text-align: right;\n",
       "  white-space: pre-wrap;\n",
       "}\n",
       "</style>\n",
       "<small>shape: (5, 2)</small><table border=\"1\" class=\"dataframe\"><thead><tr><th>user_id</th><th>article_id_fixed</th></tr><tr><td>u32</td><td>list[i32]</td></tr></thead><tbody><tr><td>13538</td><td>[9767342, 9767751, … 9769366]</td></tr><tr><td>58608</td><td>[9763090, 9765545, … 9770333]</td></tr><tr><td>95507</td><td>[9768802, 9768583, … 9769450]</td></tr><tr><td>106588</td><td>[9751531, 9751633, … 9747803]</td></tr><tr><td>617963</td><td>[9765410, 9759300, … 9770798]</td></tr></tbody></table></div>"
      ],
      "text/plain": [
       "shape: (5, 2)\n",
       "┌─────────┬───────────────────────────────┐\n",
       "│ user_id ┆ article_id_fixed              │\n",
       "│ ---     ┆ ---                           │\n",
       "│ u32     ┆ list[i32]                     │\n",
       "╞═════════╪═══════════════════════════════╡\n",
       "│ 13538   ┆ [9767342, 9767751, … 9769366] │\n",
       "│ 58608   ┆ [9763090, 9765545, … 9770333] │\n",
       "│ 95507   ┆ [9768802, 9768583, … 9769450] │\n",
       "│ 106588  ┆ [9751531, 9751633, … 9747803] │\n",
       "│ 617963  ┆ [9765410, 9759300, … 9770798] │\n",
       "└─────────┴───────────────────────────────┘"
      ]
     },
     "execution_count": 6,
     "metadata": {},
     "output_type": "execute_result"
    }
   ],
   "source": [
    "df_history = df_history.select(DEFAULT_USER_COL, DEFAULT_HISTORY_ARTICLE_ID_COL).pipe(\n",
    "    truncate_history,\n",
    "    column=DEFAULT_HISTORY_ARTICLE_ID_COL,\n",
    "    history_size=30, \n",
    "    padding_value=0,\n",
    "    enable_warning=False,\n",
    ")\n",
    "df_history.head(5).collect()"
   ]
  },
  {
   "cell_type": "code",
   "execution_count": 7,
   "metadata": {},
   "outputs": [
    {
     "data": {
      "text/html": [
       "<div><style>\n",
       ".dataframe > thead > tr,\n",
       ".dataframe > tbody > tr {\n",
       "  text-align: right;\n",
       "  white-space: pre-wrap;\n",
       "}\n",
       "</style>\n",
       "<small>shape: (5, 18)</small><table border=\"1\" class=\"dataframe\"><thead><tr><th>impression_id</th><th>article_id</th><th>impression_time</th><th>read_time</th><th>scroll_percentage</th><th>device_type</th><th>article_ids_inview</th><th>article_ids_clicked</th><th>user_id</th><th>is_sso_user</th><th>gender</th><th>postcode</th><th>age</th><th>is_subscriber</th><th>session_id</th><th>next_read_time</th><th>next_scroll_percentage</th><th>article_id_fixed</th></tr><tr><td>u32</td><td>i32</td><td>datetime[μs]</td><td>f32</td><td>f32</td><td>i8</td><td>list[i32]</td><td>list[i32]</td><td>u32</td><td>bool</td><td>i8</td><td>i8</td><td>i8</td><td>bool</td><td>u32</td><td>f32</td><td>f32</td><td>list[i32]</td></tr></thead><tbody><tr><td>48401</td><td>null</td><td>2023-05-21 21:06:50</td><td>21.0</td><td>null</td><td>2</td><td>[9774516, 9771051, … 9759966]</td><td>[9759966]</td><td>22779</td><td>false</td><td>null</td><td>null</td><td>null</td><td>false</td><td>21</td><td>16.0</td><td>27.0</td><td>[9768820, 9767534, … 9770541]</td></tr><tr><td>152513</td><td>9778745</td><td>2023-05-24 07:31:26</td><td>30.0</td><td>100.0</td><td>1</td><td>[9778669, 9778736, … 9777397]</td><td>[9778661]</td><td>150224</td><td>false</td><td>null</td><td>null</td><td>null</td><td>false</td><td>298</td><td>2.0</td><td>48.0</td><td>[9767447, 9767739, … 9735909]</td></tr><tr><td>155390</td><td>null</td><td>2023-05-24 07:30:33</td><td>45.0</td><td>null</td><td>1</td><td>[9778369, 9777856, … 9778448]</td><td>[9777856]</td><td>160892</td><td>false</td><td>null</td><td>null</td><td>null</td><td>false</td><td>401</td><td>215.0</td><td>100.0</td><td>[9759345, 9766042, … 9770178]</td></tr><tr><td>214679</td><td>null</td><td>2023-05-23 05:25:40</td><td>33.0</td><td>null</td><td>2</td><td>[9776715, 9776406, … 9776855]</td><td>[9776566]</td><td>1001055</td><td>false</td><td>null</td><td>null</td><td>null</td><td>false</td><td>1357</td><td>40.0</td><td>47.0</td><td>[9767220, 9766886, … 9769981]</td></tr><tr><td>214681</td><td>null</td><td>2023-05-23 05:31:54</td><td>21.0</td><td>null</td><td>2</td><td>[9775202, 9776855, … 9776570]</td><td>[9776553]</td><td>1001055</td><td>false</td><td>null</td><td>null</td><td>null</td><td>false</td><td>1358</td><td>5.0</td><td>49.0</td><td>[9767220, 9766886, … 9769981]</td></tr></tbody></table></div>"
      ],
      "text/plain": [
       "shape: (5, 18)\n",
       "┌───────────┬───────────┬───────────┬───────────┬───┬───────────┬───────────┬───────────┬──────────┐\n",
       "│ impressio ┆ article_i ┆ impressio ┆ read_time ┆ … ┆ session_i ┆ next_read ┆ next_scro ┆ article_ │\n",
       "│ n_id      ┆ d         ┆ n_time    ┆ ---       ┆   ┆ d         ┆ _time     ┆ ll_percen ┆ id_fixed │\n",
       "│ ---       ┆ ---       ┆ ---       ┆ f32       ┆   ┆ ---       ┆ ---       ┆ tage      ┆ ---      │\n",
       "│ u32       ┆ i32       ┆ datetime[ ┆           ┆   ┆ u32       ┆ f32       ┆ ---       ┆ list[i32 │\n",
       "│           ┆           ┆ μs]       ┆           ┆   ┆           ┆           ┆ f32       ┆ ]        │\n",
       "╞═══════════╪═══════════╪═══════════╪═══════════╪═══╪═══════════╪═══════════╪═══════════╪══════════╡\n",
       "│ 48401     ┆ null      ┆ 2023-05-2 ┆ 21.0      ┆ … ┆ 21        ┆ 16.0      ┆ 27.0      ┆ [9768820 │\n",
       "│           ┆           ┆ 1         ┆           ┆   ┆           ┆           ┆           ┆ ,        │\n",
       "│           ┆           ┆ 21:06:50  ┆           ┆   ┆           ┆           ┆           ┆ 9767534, │\n",
       "│           ┆           ┆           ┆           ┆   ┆           ┆           ┆           ┆ …        │\n",
       "│           ┆           ┆           ┆           ┆   ┆           ┆           ┆           ┆ 9770541] │\n",
       "│ 152513    ┆ 9778745   ┆ 2023-05-2 ┆ 30.0      ┆ … ┆ 298       ┆ 2.0       ┆ 48.0      ┆ [9767447 │\n",
       "│           ┆           ┆ 4         ┆           ┆   ┆           ┆           ┆           ┆ ,        │\n",
       "│           ┆           ┆ 07:31:26  ┆           ┆   ┆           ┆           ┆           ┆ 9767739, │\n",
       "│           ┆           ┆           ┆           ┆   ┆           ┆           ┆           ┆ …        │\n",
       "│           ┆           ┆           ┆           ┆   ┆           ┆           ┆           ┆ 9735909] │\n",
       "│ 155390    ┆ null      ┆ 2023-05-2 ┆ 45.0      ┆ … ┆ 401       ┆ 215.0     ┆ 100.0     ┆ [9759345 │\n",
       "│           ┆           ┆ 4         ┆           ┆   ┆           ┆           ┆           ┆ ,        │\n",
       "│           ┆           ┆ 07:30:33  ┆           ┆   ┆           ┆           ┆           ┆ 9766042, │\n",
       "│           ┆           ┆           ┆           ┆   ┆           ┆           ┆           ┆ …        │\n",
       "│           ┆           ┆           ┆           ┆   ┆           ┆           ┆           ┆ 9770178] │\n",
       "│ 214679    ┆ null      ┆ 2023-05-2 ┆ 33.0      ┆ … ┆ 1357      ┆ 40.0      ┆ 47.0      ┆ [9767220 │\n",
       "│           ┆           ┆ 3         ┆           ┆   ┆           ┆           ┆           ┆ ,        │\n",
       "│           ┆           ┆ 05:25:40  ┆           ┆   ┆           ┆           ┆           ┆ 9766886, │\n",
       "│           ┆           ┆           ┆           ┆   ┆           ┆           ┆           ┆ …        │\n",
       "│           ┆           ┆           ┆           ┆   ┆           ┆           ┆           ┆ 9769981] │\n",
       "│ 214681    ┆ null      ┆ 2023-05-2 ┆ 21.0      ┆ … ┆ 1358      ┆ 5.0       ┆ 49.0      ┆ [9767220 │\n",
       "│           ┆           ┆ 3         ┆           ┆   ┆           ┆           ┆           ┆ ,        │\n",
       "│           ┆           ┆ 05:31:54  ┆           ┆   ┆           ┆           ┆           ┆ 9766886, │\n",
       "│           ┆           ┆           ┆           ┆   ┆           ┆           ┆           ┆ …        │\n",
       "│           ┆           ┆           ┆           ┆   ┆           ┆           ┆           ┆ 9769981] │\n",
       "└───────────┴───────────┴───────────┴───────────┴───┴───────────┴───────────┴───────────┴──────────┘"
      ]
     },
     "execution_count": 7,
     "metadata": {},
     "output_type": "execute_result"
    }
   ],
   "source": [
    "df = slice_join_dataframes(\n",
    "    df1=df_behaviors.collect(),\n",
    "    df2=df_history.collect(),\n",
    "    on=DEFAULT_USER_COL,\n",
    "    how=\"left\",\n",
    ")\n",
    "df.head(5)"
   ]
  },
  {
   "cell_type": "code",
   "execution_count": 8,
   "metadata": {},
   "outputs": [
    {
     "data": {
      "text/html": [
       "<div><style>\n",
       ".dataframe > thead > tr,\n",
       ".dataframe > tbody > tr {\n",
       "  text-align: right;\n",
       "  white-space: pre-wrap;\n",
       "}\n",
       "</style>\n",
       "<small>shape: (5, 4)</small><table border=\"1\" class=\"dataframe\"><thead><tr><th>article_ids_clicked</th><th>article_ids_inview</th><th>labels</th><th>labels_len</th></tr><tr><td>list[i32]</td><td>list[i32]</td><td>list[i8]</td><td>u32</td></tr></thead><tbody><tr><td>[9759966]</td><td>[9142581, 9774461, … 9770028]</td><td>[0, 0, … 0]</td><td>11</td></tr><tr><td>[9778661]</td><td>[9778728, 9777397, … 9778657]</td><td>[0, 0, … 0]</td><td>17</td></tr><tr><td>[9777856]</td><td>[9778155, 9777856, … 9778226]</td><td>[0, 1, … 0]</td><td>11</td></tr><tr><td>[9776566]</td><td>[9776497, 9776071, … 9776855]</td><td>[0, 0, … 0]</td><td>9</td></tr><tr><td>[9776553]</td><td>[9771995, 9776570, … 9776246]</td><td>[0, 0, … 0]</td><td>18</td></tr></tbody></table></div>"
      ],
      "text/plain": [
       "shape: (5, 4)\n",
       "┌─────────────────────┬───────────────────────────────┬─────────────┬────────────┐\n",
       "│ article_ids_clicked ┆ article_ids_inview            ┆ labels      ┆ labels_len │\n",
       "│ ---                 ┆ ---                           ┆ ---         ┆ ---        │\n",
       "│ list[i32]           ┆ list[i32]                     ┆ list[i8]    ┆ u32        │\n",
       "╞═════════════════════╪═══════════════════════════════╪═════════════╪════════════╡\n",
       "│ [9759966]           ┆ [9142581, 9774461, … 9770028] ┆ [0, 0, … 0] ┆ 11         │\n",
       "│ [9778661]           ┆ [9778728, 9777397, … 9778657] ┆ [0, 0, … 0] ┆ 17         │\n",
       "│ [9777856]           ┆ [9778155, 9777856, … 9778226] ┆ [0, 1, … 0] ┆ 11         │\n",
       "│ [9776566]           ┆ [9776497, 9776071, … 9776855] ┆ [0, 0, … 0] ┆ 9          │\n",
       "│ [9776553]           ┆ [9771995, 9776570, … 9776246] ┆ [0, 0, … 0] ┆ 18         │\n",
       "└─────────────────────┴───────────────────────────────┴─────────────┴────────────┘"
      ]
     },
     "execution_count": 8,
     "metadata": {},
     "output_type": "execute_result"
    }
   ],
   "source": [
    "df.select(DEFAULT_CLICKED_ARTICLES_COL, DEFAULT_INVIEW_ARTICLES_COL).pipe(\n",
    "    create_binary_labels_column, shuffle=True, seed=123\n",
    ").with_columns(pl.col(\"labels\").list.len().name.suffix(\"_len\")).head(5)"
   ]
  },
  {
   "cell_type": "code",
   "execution_count": 9,
   "metadata": {},
   "outputs": [
    {
     "data": {
      "text/html": [
       "<div><style>\n",
       ".dataframe > thead > tr,\n",
       ".dataframe > tbody > tr {\n",
       "  text-align: right;\n",
       "  white-space: pre-wrap;\n",
       "}\n",
       "</style>\n",
       "<small>shape: (5, 4)</small><table border=\"1\" class=\"dataframe\"><thead><tr><th>article_ids_clicked</th><th>article_ids_inview</th><th>labels</th><th>labels_len</th></tr><tr><td>list[i64]</td><td>list[i64]</td><td>list[i8]</td><td>u32</td></tr></thead><tbody><tr><td>[9759966]</td><td>[9774461, 9775371, 9759966]</td><td>[0, 0, 1]</td><td>3</td></tr><tr><td>[9778661]</td><td>[9778661, 9777397, 9778682]</td><td>[1, 0, 0]</td><td>3</td></tr><tr><td>[9777856]</td><td>[9777856, 9778351, 9778448]</td><td>[1, 0, 0]</td><td>3</td></tr><tr><td>[9776566]</td><td>[9776566, 9776855, 9776808]</td><td>[1, 0, 0]</td><td>3</td></tr><tr><td>[9776553]</td><td>[9776449, 9776553, 9776570]</td><td>[0, 1, 0]</td><td>3</td></tr></tbody></table></div>"
      ],
      "text/plain": [
       "shape: (5, 4)\n",
       "┌─────────────────────┬─────────────────────────────┬───────────┬────────────┐\n",
       "│ article_ids_clicked ┆ article_ids_inview          ┆ labels    ┆ labels_len │\n",
       "│ ---                 ┆ ---                         ┆ ---       ┆ ---        │\n",
       "│ list[i64]           ┆ list[i64]                   ┆ list[i8]  ┆ u32        │\n",
       "╞═════════════════════╪═════════════════════════════╪═══════════╪════════════╡\n",
       "│ [9759966]           ┆ [9774461, 9775371, 9759966] ┆ [0, 0, 1] ┆ 3          │\n",
       "│ [9778661]           ┆ [9778661, 9777397, 9778682] ┆ [1, 0, 0] ┆ 3          │\n",
       "│ [9777856]           ┆ [9777856, 9778351, 9778448] ┆ [1, 0, 0] ┆ 3          │\n",
       "│ [9776566]           ┆ [9776566, 9776855, 9776808] ┆ [1, 0, 0] ┆ 3          │\n",
       "│ [9776553]           ┆ [9776449, 9776553, 9776570] ┆ [0, 1, 0] ┆ 3          │\n",
       "└─────────────────────┴─────────────────────────────┴───────────┴────────────┘"
      ]
     },
     "execution_count": 9,
     "metadata": {},
     "output_type": "execute_result"
    }
   ],
   "source": [
    "NPRATIO = 2\n",
    "df.select(DEFAULT_CLICKED_ARTICLES_COL, DEFAULT_INVIEW_ARTICLES_COL).pipe(\n",
    "    sampling_strategy_wu2019, npratio=NPRATIO, shuffle=False, with_replacement=True, seed=123\n",
    ").pipe(create_binary_labels_column, shuffle=True, seed=123).with_columns(pl.col(\"labels\").list.len().name.suffix(\"_len\")).head(5)"
   ]
  }
 ],
 "metadata": {
  "kernelspec": {
   "display_name": "dl2023",
   "language": "python",
   "name": "python3"
  },
  "language_info": {
   "codemirror_mode": {
    "name": "ipython",
    "version": 3
   },
   "file_extension": ".py",
   "mimetype": "text/x-python",
   "name": "python",
   "nbconvert_exporter": "python",
   "pygments_lexer": "ipython3",
   "version": "3.11.5"
  }
 },
 "nbformat": 4,
 "nbformat_minor": 2
}
