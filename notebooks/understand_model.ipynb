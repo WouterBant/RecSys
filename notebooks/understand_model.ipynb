{
 "cells": [
  {
   "cell_type": "code",
   "execution_count": 1,
   "metadata": {},
   "outputs": [],
   "source": [
    "import sys\n",
    "sys.path.append(\"clean/RecSys/code/\")  # for lightning env\n",
    "sys.path.append(\"../RecSys/code/\")  # locally\n",
    "\n",
    "import warnings\n",
    "warnings.filterwarnings(\"ignore\")  # going to depreciate warnings, provided conda env works"
   ]
  },
  {
   "cell_type": "code",
   "execution_count": 2,
   "metadata": {},
   "outputs": [],
   "source": [
    "%load_ext autoreload\n",
    "%autoreload 2"
   ]
  },
  {
   "cell_type": "code",
   "execution_count": 3,
   "metadata": {},
   "outputs": [],
   "source": [
    "from dataclasses import dataclass\n",
    "\n",
    "@dataclass\n",
    "class ArgsVal:\n",
    "    dataset: str = \"demo\"\n",
    "    batch_size: int = 1\n",
    "    num_workers: int = 4\n",
    "    T: int = 4  # number of previous articles to consider in the prompt\n",
    "    datafraction: float = 1.0  # how much of entire dataset to use\n",
    "    old: bool = True  # load checkpoints for model and not via modelwrapper\n",
    "    from_checkpoint: str = \"clean/model_0.0001.pth\"  # path to checkpoint locally\n",
    "    model: str = \"CG\"  # conditional generation\n",
    "    backbone: str = \"google/mt5-small\"\n",
    "    tokenizer: str = \"google/mt5-small\"\n",
    "    evaltrain: bool = False  # allows for evaluation on training set\n",
    "\n",
    "@dataclass\n",
    "class ArgsTrain(ArgsVal):\n",
    "    evaltrain: bool = True  # allows for evaluation on training set\n",
    "\n",
    "argsval = ArgsVal()\n",
    "argstrain = ArgsTrain()"
   ]
  },
  {
   "cell_type": "code",
   "execution_count": 4,
   "metadata": {},
   "outputs": [
    {
     "name": "stderr",
     "output_type": "stream",
     "text": [
      "You are using the default legacy behaviour of the <class 'transformers.models.t5.tokenization_t5.T5Tokenizer'>. This is expected, and simply means that the `legacy` (previous) behavior will be used so nothing changes for you. If you want to use the new behaviour, set `legacy=False`. This should only be set if you understand what it means, and thoroughly read the reason why this was added as explained in https://github.com/huggingface/transformers/pull/24565\n"
     ]
    },
    {
     "name": "stdout",
     "output_type": "stream",
     "text": [
      "<All keys matched successfully>\n",
      "<All keys matched successfully>\n"
     ]
    }
   ],
   "source": [
    "# load model\n",
    "from models.get_model import get_model\n",
    "\n",
    "model_val = get_model(argsval)\n",
    "model_train = get_model(argstrain)"
   ]
  },
  {
   "cell_type": "code",
   "execution_count": 5,
   "metadata": {},
   "outputs": [],
   "source": [
    "# choose the prompt to use\n",
    "# the provided checkpoints was trained using subtitles\n",
    "from prompt_templates import create_prompt_subtitles"
   ]
  },
  {
   "cell_type": "code",
   "execution_count": 7,
   "metadata": {},
   "outputs": [
    {
     "name": "stdout",
     "output_type": "stream",
     "text": [
      "clean  demo_data  main.py\n"
     ]
    }
   ],
   "source": [
    "!ls"
   ]
  },
  {
   "cell_type": "code",
   "execution_count": 8,
   "metadata": {},
   "outputs": [
    {
     "name": "stdout",
     "output_type": "stream",
     "text": [
      "/teamspace/studios/this_studio/clean/RecSys/code\n"
     ]
    }
   ],
   "source": [
    "# %cd clean/RecSys/code\n",
    "%cd ../code"
   ]
  },
  {
   "cell_type": "code",
   "execution_count": 9,
   "metadata": {},
   "outputs": [],
   "source": [
    "# create the dataset\n",
    "from dataloader import EkstraBladetDataset\n",
    "\n",
    "# split sets output form of model\n",
    "data_val = EkstraBladetDataset(argsval, create_prompt_subtitles, split=\"validation\")\n",
    "data_train = EkstraBladetDataset(argstrain, create_prompt_subtitles, split=\"validation\")"
   ]
  },
  {
   "cell_type": "code",
   "execution_count": 10,
   "metadata": {},
   "outputs": [
    {
     "data": {
      "text/plain": [
       "(dict, dict_keys(['prompts', 'targets', 'categories']))"
      ]
     },
     "execution_count": 10,
     "metadata": {},
     "output_type": "execute_result"
    }
   ],
   "source": [
    "example_data = next(iter(data_val))\n",
    "type(example_data), example_data.keys()"
   ]
  },
  {
   "cell_type": "code",
   "execution_count": 11,
   "metadata": {},
   "outputs": [
    {
     "data": {
      "text/plain": [
       "['En bruger har for nylig læst artikler: Andelen af elever med høj trivsel er faldet til 87,4 procent, Heftig debat om at leve uden sex. Mange - både kvinder og mæ, Fra 2026 skal Honda levere motorer til Aston Martin, som der, Planen lød blandt andet på at angribe fængselsbetjente med p, vil brugeren læse artiklen En kinesisk forsker har måske afsløret, at Kina tog teori om laboratorielæk mere alvorligt end hidtil antaget? (ja/nej)\\n',\n",
       " 'En bruger har for nylig læst artikler: Andelen af elever med høj trivsel er faldet til 87,4 procent, Heftig debat om at leve uden sex. Mange - både kvinder og mæ, Fra 2026 skal Honda levere motorer til Aston Martin, som der, Planen lød blandt andet på at angribe fængselsbetjente med p, vil brugeren læse artiklen Kursen på den svenske krone har stort set aldrig været så lav, som den er nu. Det kan danskerne drage nytte af. Ekstra Bladet har undersøgt, hvor de store besparelser kan findes? (ja/nej)\\n',\n",
       " 'En bruger har for nylig læst artikler: Andelen af elever med høj trivsel er faldet til 87,4 procent, Heftig debat om at leve uden sex. Mange - både kvinder og mæ, Fra 2026 skal Honda levere motorer til Aston Martin, som der, Planen lød blandt andet på at angribe fængselsbetjente med p, vil brugeren læse artiklen Milliardærklubben-værten og topøkonom Andreas Steno afslører, hvordan man på en smart måde kan forvalte sin formue midt i en krisetid? (ja/nej)\\n',\n",
       " \"En bruger har for nylig læst artikler: Andelen af elever med høj trivsel er faldet til 87,4 procent, Heftig debat om at leve uden sex. Mange - både kvinder og mæ, Fra 2026 skal Honda levere motorer til Aston Martin, som der, Planen lød blandt andet på at angribe fængselsbetjente med p, vil brugeren læse artiklen Mars kører stort forsøg i England, hvor herligheden skal i en miljøvenlig papirindpakning i stedet for plastik. Herhjemme må vi dog vente lidt endnu, men 'man tripper', siger Mars Danmark? (ja/nej)\\n\",\n",
       " 'En bruger har for nylig læst artikler: Andelen af elever med høj trivsel er faldet til 87,4 procent, Heftig debat om at leve uden sex. Mange - både kvinder og mæ, Fra 2026 skal Honda levere motorer til Aston Martin, som der, Planen lød blandt andet på at angribe fængselsbetjente med p, vil brugeren læse artiklen Claus Jensen har haft lysten til at være nøgen foran andre, siden han var tretten år. Han ved godt, at det kan være både grænseoverskridende og skræmmende for dem, han møder på sin vej - men det er ikke meningen. Claus vil ikke forskrække nogen. Han tænder bare på at blive set? (ja/nej)\\n',\n",
       " 'En bruger har for nylig læst artikler: Andelen af elever med høj trivsel er faldet til 87,4 procent, Heftig debat om at leve uden sex. Mange - både kvinder og mæ, Fra 2026 skal Honda levere motorer til Aston Martin, som der, Planen lød blandt andet på at angribe fængselsbetjente med p, vil brugeren læse artiklen Ivan Toney er blevet straffet af det engelske fodboldforbund for blandt andet at have spillet mod sit eget hold? (ja/nej)\\n']"
      ]
     },
     "execution_count": 11,
     "metadata": {},
     "output_type": "execute_result"
    }
   ],
   "source": [
    "example_data[\"prompts\"]  # all prompts for the inview articles"
   ]
  },
  {
   "cell_type": "code",
   "execution_count": 12,
   "metadata": {},
   "outputs": [
    {
     "data": {
      "text/plain": [
       "[0, 0, 0, 0, 0, 1]"
      ]
     },
     "execution_count": 12,
     "metadata": {},
     "output_type": "execute_result"
    }
   ],
   "source": [
    "example_data[\"targets\"]  # showing which article was clicked on (1)"
   ]
  },
  {
   "cell_type": "code",
   "execution_count": 13,
   "metadata": {},
   "outputs": [
    {
     "data": {
      "text/plain": [
       "['nyheder', 'nationen', 'sport', 'nyheder']"
      ]
     },
     "execution_count": 13,
     "metadata": {},
     "output_type": "execute_result"
    }
   ],
   "source": [
    "# previous clicked categories\n",
    "example_data[\"categories\"][:argsval.T]"
   ]
  },
  {
   "cell_type": "code",
   "execution_count": 14,
   "metadata": {},
   "outputs": [
    {
     "data": {
      "text/plain": [
       "['nyheder', 'forbrug', 'forbrug', 'underholdning', 'nyheder', 'sport']"
      ]
     },
     "execution_count": 14,
     "metadata": {},
     "output_type": "execute_result"
    }
   ],
   "source": [
    "# categories of inview articles\n",
    "example_data[\"categories\"][argsval.T:]"
   ]
  },
  {
   "cell_type": "code",
   "execution_count": 15,
   "metadata": {},
   "outputs": [],
   "source": [
    "# the model cannot process lists of strings\n",
    "# the collator tokenizes these inputs and creates tensors\n",
    "from collators import CollatorUnderstand\n",
    "from transformers import AutoTokenizer\n",
    "from torch.utils.data import DataLoader\n",
    "\n",
    "tokenizer = AutoTokenizer.from_pretrained(argsval.tokenizer)\n",
    "collator = CollatorUnderstand(tokenizer)\n",
    "dl_val = DataLoader(data_val, batch_size=1, collate_fn=collator, shuffle=False)\n",
    "dl_train = DataLoader(data_train, batch_size=1, collate_fn=collator, shuffle=False)"
   ]
  },
  {
   "cell_type": "code",
   "execution_count": 16,
   "metadata": {},
   "outputs": [
    {
     "name": "stderr",
     "output_type": "stream",
     "text": [
      "Asking to truncate to max_length but no maximum length is provided and the model has no predefined maximum length. Default to no truncation.\n"
     ]
    },
    {
     "data": {
      "text/plain": [
       "{'prompt_input_ids': tensor([[  642, 36428,   588,  ...,     0,     0,     0],\n",
       "         [  642, 36428,   588,  ...,     0,     0,     0],\n",
       "         [  642, 36428,   588,  ...,     0,     0,     0],\n",
       "         [  642, 36428,   588,  ...,     0,     0,     0],\n",
       "         [  642, 36428,   588,  ...,  2794,   271,     1],\n",
       "         [  642, 36428,   588,  ...,     0,     0,     0]]),\n",
       " 'prompt_attention_mask': tensor([[1, 1, 1,  ..., 0, 0, 0],\n",
       "         [1, 1, 1,  ..., 0, 0, 0],\n",
       "         [1, 1, 1,  ..., 0, 0, 0],\n",
       "         [1, 1, 1,  ..., 0, 0, 0],\n",
       "         [1, 1, 1,  ..., 1, 1, 1],\n",
       "         [1, 1, 1,  ..., 0, 0, 0]]),\n",
       " 'decoder_start': tensor([[ 432,  259,  275, 3810,    1],\n",
       "         [ 432,  259,  275, 3810,    1],\n",
       "         [ 432,  259,  275, 3810,    1],\n",
       "         [ 432,  259,  275, 3810,    1],\n",
       "         [ 432,  259,  275, 3810,    1],\n",
       "         [ 432,  259,  275, 3810,    1]]),\n",
       " 'targets': [0, 0, 0, 0, 0, 1],\n",
       " 'categories': ['nyheder',\n",
       "  'nationen',\n",
       "  'sport',\n",
       "  'nyheder',\n",
       "  'nyheder',\n",
       "  'forbrug',\n",
       "  'forbrug',\n",
       "  'underholdning',\n",
       "  'nyheder',\n",
       "  'sport'],\n",
       " 'prompts': ['En bruger har for nylig læst artikler: Andelen af elever med høj trivsel er faldet til 87,4 procent, Heftig debat om at leve uden sex. Mange - både kvinder og mæ, Fra 2026 skal Honda levere motorer til Aston Martin, som der, Planen lød blandt andet på at angribe fængselsbetjente med p, vil brugeren læse artiklen En kinesisk forsker har måske afsløret, at Kina tog teori om laboratorielæk mere alvorligt end hidtil antaget? (ja/nej)\\n',\n",
       "  'En bruger har for nylig læst artikler: Andelen af elever med høj trivsel er faldet til 87,4 procent, Heftig debat om at leve uden sex. Mange - både kvinder og mæ, Fra 2026 skal Honda levere motorer til Aston Martin, som der, Planen lød blandt andet på at angribe fængselsbetjente med p, vil brugeren læse artiklen Kursen på den svenske krone har stort set aldrig været så lav, som den er nu. Det kan danskerne drage nytte af. Ekstra Bladet har undersøgt, hvor de store besparelser kan findes? (ja/nej)\\n',\n",
       "  'En bruger har for nylig læst artikler: Andelen af elever med høj trivsel er faldet til 87,4 procent, Heftig debat om at leve uden sex. Mange - både kvinder og mæ, Fra 2026 skal Honda levere motorer til Aston Martin, som der, Planen lød blandt andet på at angribe fængselsbetjente med p, vil brugeren læse artiklen Milliardærklubben-værten og topøkonom Andreas Steno afslører, hvordan man på en smart måde kan forvalte sin formue midt i en krisetid? (ja/nej)\\n',\n",
       "  \"En bruger har for nylig læst artikler: Andelen af elever med høj trivsel er faldet til 87,4 procent, Heftig debat om at leve uden sex. Mange - både kvinder og mæ, Fra 2026 skal Honda levere motorer til Aston Martin, som der, Planen lød blandt andet på at angribe fængselsbetjente med p, vil brugeren læse artiklen Mars kører stort forsøg i England, hvor herligheden skal i en miljøvenlig papirindpakning i stedet for plastik. Herhjemme må vi dog vente lidt endnu, men 'man tripper', siger Mars Danmark? (ja/nej)\\n\",\n",
       "  'En bruger har for nylig læst artikler: Andelen af elever med høj trivsel er faldet til 87,4 procent, Heftig debat om at leve uden sex. Mange - både kvinder og mæ, Fra 2026 skal Honda levere motorer til Aston Martin, som der, Planen lød blandt andet på at angribe fængselsbetjente med p, vil brugeren læse artiklen Claus Jensen har haft lysten til at være nøgen foran andre, siden han var tretten år. Han ved godt, at det kan være både grænseoverskridende og skræmmende for dem, han møder på sin vej - men det er ikke meningen. Claus vil ikke forskrække nogen. Han tænder bare på at blive set? (ja/nej)\\n',\n",
       "  'En bruger har for nylig læst artikler: Andelen af elever med høj trivsel er faldet til 87,4 procent, Heftig debat om at leve uden sex. Mange - både kvinder og mæ, Fra 2026 skal Honda levere motorer til Aston Martin, som der, Planen lød blandt andet på at angribe fængselsbetjente med p, vil brugeren læse artiklen Ivan Toney er blevet straffet af det engelske fodboldforbund for blandt andet at have spillet mod sit eget hold? (ja/nej)\\n']}"
      ]
     },
     "execution_count": 16,
     "metadata": {},
     "output_type": "execute_result"
    }
   ],
   "source": [
    "# prompt_input_ids: tokenized prompts\n",
    "# prompt_attention_mask: make each element in the batch as long as the longest tokenized prompt, mask padding tokens\n",
    "# decoder_start: tokenized 'ja / nej' for CG model\n",
    "next(iter(dl_val))"
   ]
  },
  {
   "cell_type": "code",
   "execution_count": 17,
   "metadata": {},
   "outputs": [],
   "source": [
    "import numpy as np"
   ]
  },
  {
   "cell_type": "code",
   "execution_count": 18,
   "metadata": {},
   "outputs": [],
   "source": [
    "it_val = iter(dl_val)"
   ]
  },
  {
   "cell_type": "code",
   "execution_count": 20,
   "metadata": {},
   "outputs": [
    {
     "data": {
      "text/plain": [
       "(array([0.51089793, 0.06474407, 0.03934271, 0.16496603, 0.62189466,\n",
       "        0.02306686, 0.3466548 ], dtype=float32),\n",
       " array([0, 0, 0, 0, 0, 0, 1]),\n",
       " ['En bruger har for nylig læst artikler: Andelen af elever med høj trivsel er faldet til 87,4 procent, Heftig debat om at leve uden sex. Mange - både kvinder og mæ, Fra 2026 skal Honda levere motorer til Aston Martin, som der, Planen lød blandt andet på at angribe fængselsbetjente med p, vil brugeren læse artiklen ? (ja/nej)\\n',\n",
       "  'En bruger har for nylig læst artikler: Andelen af elever med høj trivsel er faldet til 87,4 procent, Heftig debat om at leve uden sex. Mange - både kvinder og mæ, Fra 2026 skal Honda levere motorer til Aston Martin, som der, Planen lød blandt andet på at angribe fængselsbetjente med p, vil brugeren læse artiklen Korsfæstelser, afhuggede hoveder og krigshandlinger var i årevis dagligdag for to mænd, som er idømt lange straffe for landsforræderi. Men de er ikke de eneste i familien, der er dømt for at støtte Islamisk Stat? (ja/nej)\\n',\n",
       "  'En bruger har for nylig læst artikler: Andelen af elever med høj trivsel er faldet til 87,4 procent, Heftig debat om at leve uden sex. Mange - både kvinder og mæ, Fra 2026 skal Honda levere motorer til Aston Martin, som der, Planen lød blandt andet på at angribe fængselsbetjente med p, vil brugeren læse artiklen Milliardærklubben-værten og topøkonom Andreas Steno afslører, hvordan man på en smart måde kan forvalte sin formue midt i en krisetid? (ja/nej)\\n',\n",
       "  'En bruger har for nylig læst artikler: Andelen af elever med høj trivsel er faldet til 87,4 procent, Heftig debat om at leve uden sex. Mange - både kvinder og mæ, Fra 2026 skal Honda levere motorer til Aston Martin, som der, Planen lød blandt andet på at angribe fængselsbetjente med p, vil brugeren læse artiklen De Konservatives Pernille Weiss kan ikke genkende ansattes beskrivelse af hendes adfærd? (ja/nej)\\n',\n",
       "  'En bruger har for nylig læst artikler: Andelen af elever med høj trivsel er faldet til 87,4 procent, Heftig debat om at leve uden sex. Mange - både kvinder og mæ, Fra 2026 skal Honda levere motorer til Aston Martin, som der, Planen lød blandt andet på at angribe fængselsbetjente med p, vil brugeren læse artiklen Skattestyrelsen har haft gang i en kæmpe aktion i Herlev, hvor der er blevet beslaglagt alt fra cigaretter til kopimærketøj? (ja/nej)\\n',\n",
       "  'En bruger har for nylig læst artikler: Andelen af elever med høj trivsel er faldet til 87,4 procent, Heftig debat om at leve uden sex. Mange - både kvinder og mæ, Fra 2026 skal Honda levere motorer til Aston Martin, som der, Planen lød blandt andet på at angribe fængselsbetjente med p, vil brugeren læse artiklen Claus Jensen har haft lysten til at være nøgen foran andre, siden han var tretten år. Han ved godt, at det kan være både grænseoverskridende og skræmmende for dem, han møder på sin vej - men det er ikke meningen. Claus vil ikke forskrække nogen. Han tænder bare på at blive set? (ja/nej)\\n',\n",
       "  \"En bruger har for nylig læst artikler: Andelen af elever med høj trivsel er faldet til 87,4 procent, Heftig debat om at leve uden sex. Mange - både kvinder og mæ, Fra 2026 skal Honda levere motorer til Aston Martin, som der, Planen lød blandt andet på at angribe fængselsbetjente med p, vil brugeren læse artiklen 'Good Morning Britain' havde tirsdag morgen debat om nøgenhed i det offentlige rum. Derfor var morgenprogrammets gæst nøgen, men det var ikke alle seerne, der var imponerede over den gimmick? (ja/nej)\\n\"],\n",
       " array([0, 0, 1, 0, 0, 0, 0]))"
      ]
     },
     "execution_count": 20,
     "metadata": {},
     "output_type": "execute_result"
    }
   ],
   "source": [
    "example = next(it_val)\n",
    "scores = model_val.validation_step(example).cpu().numpy()\n",
    "targets = np.array(example[\"targets\"])\n",
    "prompts = example[\"prompts\"]\n",
    "\n",
    "# targets ranked according to model scores\n",
    "order = np.argsort(scores)[::-1]\n",
    "score_ranked_targets = np.take(targets, order)\n",
    "scores, targets, prompts, score_ranked_targets"
   ]
  },
  {
   "cell_type": "code",
   "execution_count": 21,
   "metadata": {},
   "outputs": [],
   "source": [
    "it_train = iter(dl_train)"
   ]
  },
  {
   "cell_type": "code",
   "execution_count": 22,
   "metadata": {},
   "outputs": [
    {
     "data": {
      "text/plain": [
       "(array([0.49515206, 0.5216051 , 0.42004386, 0.66117924, 0.54520535,\n",
       "        0.71452135, 0.5508101 , 0.03665067, 0.5397415 , 0.2359618 ,\n",
       "        0.7062714 ], dtype=float32),\n",
       " array([0, 0, 0, 0, 0, 0, 0, 0, 0, 0, 1]),\n",
       " ['En bruger har for nylig læst artikler: Anklagemyndighed ønsker grundlaget for fængsling udvidet i s, Politiet skred onsdag aften til anholdelse af en mand i Fæll, Konen efter afdøde Jørgen Haugen Sørensen, der var en af lan, Konen efter afdøde Jørgen Haugen Sørensen, der var en af lan, vil brugeren læse artiklen David Beckham havde både gave og rosende ord med til kong Charles, da de to forleden mødtes til en modebegivenhed i London? (ja/nej)\\n',\n",
       "  'En bruger har for nylig læst artikler: Anklagemyndighed ønsker grundlaget for fængsling udvidet i s, Politiet skred onsdag aften til anholdelse af en mand i Fæll, Konen efter afdøde Jørgen Haugen Sørensen, der var en af lan, Konen efter afdøde Jørgen Haugen Sørensen, der var en af lan, vil brugeren læse artiklen Går turen sydpå i løbet af sommeren? Så husk at undersøg, om du har det rette mobilabonnement til udlandsrejsen? (ja/nej)\\n',\n",
       "  'En bruger har for nylig læst artikler: Anklagemyndighed ønsker grundlaget for fængsling udvidet i s, Politiet skred onsdag aften til anholdelse af en mand i Fæll, Konen efter afdøde Jørgen Haugen Sørensen, der var en af lan, Konen efter afdøde Jørgen Haugen Sørensen, der var en af lan, vil brugeren læse artiklen Præsidenten for Comanches MC i Aalborg har i årevis været en del af det organiserede kriminelle miljø? (ja/nej)\\n',\n",
       "  'En bruger har for nylig læst artikler: Anklagemyndighed ønsker grundlaget for fængsling udvidet i s, Politiet skred onsdag aften til anholdelse af en mand i Fæll, Konen efter afdøde Jørgen Haugen Sørensen, der var en af lan, Konen efter afdøde Jørgen Haugen Sørensen, der var en af lan, vil brugeren læse artiklen Davit Khocholava gav den fuld skrue, da han under den vilde kamp mod AGF stod midt på stemningstribunen Sektion 12? (ja/nej)\\n',\n",
       "  \"En bruger har for nylig læst artikler: Anklagemyndighed ønsker grundlaget for fængsling udvidet i s, Politiet skred onsdag aften til anholdelse af en mand i Fæll, Konen efter afdøde Jørgen Haugen Sørensen, der var en af lan, Konen efter afdøde Jørgen Haugen Sørensen, der var en af lan, vil brugeren læse artiklen F-16-jagerfly har i lang tid stået højt på Zelenskyjs ønskeseddel. Fredag så en 'F-16-koalition' så dagens lys - men danske bidrag bliver nok begrænset, lyder det fra ekspert? (ja/nej)\\n\",\n",
       "  'En bruger har for nylig læst artikler: Anklagemyndighed ønsker grundlaget for fængsling udvidet i s, Politiet skred onsdag aften til anholdelse af en mand i Fæll, Konen efter afdøde Jørgen Haugen Sørensen, der var en af lan, Konen efter afdøde Jørgen Haugen Sørensen, der var en af lan, vil brugeren læse artiklen Engang var var netop det kulhydrat en vigtig nøgle til menneskets overlevelse. Men ikke længere? (ja/nej)\\n',\n",
       "  'En bruger har for nylig læst artikler: Anklagemyndighed ønsker grundlaget for fængsling udvidet i s, Politiet skred onsdag aften til anholdelse af en mand i Fæll, Konen efter afdøde Jørgen Haugen Sørensen, der var en af lan, Konen efter afdøde Jørgen Haugen Sørensen, der var en af lan, vil brugeren læse artiklen Realitykendissen vender, efter en længere pause fra tv, tilbage til skærmen til efteråret? (ja/nej)\\n',\n",
       "  \"En bruger har for nylig læst artikler: Anklagemyndighed ønsker grundlaget for fængsling udvidet i s, Politiet skred onsdag aften til anholdelse af en mand i Fæll, Konen efter afdøde Jørgen Haugen Sørensen, der var en af lan, Konen efter afdøde Jørgen Haugen Sørensen, der var en af lan, vil brugeren læse artiklen Der skal være plads til alle slags kroppe - de naturlige såvel som de 'unaturlige'. Sådan lyder opfordringen fra en række modige kvinder, der hylder deres plastikoperationer? (ja/nej)\\n\",\n",
       "  'En bruger har for nylig læst artikler: Anklagemyndighed ønsker grundlaget for fængsling udvidet i s, Politiet skred onsdag aften til anholdelse af en mand i Fæll, Konen efter afdøde Jørgen Haugen Sørensen, der var en af lan, Konen efter afdøde Jørgen Haugen Sørensen, der var en af lan, vil brugeren læse artiklen Brandvæsnet er stadig i gang med at slukke en brand ved affaldssorteringen i Roskildeområdet? (ja/nej)\\n',\n",
       "  'En bruger har for nylig læst artikler: Anklagemyndighed ønsker grundlaget for fængsling udvidet i s, Politiet skred onsdag aften til anholdelse af en mand i Fæll, Konen efter afdøde Jørgen Haugen Sørensen, der var en af lan, Konen efter afdøde Jørgen Haugen Sørensen, der var en af lan, vil brugeren læse artiklen Verden skal med en ny pandemiaftale være bedre rustet næste gang en pandemi rammer, lyder det fra Ghebreyesus? (ja/nej)\\n',\n",
       "  \"En bruger har for nylig læst artikler: Anklagemyndighed ønsker grundlaget for fængsling udvidet i s, Politiet skred onsdag aften til anholdelse af en mand i Fæll, Konen efter afdøde Jørgen Haugen Sørensen, der var en af lan, Konen efter afdøde Jørgen Haugen Sørensen, der var en af lan, vil brugeren læse artiklen Rød- og gulørede terrapiner er kommet på EU's dødsliste. Det betyder, at de ikke må slippes ud i naturen og i stedet skal aflives? (ja/nej)\\n\"],\n",
       " array([0, 1, 0, 0, 0, 0, 0, 0, 0, 0, 0]))"
      ]
     },
     "execution_count": 22,
     "metadata": {},
     "output_type": "execute_result"
    }
   ],
   "source": [
    "example = next(it_train)\n",
    "scores = model_train.validation_step(example).cpu().numpy()\n",
    "targets = np.array(example[\"targets\"])\n",
    "prompts = example[\"prompts\"]\n",
    "\n",
    "# targets ranked according to model scores\n",
    "order = np.argsort(scores)[::-1]\n",
    "score_ranked_targets = np.take(targets, order)\n",
    "scores, targets, prompts, score_ranked_targets"
   ]
  }
 ],
 "metadata": {
  "language_info": {
   "name": "python"
  }
 },
 "nbformat": 4,
 "nbformat_minor": 2
}
