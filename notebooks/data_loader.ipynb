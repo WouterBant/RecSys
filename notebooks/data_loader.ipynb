{
 "cells": [
  {
   "cell_type": "code",
   "execution_count": 129,
   "metadata": {},
   "outputs": [],
   "source": [
    "import torch\n",
    "from torch.utils.data import Dataset, DataLoader\n",
    "from datasets import load_dataset\n",
    "import random\n",
    "import polars as pl\n",
    "from transformers import AutoTokenizer, AutoModelForSeq2SeqLM"
   ]
  },
  {
   "cell_type": "code",
   "execution_count": 161,
   "metadata": {},
   "outputs": [
    {
     "name": "stderr",
     "output_type": "stream",
     "text": [
      "/home/wouter/miniconda3/envs/dl2023/lib/python3.11/site-packages/huggingface_hub/file_download.py:1132: FutureWarning: `resume_download` is deprecated and will be removed in version 1.0.0. Downloads always resume when possible. If you want to force a new download, use `force_download=True`.\n",
      "  warnings.warn(\n",
      "/home/wouter/miniconda3/envs/dl2023/lib/python3.11/site-packages/transformers/convert_slow_tokenizer.py:473: UserWarning: The sentencepiece tokenizer that you are converting to a fast tokenizer uses the byte fallback option which is not implemented in the fast tokenizers. In practice this means that the fast version of the tokenizer can produce unknown tokens whereas the sentencepiece version would have converted these unknown tokens into a sequence of byte tokens matching the original piece of text.\n",
      "  warnings.warn(\n"
     ]
    }
   ],
   "source": [
    "class EkstraBladetDataset(Dataset):\n",
    "\n",
    "    def __init__(self, create_prompt, tokenizer, split=\"train\", T=5):\n",
    "        \n",
    "        # Download the dataset from huggingface\n",
    "        self.behaviors = load_dataset('Wouter01/RecSys_demo', 'behaviors', cache_dir=\"demo_data\")[split]\n",
    "        self.articles = load_dataset('Wouter01/RecSys_demo', 'articles', cache_dir=\"demo_data\")[split].to_pandas()\n",
    "        self.history = load_dataset('Wouter01/RecSys_demo', 'history', cache_dir=\"demo_data\")[split].to_pandas()\n",
    "\n",
    "        # Set fast lookup for identifier keys\n",
    "        self.history.set_index(\"user_id\", inplace=True)\n",
    "        self.articles.set_index(\"article_id\", inplace=True)\n",
    "\n",
    "        self.T = T  # Number of previous clicked articles to consider\n",
    "        self.create_prompt = create_prompt  # Function to create a prompt from the data\n",
    "        self.tokenize = tokenizer\n",
    "\n",
    "    def __len__(self):\n",
    "        return len(self.behaviors)\n",
    "\n",
    "    def __getitem__(self, idx):\n",
    "        # Every item consits of a positive and negative sample\n",
    "        behavior = self.behaviors[idx]\n",
    "\n",
    "        # Pick random positive and negative samples\n",
    "        clicked_articles = behavior[\"article_ids_clicked\"]\n",
    "        unclicked_articles = [article for article in behavior[\"article_ids_inview\"] if article not in clicked_articles]\n",
    "        pos_sample = random.choice(clicked_articles)\n",
    "        neg_sample = random.choice(unclicked_articles)\n",
    "\n",
    "        # Get the history of the user\n",
    "        user_id = behavior[\"user_id\"]\n",
    "        history = self.history.loc[user_id]\n",
    "\n",
    "        # Get the T latest clicked articles by the user\n",
    "        old_clicks = history[\"article_id_fixed\"]\n",
    "        old_clicks = old_clicks[-min(len(old_clicks), self.T):]\n",
    "\n",
    "        # Get the article information\n",
    "        titles, subtitles = [], []  # last two are pos and neg samples\n",
    "        for article_id in old_clicks.tolist() + [pos_sample, neg_sample]:\n",
    "            article = self.articles.loc[article_id]\n",
    "            titles.append(article[\"title\"])\n",
    "            subtitles.append(article[\"subtitle\"])\n",
    "\n",
    "        assert len(titles) == self.T + 2 and len(titles) == len(subtitles)\n",
    "        \n",
    "        title_pos, title_neg = titles[-2], titles[-1]\n",
    "        subtitle_pos, subtitle_neg = subtitles[-2], subtitles[-1]\n",
    "        titles, subtitles = titles[:-2], subtitles[:-2]\n",
    "\n",
    "        # Create the prompts\n",
    "        pos_prompt = self.create_prompt(titles, subtitles, title_pos, subtitle_pos)\n",
    "        neg_prompt = self.create_prompt(titles, subtitles, title_neg, subtitle_neg)\n",
    "\n",
    "        return (self.tokenize(pos_prompt, padding='max_length', max_length=2048, truncation=True, return_tensors='pt'), \n",
    "                self.tokenize(neg_prompt, padding='max_length', max_length=2048, truncation=True, return_tensors='pt'))\n",
    "    \n",
    "def create_prompt(titles, subtitles, title, subtitle):\n",
    "    prompt = f\"Given the following titles and subtitles of previously read articles:\\n\"\n",
    "    for i, (t, s) in enumerate(zip(titles, subtitles)):\n",
    "        prompt += f\"Article {i+1}:\\nTitle: {t}\\nSubtitle: {s}\\n\\n\"\n",
    "    prompt += f\"Is the user likely to click on an articles with title {title} and subtitle {subtitle}? (yes/no)\\n\"\n",
    "    return prompt\n",
    "\n",
    "    \n",
    "tokenizer = AutoTokenizer.from_pretrained(\"google/mt5-base\", model_max_length=2048)\n",
    "\n",
    "data = EkstraBladetDataset(create_prompt, tokenizer)\n",
    "\n"
   ]
  },
  {
   "cell_type": "code",
   "execution_count": 170,
   "metadata": {},
   "outputs": [],
   "source": [
    "def collate_fn(batch):\n",
    "    tokenized_pos = [prompt[0] for prompt in batch]\n",
    "    tokenized_neg = [prompt[1] for prompt in batch]\n",
    "\n",
    "    pos_input_ids = torch.cat([item['input_ids'] for item in tokenized_pos], dim=0)\n",
    "    pos_attention_mask = torch.cat([item['attention_mask'] for item in tokenized_pos], dim=0)\n",
    "\n",
    "    neg_input_ids = torch.cat([item['input_ids'] for item in tokenized_neg], dim=0)\n",
    "    neg_attention_mask = torch.cat([item['attention_mask'] for item in tokenized_neg], dim=0)\n",
    "\n",
    "    return {\n",
    "        'pos_input_ids': pos_input_ids,\n",
    "        'pos_attention_mask': pos_attention_mask,\n",
    "        'neg_input_ids': neg_input_ids,\n",
    "        'neg_attention_mask': neg_attention_mask\n",
    "    }"
   ]
  },
  {
   "cell_type": "code",
   "execution_count": 172,
   "metadata": {},
   "outputs": [],
   "source": [
    "data_loader = DataLoader(data, batch_size=64, collate_fn=collate_fn, shuffle=True)"
   ]
  },
  {
   "cell_type": "code",
   "execution_count": 174,
   "metadata": {},
   "outputs": [
    {
     "name": "stdout",
     "output_type": "stream",
     "text": [
      "torch.Size([64, 4096]) torch.Size([64, 4096])\n"
     ]
    }
   ],
   "source": [
    "for batch in data_loader:\n",
    "    print(batch['pos_input_ids'].shape, batch['neg_input_ids'].shape)\n",
    "    break"
   ]
  },
  {
   "cell_type": "code",
   "execution_count": null,
   "metadata": {},
   "outputs": [],
   "source": [
    "from transformers import AutoTokenizer\n",
    "\n",
    "# Initialize the tokenizer\n",
    "tokenizer = AutoTokenizer.from_pretrained('your-model-name')\n",
    "\n",
    "class EkstraBladetDataset(Dataset):\n",
    "    def __init__(self, create_prompt, tokenizer, split=\"train\", T=5, n_pairs=1):\n",
    "        self.behaviors = load_dataset('Wouter01/RecSys_demo', 'behaviors', cache_dir=\"demo_data\")[split]\n",
    "        self.articles = load_dataset('Wouter01/RecSys_demo', 'articles', cache_dir=\"demo_data\")[split].to_pandas()\n",
    "        self.history = load_dataset('Wouter01/RecSys_demo', 'history', cache_dir=\"demo_data\")[split].to_pandas()\n",
    "        self.history.set_index(\"user_id\", inplace=True)\n",
    "        self.articles.set_index(\"article_id\", inplace=True)\n",
    "        self.T = T\n",
    "        self.n_pairs = n_pairs\n",
    "        self.create_prompt = create_prompt\n",
    "        self.tokenizer = tokenizer\n",
    "\n",
    "    def __len__(self):\n",
    "        return len(self.behaviors)\n",
    "\n",
    "    def __getitem__(self, idx):\n",
    "        behavior = self.behaviors[idx]\n",
    "        clicked_articles = behavior[\"article_ids_clicked\"]\n",
    "        unclicked_articles = [article for article in behavior[\"article_ids_inview\"] if article not in clicked_articles]\n",
    "        user_id = behavior[\"user_id\"]\n",
    "        history = self.history.loc[user_id]\n",
    "        old_clicks = history[\"article_id_fixed\"]\n",
    "        old_clicks = old_clicks[-min(len(old_clicks), self.T):]\n",
    "\n",
    "        pos_prompts, neg_prompts = [], []\n",
    "\n",
    "        for _ in range(self.n_pairs):\n",
    "            pos_sample = random.choice(clicked_articles)\n",
    "            neg_sample = random.choice(unclicked_articles)\n",
    "            titles, subtitles = [], []\n",
    "\n",
    "            for article_id in old_clicks.tolist() + [pos_sample, neg_sample]:\n",
    "                article = self.articles.loc[article_id]\n",
    "                titles.append(article[\"title\"])\n",
    "                subtitles.append(article[\"subtitle\"])\n",
    "\n",
    "            assert len(titles) == self.T + 2 and len(titles) == len(subtitles)\n",
    "\n",
    "            title_pos, title_neg = titles[-2], titles[-1]\n",
    "            subtitle_pos, subtitle_neg = subtitles[-2], subtitles[-1]\n",
    "            titles, subtitles = titles[:-2], subtitles[:-2]\n",
    "\n",
    "            pos_prompt = self.create_prompt(titles, subtitles, title_pos, subtitle_pos)\n",
    "            neg_prompt = self.create_prompt(titles, subtitles, title_neg, subtitle_neg)\n",
    "\n",
    "            pos_prompts.append(pos_prompt)\n",
    "            neg_prompts.append(neg_prompt)\n",
    "\n",
    "        return pos_prompts, neg_prompts\n",
    "\n",
    "    def tokenize_prompt(self, prompt):\n",
    "        return self.tokenizer(prompt, padding='max_length', truncation=True, return_tensors='pt')\n",
    "\n",
    "def custom_collate_fn(batch):\n",
    "    pos_prompts = [item[0] for item in batch]\n",
    "    neg_prompts = [item[1] for item in batch]\n",
    "\n",
    "    pos_prompts = [prompt for sublist in pos_prompts for prompt in sublist]\n",
    "    neg_prompts = [prompt for sublist in neg_prompts for prompt in sublist]\n",
    "\n",
    "    tokenized_pos = [tokenizer(prompt, padding='max_length', truncation=True, return_tensors='pt') for prompt in pos_prompts]\n",
    "    tokenized_neg = [tokenizer(prompt, padding='max_length', truncation=True, return_tensors='pt') for prompt in neg_prompts]\n",
    "\n",
    "    pos_input_ids = torch.cat([item['input_ids'] for item in tokenized_pos], dim=0)\n",
    "    pos_attention_mask = torch.cat([item['attention_mask'] for item in tokenized_pos], dim=0)\n",
    "\n",
    "    neg_input_ids = torch.cat([item['input_ids'] for item in tokenized_neg], dim=0)\n",
    "    neg_attention_mask = torch.cat([item['attention_mask'] for item in tokenized_neg], dim=0)\n",
    "\n",
    "    return {\n",
    "        'pos_input_ids': pos_input_ids,\n",
    "        'pos_attention_mask': pos_attention_mask,\n",
    "        'neg_input_ids': neg_input_ids,\n",
    "        'neg_attention_mask': neg_attention_mask\n",
    "    }\n",
    "\n",
    "data = EkstraBladetDataset(create_prompt, tokenizer, n_pairs=5)\n",
    "data_loader = DataLoader(data, batch_size=100, shuffle=True, collate_fn=custom_collate_fn)\n",
    "\n",
    "# Example usage\n",
    "for batch in data_loader:\n",
    "    print(batch['pos_input_ids'].shape, batch['neg_input_ids'].shape)\n"
   ]
  },
  {
   "cell_type": "code",
   "execution_count": 126,
   "metadata": {},
   "outputs": [
    {
     "name": "stdout",
     "output_type": "stream",
     "text": [
      "{'pos_prompt': [\"Given the following titles and subtitles of previously read articles:\\nArticle 1:\\nTitle: Kvinde dræbt og kørt i vandet: Nu starter retssag mod kæresten\\nSubtitle: Januar sidste år blev en 24-årig kvinde fundet dræbt i en bil, der var kørt i vandet ved Amager Strandpark. Onsdag begynder retssagen mod drabsofferets 25-årige kæreste\\n\\nArticle 2:\\nTitle: Megan Fox indrømmer: Har aldrig elsket sin krop\\nSubtitle: Skuespilleren viser sin krop frem som badetøjsmodel for Sports Illustrated, men hun har ikke et ukompliceret forhold til den\\n\\nArticle 3:\\nTitle: Slår op med kæresten\\nSubtitle: Billie Eilish er nu single igen\\n\\nArticle 4:\\nTitle: Bortført pige fundet efter seks år: Genkendt i Netflix-serie\\nSubtitle: En seer af Netflix-serien 'Unsolved Mysteries' har nu medvirket til, at en forsvunden pige er blevet genforenet med sin far\\n\\nArticle 5:\\nTitle: Modtaget til stående klapsalver i Cannes\\nSubtitle: Da Johnny Depp gjorde comeback ved international filmfestival, var det til store jubelbrøl\\n\\nIs the user likely to click on an articles with title Brand i større villa and subtitle En større villa er brudt i brand i Haderslev? (yes/no)\\n\", \"Given the following titles and subtitles of previously read articles:\\nArticle 1:\\nTitle: Lakerede bil i vaskehal: Skrid\\nSubtitle: En bil, et par bøtter maling og tre personer, indtog vaskehallen på OK-tanken i Haderslev. Så kom politiet\\n\\nArticle 2:\\nTitle: Afslører detaljer om serie-comeback: Tager livet af konen\\nSubtitle: John Cleese skriver netop nu på manuskriptet til en ny omgang 'Halløj på badehotellet' efter 44 års pause, og det inkluderer ikke hans højtråbende seriekone Sybil. Det er nemlig planen, at hun skal dø\\n\\nArticle 3:\\nTitle: Kvalt og kørt i vandet: 25-årig erkender drab på kæreste\\nSubtitle: 25-årig mand erkender at have dræbt sin 24-årige kæreste og kørt hende i vandet på Amager Strand i januar sidste år\\n\\nArticle 4:\\nTitle: Se Jokkes bilag: Prins Light\\nSubtitle: Luksuslivet er slut. Bruger penge på Easyjet, sandkage og cola\\n\\nArticle 5:\\nTitle: Formodet serielurer anholdt\\nSubtitle: En 30-årig mand er anholdt for en række blufærdighedskrænkelser i Slagelse. Politiet vil nu undersøge, om han har forbindelse til lignende sager\\n\\nIs the user likely to click on an articles with title Nu sker det: Sommerdag på vej and subtitle Mandag bliver med stor sandsynlighed årets første sommerdag i den østlige del af Danmark? (yes/no)\\n\", \"Given the following titles and subtitles of previously read articles:\\nArticle 1:\\nTitle: Smitten hærger i Giroen: - Et kæmpe chok\\nSubtitle: Remco Evenepoels pludselige exit fra Giro d’Italia som følge af en positiv coronatest er en trist påmindelse om, at virussen fortsat har store konsekvenser for cykelsporten\\n\\nArticle 2:\\nTitle: - Jeg har aldrig været ude for noget lignende\\nSubtitle: De tidligere ejere af Hørebil - også kendt som Sinitone - søgte om offentlig tilskud, selvom de ikke havde solgt et høreapparat, fortæller ny direktør nu til Ekstra Bladet\\n\\nArticle 3:\\nTitle: Her er inflationen over 100 procent: Hæver renten til absurd niveau\\nSubtitle: I Argentina er den ledende rente blevet hævet til 97 procent for at tackle den buldrende inflation, som plager landet\\n\\nArticle 4:\\nTitle: Blev afbrudt under sex: Gav forbipasserende lussing\\nSubtitle: Et par blev afbrudt, imens de havde sex i en gyde lørdag nat. Det fik kvinden til at gå amok\\n\\nArticle 5:\\nTitle: Yankie-røveri: Kvinde dømt\\nSubtitle: En 54-årig kvinde skal en tur bag tremmer, fordi hun ikke ville give afkald på en stjålet Yankie-bar til under fire kroner\\n\\nIs the user likely to click on an articles with title 'Englen fra Alkmaar': Jeg er ingen helt and subtitle Chris Knoll, også kendt som 'Knollsy', blev torsdag hyldet for at have forsvaret West Ham-tribunen mod aggressive hooligans. Nu fortæller han om episoden? (yes/no)\\n\", \"Given the following titles and subtitles of previously read articles:\\nArticle 1:\\nTitle: 290 minkavlere uden mink står til at få erstatning\\nSubtitle: De minkavlere, som ikke havde mink, da erhvervet blev lukket, har ifølge aftale ret til erstatning alligevel\\n\\nArticle 2:\\nTitle: - Jeg har aldrig været ude for noget lignende\\nSubtitle: De tidligere ejere af Hørebil - også kendt som Sinitone - søgte om offentlig tilskud, selvom de ikke havde solgt et høreapparat, fortæller ny direktør nu til Ekstra Bladet\\n\\nArticle 3:\\nTitle: Bortført pige fundet efter seks år: Genkendt i Netflix-serie\\nSubtitle: En seer af Netflix-serien 'Unsolved Mysteries' har nu medvirket til, at en forsvunden pige er blevet genforenet med sin far\\n\\nArticle 4:\\nTitle: Har du råd? Sænker prisen på sit 'slot' med millioner\\nSubtitle: Konen efter afdøde Jørgen Haugen Sørensen, der var en af landets mest betydningsfulde billedhuggere, har sat ægteparrets fælles gigantiske hus i Italien på markedet.\\n\\nArticle 5:\\nTitle: Afsløring: Brev var tikkende bombe under Kofod\\nSubtitle: I unåde:\\n\\nIs the user likely to click on an articles with title Benhårde 'Bachelor'-piger: Drop det! and subtitle Hvilket tidspunkt er det bedst at tage på date på? Og hvad skal man lave? Tre tidligere 'Bachelor'-deltagere giver deres bedste råd til at date? (yes/no)\\n\", \"Given the following titles and subtitles of previously read articles:\\nArticle 1:\\nTitle: Djokovic inden møde med Rune: Han minder om mig\\nSubtitle: Novak Djokovic ser noget af sig selv i Holger Rune. Onsdag mødes de i kvartfinalen i Italian Open\\n\\nArticle 2:\\nTitle: Uventet hjælp til Holger: - Han skal holdes oppe hele natten\\nSubtitle: Holger Rune kan se frem til uventet hjælp fra Mikael Bertelsen i forhold til braget mod Novak Djokovic onsdag\\n\\nArticle 3:\\nTitle: Prins Harry og hertuginde Meghan jagtet af pressefotograf\\nSubtitle: Ifølge prins Harrys talsperson kunne biljagten være endt katastrofalt\\n\\nArticle 4:\\nTitle: Kørte kvinde ihjel med 251 km/t.: Nu er der nyt om straffen\\nSubtitle: Tilbage i 2021 kørte den daværende Las Vegas Raiders-spiller Henry Ruggs III en kvinde og hendes hund ihjel. Onsdag kom der nyt i retssagen, og Ruggs kan se frem til mellem tre og ti års fængsel\\n\\nArticle 5:\\nTitle: Prisvindende dansk film er blevet suspenderet i Rusland\\nSubtitle: Filmen 'Holy Spider' nåede at blive vist i russiske biografer 11. maj, inden tilladelsen blev trukket tilbage\\n\\nIs the user likely to click on an articles with title Mikael Uhre køber bolig i Danmark and subtitle Den tidligere Brøndby-bomber har købt bolig i 'Smilets by'? (yes/no)\\n\"], 'neg_prompt': ['Given the following titles and subtitles of previously read articles:\\nArticle 1:\\nTitle: Kvinde dræbt og kørt i vandet: Nu starter retssag mod kæresten\\nSubtitle: Januar sidste år blev en 24-årig kvinde fundet dræbt i en bil, der var kørt i vandet ved Amager Strandpark. Onsdag begynder retssagen mod drabsofferets 25-årige kæreste\\n\\nArticle 2:\\nTitle: Megan Fox indrømmer: Har aldrig elsket sin krop\\nSubtitle: Skuespilleren viser sin krop frem som badetøjsmodel for Sports Illustrated, men hun har ikke et ukompliceret forhold til den\\n\\nArticle 3:\\nTitle: Slår op med kæresten\\nSubtitle: Billie Eilish er nu single igen\\n\\nArticle 4:\\nTitle: Bortført pige fundet efter seks år: Genkendt i Netflix-serie\\nSubtitle: En seer af Netflix-serien \\'Unsolved Mysteries\\' har nu medvirket til, at en forsvunden pige er blevet genforenet med sin far\\n\\nArticle 5:\\nTitle: Modtaget til stående klapsalver i Cannes\\nSubtitle: Da Johnny Depp gjorde comeback ved international filmfestival, var det til store jubelbrøl\\n\\nIs the user likely to click on an articles with title Dansk olieselskab tjente styrtende i 2022 and subtitle På uroligt marked havde danske Monjasa det \"stærkeste år nogensinde\" med milliardoverskud og stor omsætning? (yes/no)\\n', \"Given the following titles and subtitles of previously read articles:\\nArticle 1:\\nTitle: Lakerede bil i vaskehal: Skrid\\nSubtitle: En bil, et par bøtter maling og tre personer, indtog vaskehallen på OK-tanken i Haderslev. Så kom politiet\\n\\nArticle 2:\\nTitle: Afslører detaljer om serie-comeback: Tager livet af konen\\nSubtitle: John Cleese skriver netop nu på manuskriptet til en ny omgang 'Halløj på badehotellet' efter 44 års pause, og det inkluderer ikke hans højtråbende seriekone Sybil. Det er nemlig planen, at hun skal dø\\n\\nArticle 3:\\nTitle: Kvalt og kørt i vandet: 25-årig erkender drab på kæreste\\nSubtitle: 25-årig mand erkender at have dræbt sin 24-årige kæreste og kørt hende i vandet på Amager Strand i januar sidste år\\n\\nArticle 4:\\nTitle: Se Jokkes bilag: Prins Light\\nSubtitle: Luksuslivet er slut. Bruger penge på Easyjet, sandkage og cola\\n\\nArticle 5:\\nTitle: Formodet serielurer anholdt\\nSubtitle: En 30-årig mand er anholdt for en række blufærdighedskrænkelser i Slagelse. Politiet vil nu undersøge, om han har forbindelse til lignende sager\\n\\nIs the user likely to click on an articles with title Tv-vært kommer med advarsel: Amatøragtigt og dårlig stil and subtitle Tv-værten Mette Bluhme Rieck bliver misbrugt i en reklame, nu kommer hun med en advarsel til alle sine følgere på Instagram? (yes/no)\\n\", 'Given the following titles and subtitles of previously read articles:\\nArticle 1:\\nTitle: Smitten hærger i Giroen: - Et kæmpe chok\\nSubtitle: Remco Evenepoels pludselige exit fra Giro d’Italia som følge af en positiv coronatest er en trist påmindelse om, at virussen fortsat har store konsekvenser for cykelsporten\\n\\nArticle 2:\\nTitle: - Jeg har aldrig været ude for noget lignende\\nSubtitle: De tidligere ejere af Hørebil - også kendt som Sinitone - søgte om offentlig tilskud, selvom de ikke havde solgt et høreapparat, fortæller ny direktør nu til Ekstra Bladet\\n\\nArticle 3:\\nTitle: Her er inflationen over 100 procent: Hæver renten til absurd niveau\\nSubtitle: I Argentina er den ledende rente blevet hævet til 97 procent for at tackle den buldrende inflation, som plager landet\\n\\nArticle 4:\\nTitle: Blev afbrudt under sex: Gav forbipasserende lussing\\nSubtitle: Et par blev afbrudt, imens de havde sex i en gyde lørdag nat. Det fik kvinden til at gå amok\\n\\nArticle 5:\\nTitle: Yankie-røveri: Kvinde dømt\\nSubtitle: En 54-årig kvinde skal en tur bag tremmer, fordi hun ikke ville give afkald på en stjålet Yankie-bar til under fire kroner\\n\\nIs the user likely to click on an articles with title Mette tabte lynhurtigt 10 kilo and subtitle Mette Kaja Møllers ambition var at tabe ti kilo. Det skete mere eller mindre som ved et trylleslag, og endda uden at hun led afsavn. I dag har hun tabt 35 kilo? (yes/no)\\n', \"Given the following titles and subtitles of previously read articles:\\nArticle 1:\\nTitle: 290 minkavlere uden mink står til at få erstatning\\nSubtitle: De minkavlere, som ikke havde mink, da erhvervet blev lukket, har ifølge aftale ret til erstatning alligevel\\n\\nArticle 2:\\nTitle: - Jeg har aldrig været ude for noget lignende\\nSubtitle: De tidligere ejere af Hørebil - også kendt som Sinitone - søgte om offentlig tilskud, selvom de ikke havde solgt et høreapparat, fortæller ny direktør nu til Ekstra Bladet\\n\\nArticle 3:\\nTitle: Bortført pige fundet efter seks år: Genkendt i Netflix-serie\\nSubtitle: En seer af Netflix-serien 'Unsolved Mysteries' har nu medvirket til, at en forsvunden pige er blevet genforenet med sin far\\n\\nArticle 4:\\nTitle: Har du råd? Sænker prisen på sit 'slot' med millioner\\nSubtitle: Konen efter afdøde Jørgen Haugen Sørensen, der var en af landets mest betydningsfulde billedhuggere, har sat ægteparrets fælles gigantiske hus i Italien på markedet.\\n\\nArticle 5:\\nTitle: Afsløring: Brev var tikkende bombe under Kofod\\nSubtitle: I unåde:\\n\\nIs the user likely to click on an articles with title Russisk leder i Kina: Vores forhold har aldrig været bedre and subtitle Ruslands premierminister besøger Kina som den mest højtstående russiske politiker siden Ukraine-krigens start? (yes/no)\\n\", \"Given the following titles and subtitles of previously read articles:\\nArticle 1:\\nTitle: Djokovic inden møde med Rune: Han minder om mig\\nSubtitle: Novak Djokovic ser noget af sig selv i Holger Rune. Onsdag mødes de i kvartfinalen i Italian Open\\n\\nArticle 2:\\nTitle: Uventet hjælp til Holger: - Han skal holdes oppe hele natten\\nSubtitle: Holger Rune kan se frem til uventet hjælp fra Mikael Bertelsen i forhold til braget mod Novak Djokovic onsdag\\n\\nArticle 3:\\nTitle: Prins Harry og hertuginde Meghan jagtet af pressefotograf\\nSubtitle: Ifølge prins Harrys talsperson kunne biljagten være endt katastrofalt\\n\\nArticle 4:\\nTitle: Kørte kvinde ihjel med 251 km/t.: Nu er der nyt om straffen\\nSubtitle: Tilbage i 2021 kørte den daværende Las Vegas Raiders-spiller Henry Ruggs III en kvinde og hendes hund ihjel. Onsdag kom der nyt i retssagen, og Ruggs kan se frem til mellem tre og ti års fængsel\\n\\nArticle 5:\\nTitle: Prisvindende dansk film er blevet suspenderet i Rusland\\nSubtitle: Filmen 'Holy Spider' nåede at blive vist i russiske biografer 11. maj, inden tilladelsen blev trukket tilbage\\n\\nIs the user likely to click on an articles with title Ny trend: Tjener 120.000 pr. måned and subtitle Kontorassistenten, styrmanden, rørlæggeren, butikschefen og IT-directoren er hoppet med på 'vis-din lønseddel'-trenden. Men chaufføren er for flov? (yes/no)\\n\"]}\n"
     ]
    }
   ],
   "source": [
    "for batch in data_loader:\n",
    "    print(batch)\n",
    "    break"
   ]
  },
  {
   "cell_type": "code",
   "execution_count": 114,
   "metadata": {},
   "outputs": [],
   "source": [
    "stop = 10000\n",
    "for i, j in data:\n",
    "    # print(i)\n",
    "    # print('------------------------')\n",
    "    # print(j)\n",
    "    stop -= 1\n",
    "    if stop == 0:\n",
    "        break"
   ]
  },
  {
   "cell_type": "code",
   "execution_count": 115,
   "metadata": {},
   "outputs": [
    {
     "data": {
      "text/plain": [
       "1666.6666666666667"
      ]
     },
     "execution_count": 115,
     "metadata": {},
     "output_type": "execute_result"
    }
   ],
   "source": [
    "10000 / 6"
   ]
  },
  {
   "cell_type": "code",
   "execution_count": 37,
   "metadata": {},
   "outputs": [
    {
     "data": {
      "text/plain": [
       "3"
      ]
     },
     "execution_count": 37,
     "metadata": {},
     "output_type": "execute_result"
    }
   ],
   "source": [
    "a = [1,2,3,4]\n",
    "random.choice(a)"
   ]
  },
  {
   "cell_type": "code",
   "execution_count": 48,
   "metadata": {},
   "outputs": [
    {
     "data": {
      "text/plain": [
       "{'impression_id': 48401,\n",
       " 'impression_time': datetime.datetime(2023, 5, 21, 21, 6, 50),\n",
       " 'read_time': 21.0,\n",
       " 'article_ids_inview': [9774516,\n",
       "  9771051,\n",
       "  9770028,\n",
       "  9775402,\n",
       "  9774461,\n",
       "  9759544,\n",
       "  9773947,\n",
       "  9142581,\n",
       "  9775331,\n",
       "  9775371,\n",
       "  9759966],\n",
       " 'article_ids_clicked': [9759966],\n",
       " 'user_id': 22779,\n",
       " 'session_id': 21}"
      ]
     },
     "execution_count": 48,
     "metadata": {},
     "output_type": "execute_result"
    }
   ],
   "source": [
    "next(iter(data))"
   ]
  },
  {
   "cell_type": "code",
   "execution_count": null,
   "metadata": {},
   "outputs": [],
   "source": [
    "# pandas brrrrrrrrrrr"
   ]
  },
  {
   "cell_type": "code",
   "execution_count": 45,
   "metadata": {},
   "outputs": [],
   "source": [
    "history = load_dataset('Wouter01/RecSys_demo', 'history', cache_dir=\"demo_data\")[\"train\"]"
   ]
  },
  {
   "cell_type": "code",
   "execution_count": 50,
   "metadata": {},
   "outputs": [],
   "source": [
    "pl_history = pl.DataFrame(history.to_pandas())"
   ]
  },
  {
   "cell_type": "code",
   "execution_count": 62,
   "metadata": {},
   "outputs": [],
   "source": [
    "for _ in range(100000):\n",
    "    a = pl_history.filter(pl.col(\"user_id\") == 22779)"
   ]
  },
  {
   "cell_type": "code",
   "execution_count": 52,
   "metadata": {},
   "outputs": [
    {
     "data": {
      "text/html": [
       "<div><style>\n",
       ".dataframe > thead > tr,\n",
       ".dataframe > tbody > tr {\n",
       "  text-align: right;\n",
       "  white-space: pre-wrap;\n",
       "}\n",
       "</style>\n",
       "<small>shape: (1, 5)</small><table border=\"1\" class=\"dataframe\"><thead><tr><th>user_id</th><th>impression_time_fixed</th><th>scroll_percentage_fixed</th><th>article_id_fixed</th><th>read_time_fixed</th></tr><tr><td>u32</td><td>list[datetime[μs]]</td><td>list[f32]</td><td>list[i32]</td><td>list[f32]</td></tr></thead><tbody><tr><td>22779</td><td>[2023-05-17 15:50:15, 2023-05-17 15:51:08, … 2023-05-18 06:26:39]</td><td>[46.0, 100.0, … 15.0]</td><td>[9770333, 9769641, … 9770541]</td><td>[48.0, 148.0, … 7.0]</td></tr></tbody></table></div>"
      ],
      "text/plain": [
       "shape: (1, 5)\n",
       "┌─────────┬───────────────────────┬───────────────────────┬──────────────────────┬─────────────────┐\n",
       "│ user_id ┆ impression_time_fixed ┆ scroll_percentage_fix ┆ article_id_fixed     ┆ read_time_fixed │\n",
       "│ ---     ┆ ---                   ┆ ed                    ┆ ---                  ┆ ---             │\n",
       "│ u32     ┆ list[datetime[μs]]    ┆ ---                   ┆ list[i32]            ┆ list[f32]       │\n",
       "│         ┆                       ┆ list[f32]             ┆                      ┆                 │\n",
       "╞═════════╪═══════════════════════╪═══════════════════════╪══════════════════════╪═════════════════╡\n",
       "│ 22779   ┆ [2023-05-17 15:50:15, ┆ [46.0, 100.0, … 15.0] ┆ [9770333, 9769641, … ┆ [48.0, 148.0, … │\n",
       "│         ┆ 2023-05-…             ┆                       ┆ 9770541]             ┆ 7.0]            │\n",
       "└─────────┴───────────────────────┴───────────────────────┴──────────────────────┴─────────────────┘"
      ]
     },
     "execution_count": 52,
     "metadata": {},
     "output_type": "execute_result"
    }
   ],
   "source": [
    "a"
   ]
  },
  {
   "cell_type": "code",
   "execution_count": 55,
   "metadata": {},
   "outputs": [],
   "source": [
    "pd_history = history.to_pandas()"
   ]
  },
  {
   "cell_type": "code",
   "execution_count": 56,
   "metadata": {},
   "outputs": [],
   "source": [
    "pd_history.set_index(\"user_id\", inplace=True)"
   ]
  },
  {
   "cell_type": "code",
   "execution_count": 92,
   "metadata": {},
   "outputs": [],
   "source": [
    "for _ in range(1000):\n",
    "    a = pd_history.loc[22779]"
   ]
  },
  {
   "cell_type": "code",
   "execution_count": 105,
   "metadata": {},
   "outputs": [
    {
     "name": "stdout",
     "output_type": "stream",
     "text": [
      "9769641\n",
      "9769641\n",
      "9770989\n",
      "9770541\n",
      "9770541\n",
      "0\n"
     ]
    }
   ],
   "source": [
    "for i in a[\"article_id_fixed\"][-5:].tolist() + [0]:\n",
    "    print(i)"
   ]
  },
  {
   "cell_type": "code",
   "execution_count": 74,
   "metadata": {},
   "outputs": [
    {
     "data": {
      "text/plain": [
       "array([9770333, 9769641, 9769888, 9769641, 9770328, 9769641, 9769641,\n",
       "       9770989, 9770541, 9770541], dtype=int32)"
      ]
     },
     "execution_count": 74,
     "metadata": {},
     "output_type": "execute_result"
    }
   ],
   "source": [
    "a[\"article_id_fixed\"]  # duplicates in clicked articles"
   ]
  },
  {
   "cell_type": "code",
   "execution_count": 76,
   "metadata": {},
   "outputs": [
    {
     "data": {
      "text/plain": [
       "impression_time_fixed      [2023-05-17T15:50:15.000000, 2023-05-17T15:51:...\n",
       "scroll_percentage_fixed    [46.0, 100.0, 92.0, 100.0, 100.0, 100.0, 100.0...\n",
       "article_id_fixed           [9770333, 9769641, 9769888, 9769641, 9770328, ...\n",
       "read_time_fixed            [48.0, 148.0, 18.0, 5.0, 83.0, 8.0, 15.0, 10.0...\n",
       "Name: 22779, dtype: object"
      ]
     },
     "execution_count": 76,
     "metadata": {},
     "output_type": "execute_result"
    }
   ],
   "source": [
    "a"
   ]
  },
  {
   "cell_type": "code",
   "execution_count": 77,
   "metadata": {},
   "outputs": [
    {
     "data": {
      "text/plain": [
       "10"
      ]
     },
     "execution_count": 77,
     "metadata": {},
     "output_type": "execute_result"
    }
   ],
   "source": [
    "len(a[\"article_id_fixed\"] )"
   ]
  },
  {
   "cell_type": "code",
   "execution_count": 102,
   "metadata": {},
   "outputs": [
    {
     "data": {
      "text/plain": [
       "[9770333,\n",
       " 9769641,\n",
       " 9769888,\n",
       " 9769641,\n",
       " 9770328,\n",
       " 9769641,\n",
       " 9769641,\n",
       " 9770989,\n",
       " 9770541,\n",
       " 9770541,\n",
       " 0]"
      ]
     },
     "execution_count": 102,
     "metadata": {},
     "output_type": "execute_result"
    }
   ],
   "source": [
    "a[\"article_id_fixed\"].tolist() + [0]"
   ]
  },
  {
   "cell_type": "code",
   "execution_count": 95,
   "metadata": {},
   "outputs": [
    {
     "name": "stdout",
     "output_type": "stream",
     "text": [
      "9770333\n",
      "9769641\n",
      "9769888\n",
      "9769641\n",
      "9770328\n",
      "9769641\n",
      "9769641\n",
      "9770989\n",
      "9770541\n",
      "9770541\n"
     ]
    }
   ],
   "source": [
    "for i in a[\"article_id_fixed\"] + [0]:\n",
    "    print(i)"
   ]
  },
  {
   "cell_type": "code",
   "execution_count": 82,
   "metadata": {},
   "outputs": [],
   "source": [
    "articles = load_dataset('Wouter01/RecSys_demo', 'articles', cache_dir=\"demo_data\")[\"train\"].to_pandas()"
   ]
  },
  {
   "cell_type": "code",
   "execution_count": 83,
   "metadata": {},
   "outputs": [],
   "source": [
    "articles.set_index(\"article_id\", inplace=True)"
   ]
  },
  {
   "cell_type": "code",
   "execution_count": 89,
   "metadata": {},
   "outputs": [],
   "source": [
    "for _ in range(10000):\n",
    "    a= articles.loc[9770989]"
   ]
  }
 ],
 "metadata": {
  "kernelspec": {
   "display_name": "dl2023",
   "language": "python",
   "name": "python3"
  },
  "language_info": {
   "codemirror_mode": {
    "name": "ipython",
    "version": 3
   },
   "file_extension": ".py",
   "mimetype": "text/x-python",
   "name": "python",
   "nbconvert_exporter": "python",
   "pygments_lexer": "ipython3",
   "version": "3.1.-1"
  }
 },
 "nbformat": 4,
 "nbformat_minor": 2
}
