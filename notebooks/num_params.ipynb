{
 "cells": [
  {
   "cell_type": "code",
   "execution_count": null,
   "metadata": {},
   "outputs": [],
   "source": [
    "import sys\n",
    "sys.path.append('../code')"
   ]
  },
  {
   "cell_type": "code",
   "execution_count": null,
   "metadata": {},
   "outputs": [],
   "source": [
    "from models.cg_model import CG_model\n",
    "from models.cg_classifier import CG_classifier_model\n",
    "from models.qa_fast_model import QA_fast_model\n",
    "from models.qa_model import QA_model"
   ]
  },
  {
   "cell_type": "code",
   "execution_count": null,
   "metadata": {},
   "outputs": [],
   "source": [
    "from dataclasses import dataclass\n",
    "\n",
    "\n",
    "@dataclass\n",
    "class ArgsVal:\n",
    "    dataset: str = \"demo\"\n",
    "    batch_size: int = 1\n",
    "    num_workers: int = 4\n",
    "    T: int = 4  # number of previous articles to consider in the prompt\n",
    "    datafraction: float = 1.0  # how much of entire dataset to use\n",
    "    old: bool = True  # load checkpoints for model and not via modelwrapper\n",
    "    from_checkpoint: str = \"clean/model_0.0001.pth\"  # path to checkpoint locally\n",
    "    model: str = \"CG\"  # conditional generation\n",
    "    backbone: str = \"google/mt5-small\"\n",
    "    tokenizer: str = \"google/mt5-small\"\n",
    "    evaltrain: bool = False  # allows for evaluation on training set\n",
    "\n",
    "args = ArgsVal()"
   ]
  },
  {
   "cell_type": "code",
   "execution_count": null,
   "metadata": {},
   "outputs": [],
   "source": [
    "m1 = CG_model(args)\n",
    "m2 = CG_classifier_model(args)\n",
    "m3 = QA_fast_model(args)\n",
    "m4 = QA_model(args)"
   ]
  },
  {
   "cell_type": "code",
   "execution_count": 6,
   "metadata": {},
   "outputs": [
    {
     "data": {
      "text/plain": [
       "(300176768, 172119937, 172120450, 172120450)"
      ]
     },
     "execution_count": 6,
     "metadata": {},
     "output_type": "execute_result"
    }
   ],
   "source": [
    "sum(p.numel() for p in m1.parameters()), sum(p.numel() for p in m2.parameters()), sum(p.numel() for p in m3.parameters()), sum(p.numel() for p in m4.parameters())"
   ]
  }
 ],
 "metadata": {
  "kernelspec": {
   "display_name": "RecSys",
   "language": "python",
   "name": "python3"
  },
  "language_info": {
   "codemirror_mode": {
    "name": "ipython",
    "version": 3
   },
   "file_extension": ".py",
   "mimetype": "text/x-python",
   "name": "python",
   "nbconvert_exporter": "python",
   "pygments_lexer": "ipython3",
   "version": "3.11.9"
  }
 },
 "nbformat": 4,
 "nbformat_minor": 2
}
