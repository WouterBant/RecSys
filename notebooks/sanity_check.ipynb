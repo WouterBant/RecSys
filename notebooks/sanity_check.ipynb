{
 "cells": [
  {
   "cell_type": "code",
   "execution_count": 1,
   "metadata": {},
   "outputs": [
    {
     "name": "stderr",
     "output_type": "stream",
     "text": [
      "/home/wouter/miniconda3/envs/dl2023/lib/python3.11/site-packages/transformers/utils/generic.py:441: UserWarning: torch.utils._pytree._register_pytree_node is deprecated. Please use torch.utils._pytree.register_pytree_node instead.\n",
      "  _torch_pytree._register_pytree_node(\n"
     ]
    }
   ],
   "source": [
    "import torch\n",
    "from torch.utils.data import Dataset, DataLoader\n",
    "from datasets import load_dataset\n",
    "from transformers import AutoTokenizer\n",
    "import random"
   ]
  },
  {
   "cell_type": "code",
   "execution_count": 2,
   "metadata": {},
   "outputs": [],
   "source": [
    "dataset = 'large'\n",
    "split = 'train'"
   ]
  },
  {
   "cell_type": "code",
   "execution_count": 3,
   "metadata": {},
   "outputs": [
    {
     "data": {
      "application/vnd.jupyter.widget-view+json": {
       "model_id": "1b5af137a5ec4d1f80fe4268ff2db15a",
       "version_major": 2,
       "version_minor": 0
      },
      "text/plain": [
       "Downloading data:   0%|          | 0.00/244M [00:00<?, ?B/s]"
      ]
     },
     "metadata": {},
     "output_type": "display_data"
    },
    {
     "data": {
      "application/vnd.jupyter.widget-view+json": {
       "model_id": "22228a68a64341109a3c276e71c63cc3",
       "version_major": 2,
       "version_minor": 0
      },
      "text/plain": [
       "Downloading data:   0%|          | 0.00/244M [00:00<?, ?B/s]"
      ]
     },
     "metadata": {},
     "output_type": "display_data"
    },
    {
     "data": {
      "application/vnd.jupyter.widget-view+json": {
       "model_id": "ed536615eaed452ba7eeb246c8ee5969",
       "version_major": 2,
       "version_minor": 0
      },
      "text/plain": [
       "Downloading data:   0%|          | 0.00/175M [00:00<?, ?B/s]"
      ]
     },
     "metadata": {},
     "output_type": "display_data"
    },
    {
     "data": {
      "application/vnd.jupyter.widget-view+json": {
       "model_id": "63c608e885b4492e94f77341db6c7913",
       "version_major": 2,
       "version_minor": 0
      },
      "text/plain": [
       "Downloading data:   0%|          | 0.00/175M [00:00<?, ?B/s]"
      ]
     },
     "metadata": {},
     "output_type": "display_data"
    },
    {
     "data": {
      "application/vnd.jupyter.widget-view+json": {
       "model_id": "56db16cbac2a4514a3edcd63baa9556e",
       "version_major": 2,
       "version_minor": 0
      },
      "text/plain": [
       "Downloading data:   0%|          | 0.00/174M [00:00<?, ?B/s]"
      ]
     },
     "metadata": {},
     "output_type": "display_data"
    },
    {
     "data": {
      "application/vnd.jupyter.widget-view+json": {
       "model_id": "78eee3ffc8bf4b169a162b0b2960d976",
       "version_major": 2,
       "version_minor": 0
      },
      "text/plain": [
       "Generating train split:   0%|          | 0/12063890 [00:00<?, ? examples/s]"
      ]
     },
     "metadata": {},
     "output_type": "display_data"
    },
    {
     "data": {
      "application/vnd.jupyter.widget-view+json": {
       "model_id": "ea00052f6a304afcba140adda6d17bdf",
       "version_major": 2,
       "version_minor": 0
      },
      "text/plain": [
       "Generating validation split:   0%|          | 0/12566385 [00:00<?, ? examples/s]"
      ]
     },
     "metadata": {},
     "output_type": "display_data"
    },
    {
     "data": {
      "application/vnd.jupyter.widget-view+json": {
       "model_id": "c5e12756dca4495182fc719435b2cac4",
       "version_major": 2,
       "version_minor": 0
      },
      "text/plain": [
       "Downloading data:   0%|          | 0.00/17.3M [00:00<?, ?B/s]"
      ]
     },
     "metadata": {},
     "output_type": "display_data"
    },
    {
     "data": {
      "application/vnd.jupyter.widget-view+json": {
       "model_id": "944a5ee62fdc4c0a852a180caf90a240",
       "version_major": 2,
       "version_minor": 0
      },
      "text/plain": [
       "Generating train split:   0%|          | 0/125541 [00:00<?, ? examples/s]"
      ]
     },
     "metadata": {},
     "output_type": "display_data"
    },
    {
     "data": {
      "application/vnd.jupyter.widget-view+json": {
       "model_id": "0f025ba618e94ab3811d54bd6b444046",
       "version_major": 2,
       "version_minor": 0
      },
      "text/plain": [
       "Downloading data:   0%|          | 0.00/104M [00:00<?, ?B/s]"
      ]
     },
     "metadata": {},
     "output_type": "display_data"
    },
    {
     "data": {
      "application/vnd.jupyter.widget-view+json": {
       "model_id": "48b93c996bc44d38a792ed26e4b1ea44",
       "version_major": 2,
       "version_minor": 0
      },
      "text/plain": [
       "Downloading data:   0%|          | 0.00/104M [00:00<?, ?B/s]"
      ]
     },
     "metadata": {},
     "output_type": "display_data"
    },
    {
     "data": {
      "application/vnd.jupyter.widget-view+json": {
       "model_id": "48cdc36e736f49669f029bdca3d688af",
       "version_major": 2,
       "version_minor": 0
      },
      "text/plain": [
       "Generating train split:   0%|          | 0/788090 [00:00<?, ? examples/s]"
      ]
     },
     "metadata": {},
     "output_type": "display_data"
    },
    {
     "data": {
      "application/vnd.jupyter.widget-view+json": {
       "model_id": "500c61e4110b41feb1ebcb8ccaec2fef",
       "version_major": 2,
       "version_minor": 0
      },
      "text/plain": [
       "Generating validation split:   0%|          | 0/791582 [00:00<?, ? examples/s]"
      ]
     },
     "metadata": {},
     "output_type": "display_data"
    }
   ],
   "source": [
    "behaviors = load_dataset(f'Wouter01/RecSys_{dataset}', 'behaviors', cache_dir=f\"{dataset}_data\")[split]\n",
    "articles = load_dataset(f'Wouter01/RecSys_{dataset}', 'articles', cache_dir=f\"{dataset}_data\")[split].to_pandas()\n",
    "history = load_dataset(f'Wouter01/RecSys_{dataset}', 'history', cache_dir=f\"{dataset}_data\")[split].to_pandas()"
   ]
  },
  {
   "cell_type": "code",
   "execution_count": 4,
   "metadata": {},
   "outputs": [],
   "source": [
    "history.set_index(\"user_id\", inplace=True)\n",
    "articles.set_index(\"article_id\", inplace=True)"
   ]
  },
  {
   "cell_type": "code",
   "execution_count": 33,
   "metadata": {},
   "outputs": [],
   "source": [
    "behavior = behaviors[10387481]\n"
   ]
  },
  {
   "cell_type": "code",
   "execution_count": 34,
   "metadata": {},
   "outputs": [
    {
     "data": {
      "text/plain": [
       "{'impression_id': 496822250,\n",
       " 'impression_time': datetime.datetime(2023, 5, 21, 5, 49, 42),\n",
       " 'read_time': 8.0,\n",
       " 'article_ids_inview': [9773857, 9773350, 9769531, 9771996, 9774297],\n",
       " 'article_ids_clicked': [9773350],\n",
       " 'user_id': 195701,\n",
       " 'session_id': 40393275}"
      ]
     },
     "execution_count": 34,
     "metadata": {},
     "output_type": "execute_result"
    }
   ],
   "source": [
    "behavior"
   ]
  },
  {
   "cell_type": "code",
   "execution_count": 35,
   "metadata": {},
   "outputs": [
    {
     "data": {
      "text/plain": [
       "195701"
      ]
     },
     "execution_count": 35,
     "metadata": {},
     "output_type": "execute_result"
    }
   ],
   "source": [
    "user_id = behavior['user_id']\n",
    "user_id"
   ]
  },
  {
   "cell_type": "code",
   "execution_count": 36,
   "metadata": {},
   "outputs": [],
   "source": [
    "his = history.loc[user_id]"
   ]
  },
  {
   "cell_type": "code",
   "execution_count": 37,
   "metadata": {},
   "outputs": [
    {
     "data": {
      "text/plain": [
       "array([9767604, 9767604, 9768564, 9768583, 9768860, 9770799, 9770799,\n",
       "       9770541, 9770882, 9763284], dtype=int32)"
      ]
     },
     "execution_count": 37,
     "metadata": {},
     "output_type": "execute_result"
    }
   ],
   "source": [
    "prev_articles = his[\"article_id_fixed\"]\n",
    "prev_articles"
   ]
  },
  {
   "cell_type": "code",
   "execution_count": 38,
   "metadata": {},
   "outputs": [
    {
     "name": "stdout",
     "output_type": "stream",
     "text": [
      "Ny gruppe af 'vrede mænd' vil redde Putin\n",
      "I Rusland har en ny gruppe med en gammel kending i spidsen stukket næsen frem. De kalder sig Vrede Patrioter\n",
      "-------\n",
      "Ny gruppe af 'vrede mænd' vil redde Putin\n",
      "I Rusland har en ny gruppe med en gammel kending i spidsen stukket næsen frem. De kalder sig Vrede Patrioter\n",
      "-------\n",
      "Voldsdømt dansker slår superstjerne\n",
      "HITLISTENYT:\n",
      "-------\n",
      "Katastrofe: Leverpostejsafgift\n",
      "Voldsom debat om den kilometerafgift, som danske vognmænd skal betale fra 2025. For hvor meget dyrere bliver dine varer - og vil du gerne betale?\n",
      "-------\n",
      "Aftale om USA's gældsloft kan lande senere på ugen\n",
      "Selv om Joe Biden og republikanerne er langt fra hinanden, kan en aftale om gældsloftet lande senere på ugen\n",
      "-------\n",
      "Total ydmygelse: City smadrer Real Madrid og er klar til CL-finalen\n",
      "Manchester City møder Inter i Champions League-finalen efter en sikker 4-0-sejr over Real Madrid\n",
      "-------\n",
      "Total ydmygelse: City smadrer Real Madrid og er klar til CL-finalen\n",
      "Manchester City møder Inter i Champions League-finalen efter en sikker 4-0-sejr over Real Madrid\n",
      "-------\n",
      "Har du råd? Sænker prisen på sit 'slot' med millioner\n",
      "Konen efter afdøde Jørgen Haugen Sørensen, der var en af landets mest betydningsfulde billedhuggere, har sat ægteparrets fælles gigantiske hus i Italien på markedet.\n",
      "-------\n",
      "Wagner-chef afviser russiske meldinger om fremgang\n",
      "Ruslands forsvarsministerium tager ifølge Jevgenij Prigozjin fejl med dets påstande om fremgang i Bakhmut\n",
      "-------\n",
      "Fuskede med fisk: Nu skal de i fængsel\n",
      "Klaptorsk:\n",
      "-------\n"
     ]
    }
   ],
   "source": [
    "for art_id in prev_articles:\n",
    "    print(articles.loc[art_id][\"title\"])\n",
    "    print(articles.loc[art_id][\"subtitle\"])\n",
    "    print(\"-------\")"
   ]
  },
  {
   "cell_type": "code",
   "execution_count": 39,
   "metadata": {},
   "outputs": [
    {
     "name": "stdout",
     "output_type": "stream",
     "text": [
      "Kongehuskommentator: Striden er ikke bilagt\n",
      "Striden i kongehuset er endnu ikke bilagt, vurderer Ekstra Bladets kongehuskommentator, Kim Bach, der hæfter sig ved særligt en detalje fra grev Henriks konfirmation\n"
     ]
    }
   ],
   "source": [
    "# clicked article\n",
    "print(articles.loc[behavior[\"article_ids_clicked\"][0]][\"title\"])\n",
    "print(articles.loc[behavior[\"article_ids_clicked\"][0]][\"subtitle\"])"
   ]
  },
  {
   "cell_type": "code",
   "execution_count": 27,
   "metadata": {},
   "outputs": [
    {
     "data": {
      "text/plain": [
       "[9773295]"
      ]
     },
     "execution_count": 27,
     "metadata": {},
     "output_type": "execute_result"
    }
   ],
   "source": [
    "behavior[\"article_ids_clicked\"]"
   ]
  }
 ],
 "metadata": {
  "kernelspec": {
   "display_name": "dl2023",
   "language": "python",
   "name": "python3"
  },
  "language_info": {
   "codemirror_mode": {
    "name": "ipython",
    "version": 3
   },
   "file_extension": ".py",
   "mimetype": "text/x-python",
   "name": "python",
   "nbconvert_exporter": "python",
   "pygments_lexer": "ipython3",
   "version": "3.11.5"
  }
 },
 "nbformat": 4,
 "nbformat_minor": 2
}
